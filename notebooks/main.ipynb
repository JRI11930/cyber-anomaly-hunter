{
 "cells": [
  {
   "cell_type": "markdown",
   "metadata": {},
   "source": [
    "<div style=\"\n",
    "    display: flex;\n",
    "    justify-content: center;\n",
    "    align-items: center;\n",
    "    background: linear-gradient(to bottom, #F5F5DC, #C0C0C0);\n",
    "    padding: 10px;\n",
    "    border-radius: 10px;\n",
    "\">\n",
    "    <img src=\"../samsung.png\" alt=\"Samsung Innovation Campus\" style=\"border-radius: 5px;\">\n",
    "</div>\n",
    "<div style=\"\n",
    "    text-align: center;\n",
    "    font-style: italic;\n",
    "\">\n",
    "    Este proyecto fue desarrollado dentro del marco del programa Samsun Innovation Campus 2024\n",
    "</div>\n",
    "\n",
    "<b>PRESENTAN</b>: José Armando Ramírez Islas & Jorge Octavio Nicolás Díaz"
   ]
  }
 ],
 "metadata": {
  "language_info": {
   "name": "python"
  }
 },
 "nbformat": 4,
 "nbformat_minor": 2
}
