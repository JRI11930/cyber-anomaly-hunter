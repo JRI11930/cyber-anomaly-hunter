{
 "cells": [
  {
   "cell_type": "markdown",
   "metadata": {},
   "source": [
    "# __Preprocesamiento de datos para el perceptron multicapa__"
   ]
  },
  {
   "cell_type": "markdown",
   "metadata": {},
   "source": [
    "### 1️⃣ __Importacion de modulos__"
   ]
  },
  {
   "cell_type": "code",
   "execution_count": 2,
   "metadata": {},
   "outputs": [
    {
     "name": "stdout",
     "output_type": "stream",
     "text": [
      "Versión de TensorFlow: 2.10.0\n",
      "Dispositivos físicos disponibles: [PhysicalDevice(name='/physical_device:CPU:0', device_type='CPU')]\n",
      "Dispositivos GPU: []\n",
      "¿CUDA habilitado?: False\n",
      "WARNING:tensorflow:From C:\\Users\\t4v0s\\AppData\\Local\\Temp\\ipykernel_12300\\113363803.py:23: is_gpu_available (from tensorflow.python.framework.test_util) is deprecated and will be removed in a future version.\n",
      "Instructions for updating:\n",
      "Use `tf.config.list_physical_devices('GPU')` instead.\n",
      "¿GPU disponible?: False\n"
     ]
    }
   ],
   "source": [
    "import dask.dataframe as dd\n",
    "import pandas as pd\n",
    "import os\n",
    "import pickle  # Usado en normalize_data para guardar el scaler\n",
    "from sklearn.preprocessing import MinMaxScaler\n",
    "from sklearn.preprocessing import OneHotEncoder\n",
    "from sklearn.model_selection import train_test_split  # Usado para dividir datos en train y test\n",
    "from sklearn.metrics import confusion_matrix, classification_report\n",
    "import seaborn as sns\n",
    "\n",
    "import matplotlib.pyplot as plt\n",
    "\n",
    "from tensorflow.keras.models import Model\n",
    "from tensorflow.keras.layers import Dense, Input, Activation\n",
    "from tensorflow.keras.optimizers import SGD, Adam\n",
    "\n",
    "import tensorflow as tf\n",
    "\n",
    "print(\"Versión de TensorFlow:\", tf.__version__)\n",
    "print(\"Dispositivos físicos disponibles:\", tf.config.list_physical_devices())\n",
    "print(\"Dispositivos GPU:\", tf.config.list_physical_devices('GPU'))\n",
    "print(\"¿CUDA habilitado?:\", tf.test.is_built_with_cuda())\n",
    "print(\"¿GPU disponible?:\", tf.test.is_gpu_available())"
   ]
  },
  {
   "cell_type": "markdown",
   "metadata": {},
   "source": [
    "### 2️⃣ __Leer el CSV preprocesado__"
   ]
  },
  {
   "cell_type": "code",
   "execution_count": 3,
   "metadata": {},
   "outputs": [],
   "source": [
    "ctu13_df = dd.read_csv('./preprocessing_data/dataset_procesado.csv')"
   ]
  },
  {
   "cell_type": "markdown",
   "metadata": {},
   "source": [
    "### 3️⃣ __Obtenemos los flujos de red que solamente pertenecen a una botnet__"
   ]
  },
  {
   "cell_type": "code",
   "execution_count": 4,
   "metadata": {},
   "outputs": [
    {
     "data": {
      "text/plain": [
       "(339700, 17)"
      ]
     },
     "execution_count": 4,
     "metadata": {},
     "output_type": "execute_result"
    }
   ],
   "source": [
    "df_botnets = ctu13_df[ctu13_df['is_botnet'] == 1].copy()\n",
    "df_botnets.compute().shape"
   ]
  },
  {
   "cell_type": "markdown",
   "metadata": {},
   "source": [
    "### 4️⃣ __Asignamos una etiqueta objetivo idnetificando cada tipo de botnet a clasificar__"
   ]
  },
  {
   "cell_type": "code",
   "execution_count": 5,
   "metadata": {},
   "outputs": [
    {
     "data": {
      "text/plain": [
       "target\n",
       "3    106352\n",
       "5     40003\n",
       "1      6127\n",
       "0        63\n",
       "2    184987\n",
       "4      2168\n",
       "Name: count, dtype: int64"
      ]
     },
     "execution_count": 5,
     "metadata": {},
     "output_type": "execute_result"
    }
   ],
   "source": [
    "escenarios = {0: 'Sogou', 1: 'Murlo', 2: 'Neris', 3: 'RBot', 4: 'NsisAy', 5: 'Virut'}\n",
    "df_botnets['target'] = df_botnets['BOTNET_NAME'].map({v: k for k, v in escenarios.items()}, meta=('BOTNET_NAME', 'int64'))\n",
    "df_botnets['target'].value_counts().compute()"
   ]
  },
  {
   "cell_type": "markdown",
   "metadata": {},
   "source": [
    "### 5️⃣ __Eliminamos las columnas innecesarias__"
   ]
  },
  {
   "cell_type": "code",
   "execution_count": 6,
   "metadata": {},
   "outputs": [
    {
     "data": {
      "text/html": [
       "<div>\n",
       "<style scoped>\n",
       "    .dataframe tbody tr th:only-of-type {\n",
       "        vertical-align: middle;\n",
       "    }\n",
       "\n",
       "    .dataframe tbody tr th {\n",
       "        vertical-align: top;\n",
       "    }\n",
       "\n",
       "    .dataframe thead th {\n",
       "        text-align: right;\n",
       "    }\n",
       "</style>\n",
       "<table border=\"1\" class=\"dataframe\">\n",
       "  <thead>\n",
       "    <tr style=\"text-align: right;\">\n",
       "      <th></th>\n",
       "      <th>Dur</th>\n",
       "      <th>Proto</th>\n",
       "      <th>Sport</th>\n",
       "      <th>Dir</th>\n",
       "      <th>Dport</th>\n",
       "      <th>sTos</th>\n",
       "      <th>dTos</th>\n",
       "      <th>TotPkts</th>\n",
       "      <th>TotBytes</th>\n",
       "      <th>SrcBytes</th>\n",
       "      <th>label</th>\n",
       "      <th>target</th>\n",
       "    </tr>\n",
       "  </thead>\n",
       "  <tbody>\n",
       "    <tr>\n",
       "      <th>14659</th>\n",
       "      <td>0.000274</td>\n",
       "      <td>udp</td>\n",
       "      <td>1025.0</td>\n",
       "      <td>&lt;-&gt;</td>\n",
       "      <td>53.0</td>\n",
       "      <td>0.0</td>\n",
       "      <td>0.0</td>\n",
       "      <td>2.0</td>\n",
       "      <td>203.0</td>\n",
       "      <td>64.0</td>\n",
       "      <td>Sogou</td>\n",
       "      <td>0</td>\n",
       "    </tr>\n",
       "    <tr>\n",
       "      <th>14888</th>\n",
       "      <td>0.010509</td>\n",
       "      <td>udp</td>\n",
       "      <td>1025.0</td>\n",
       "      <td>&lt;-&gt;</td>\n",
       "      <td>53.0</td>\n",
       "      <td>0.0</td>\n",
       "      <td>0.0</td>\n",
       "      <td>2.0</td>\n",
       "      <td>590.0</td>\n",
       "      <td>87.0</td>\n",
       "      <td>Sogou</td>\n",
       "      <td>0</td>\n",
       "    </tr>\n",
       "    <tr>\n",
       "      <th>14892</th>\n",
       "      <td>0.054527</td>\n",
       "      <td>tcp</td>\n",
       "      <td>1027.0</td>\n",
       "      <td>-&gt;</td>\n",
       "      <td>80.0</td>\n",
       "      <td>0.0</td>\n",
       "      <td>0.0</td>\n",
       "      <td>7.0</td>\n",
       "      <td>882.0</td>\n",
       "      <td>629.0</td>\n",
       "      <td>Sogou</td>\n",
       "      <td>0</td>\n",
       "    </tr>\n",
       "    <tr>\n",
       "      <th>15090</th>\n",
       "      <td>0.000502</td>\n",
       "      <td>udp</td>\n",
       "      <td>1025.0</td>\n",
       "      <td>&lt;-&gt;</td>\n",
       "      <td>53.0</td>\n",
       "      <td>0.0</td>\n",
       "      <td>0.0</td>\n",
       "      <td>2.0</td>\n",
       "      <td>479.0</td>\n",
       "      <td>76.0</td>\n",
       "      <td>Sogou</td>\n",
       "      <td>0</td>\n",
       "    </tr>\n",
       "    <tr>\n",
       "      <th>15092</th>\n",
       "      <td>2.995112</td>\n",
       "      <td>udp</td>\n",
       "      <td>123.0</td>\n",
       "      <td>-&gt;</td>\n",
       "      <td>123.0</td>\n",
       "      <td>0.0</td>\n",
       "      <td>0.0</td>\n",
       "      <td>2.0</td>\n",
       "      <td>180.0</td>\n",
       "      <td>180.0</td>\n",
       "      <td>Sogou</td>\n",
       "      <td>0</td>\n",
       "    </tr>\n",
       "    <tr>\n",
       "      <th>...</th>\n",
       "      <td>...</td>\n",
       "      <td>...</td>\n",
       "      <td>...</td>\n",
       "      <td>...</td>\n",
       "      <td>...</td>\n",
       "      <td>...</td>\n",
       "      <td>...</td>\n",
       "      <td>...</td>\n",
       "      <td>...</td>\n",
       "      <td>...</td>\n",
       "      <td>...</td>\n",
       "      <td>...</td>\n",
       "    </tr>\n",
       "    <tr>\n",
       "      <th>411906</th>\n",
       "      <td>1.308413</td>\n",
       "      <td>tcp</td>\n",
       "      <td>23049.0</td>\n",
       "      <td>-&gt;</td>\n",
       "      <td>443.0</td>\n",
       "      <td>0.0</td>\n",
       "      <td>0.0</td>\n",
       "      <td>6.0</td>\n",
       "      <td>366.0</td>\n",
       "      <td>186.0</td>\n",
       "      <td>Virut</td>\n",
       "      <td>5</td>\n",
       "    </tr>\n",
       "    <tr>\n",
       "      <th>411987</th>\n",
       "      <td>1.207547</td>\n",
       "      <td>tcp</td>\n",
       "      <td>23050.0</td>\n",
       "      <td>-&gt;</td>\n",
       "      <td>443.0</td>\n",
       "      <td>0.0</td>\n",
       "      <td>0.0</td>\n",
       "      <td>6.0</td>\n",
       "      <td>366.0</td>\n",
       "      <td>186.0</td>\n",
       "      <td>Virut</td>\n",
       "      <td>5</td>\n",
       "    </tr>\n",
       "    <tr>\n",
       "      <th>412081</th>\n",
       "      <td>1.307525</td>\n",
       "      <td>tcp</td>\n",
       "      <td>23051.0</td>\n",
       "      <td>-&gt;</td>\n",
       "      <td>443.0</td>\n",
       "      <td>0.0</td>\n",
       "      <td>0.0</td>\n",
       "      <td>6.0</td>\n",
       "      <td>366.0</td>\n",
       "      <td>186.0</td>\n",
       "      <td>Virut</td>\n",
       "      <td>5</td>\n",
       "    </tr>\n",
       "    <tr>\n",
       "      <th>412161</th>\n",
       "      <td>1.308276</td>\n",
       "      <td>tcp</td>\n",
       "      <td>23052.0</td>\n",
       "      <td>-&gt;</td>\n",
       "      <td>443.0</td>\n",
       "      <td>0.0</td>\n",
       "      <td>0.0</td>\n",
       "      <td>6.0</td>\n",
       "      <td>366.0</td>\n",
       "      <td>186.0</td>\n",
       "      <td>Virut</td>\n",
       "      <td>5</td>\n",
       "    </tr>\n",
       "    <tr>\n",
       "      <th>412242</th>\n",
       "      <td>0.146164</td>\n",
       "      <td>tcp</td>\n",
       "      <td>23053.0</td>\n",
       "      <td>-&gt;</td>\n",
       "      <td>443.0</td>\n",
       "      <td>0.0</td>\n",
       "      <td>0.0</td>\n",
       "      <td>2.0</td>\n",
       "      <td>122.0</td>\n",
       "      <td>62.0</td>\n",
       "      <td>Virut</td>\n",
       "      <td>5</td>\n",
       "    </tr>\n",
       "  </tbody>\n",
       "</table>\n",
       "<p>339700 rows × 12 columns</p>\n",
       "</div>"
      ],
      "text/plain": [
       "             Dur Proto    Sport    Dir  Dport  sTos  dTos  TotPkts  TotBytes  \\\n",
       "14659   0.000274   udp   1025.0    <->   53.0   0.0   0.0      2.0     203.0   \n",
       "14888   0.010509   udp   1025.0    <->   53.0   0.0   0.0      2.0     590.0   \n",
       "14892   0.054527   tcp   1027.0     ->   80.0   0.0   0.0      7.0     882.0   \n",
       "15090   0.000502   udp   1025.0    <->   53.0   0.0   0.0      2.0     479.0   \n",
       "15092   2.995112   udp    123.0     ->  123.0   0.0   0.0      2.0     180.0   \n",
       "...          ...   ...      ...    ...    ...   ...   ...      ...       ...   \n",
       "411906  1.308413   tcp  23049.0     ->  443.0   0.0   0.0      6.0     366.0   \n",
       "411987  1.207547   tcp  23050.0     ->  443.0   0.0   0.0      6.0     366.0   \n",
       "412081  1.307525   tcp  23051.0     ->  443.0   0.0   0.0      6.0     366.0   \n",
       "412161  1.308276   tcp  23052.0     ->  443.0   0.0   0.0      6.0     366.0   \n",
       "412242  0.146164   tcp  23053.0     ->  443.0   0.0   0.0      2.0     122.0   \n",
       "\n",
       "        SrcBytes  label  target  \n",
       "14659       64.0  Sogou       0  \n",
       "14888       87.0  Sogou       0  \n",
       "14892      629.0  Sogou       0  \n",
       "15090       76.0  Sogou       0  \n",
       "15092      180.0  Sogou       0  \n",
       "...          ...    ...     ...  \n",
       "411906     186.0  Virut       5  \n",
       "411987     186.0  Virut       5  \n",
       "412081     186.0  Virut       5  \n",
       "412161     186.0  Virut       5  \n",
       "412242      62.0  Virut       5  \n",
       "\n",
       "[339700 rows x 12 columns]"
      ]
     },
     "execution_count": 6,
     "metadata": {},
     "output_type": "execute_result"
    }
   ],
   "source": [
    "df_only_botnets = df_botnets.drop(['StartTime', 'SrcAddr', 'DstAddr', 'State', 'Label', 'is_botnet'], axis=1).copy()\n",
    "df_only_botnets = df_only_botnets.rename(columns={'BOTNET_NAME': 'label'})\n",
    "\n",
    "df_only_botnets.compute()"
   ]
  },
  {
   "cell_type": "markdown",
   "metadata": {},
   "source": [
    "### __Definir columnas numéricas y categóricas__"
   ]
  },
  {
   "cell_type": "code",
   "execution_count": 7,
   "metadata": {},
   "outputs": [
    {
     "name": "stdout",
     "output_type": "stream",
     "text": [
      "Columnas numericas: ['Dur', 'Sport', 'Dport', 'TotPkts', 'TotBytes', 'SrcBytes']\n",
      "Columnas categoricas: ['Proto', 'dTos', 'Dir', 'sTos']\n"
     ]
    }
   ],
   "source": [
    "\n",
    "numerical_columns = ['Dur', 'Sport', 'Dport', 'TotPkts', 'TotBytes', 'SrcBytes']\n",
    "categorical_columns = list(set(df_only_botnets.columns) - set(numerical_columns))\n",
    "categorical_columns.remove('target')\n",
    "categorical_columns.remove('label')\n",
    "print(\"Columnas numericas:\", numerical_columns)\n",
    "print(\"Columnas categoricas:\", categorical_columns)"
   ]
  },
  {
   "cell_type": "markdown",
   "metadata": {},
   "source": [
    "### __Normalizar columnas numéricas__"
   ]
  },
  {
   "cell_type": "code",
   "execution_count": 8,
   "metadata": {},
   "outputs": [
    {
     "name": "stdout",
     "output_type": "stream",
     "text": [
      "Tipo de DataFrame: <class 'pandas.core.frame.DataFrame'>\n"
     ]
    },
    {
     "data": {
      "text/plain": [
       "(             Dur     Sport         Dport   TotPkts      TotBytes  \\\n",
       " 0       0.000039  0.015610  9.646909e-08  0.000006  1.492015e-06   \n",
       " 1       0.000098  0.023454  9.646909e-08  0.000006  1.398314e-06   \n",
       " 2       0.000038  0.030397  9.646909e-08  0.000006  1.066755e-06   \n",
       " 3       0.000000  0.042833  4.452420e-08  0.000000  1.441561e-08   \n",
       " 4       0.000047  0.023454  9.646909e-08  0.000006  1.304613e-06   \n",
       " ...          ...       ...           ...       ...           ...   \n",
       " 339695  0.000363  0.117284  8.199873e-07  0.000028  2.205588e-06   \n",
       " 339696  0.000835  0.041323  1.236660e-05  0.000006  4.612995e-07   \n",
       " 339697  0.000363  0.162147  8.199873e-07  0.000028  2.205588e-06   \n",
       " 339698  0.000000  0.237743  2.478885e-05  0.000000  7.251051e-06   \n",
       " 339699  0.000000  0.607312  6.285332e-06  0.000000  7.251051e-06   \n",
       " \n",
       "             SrcBytes  sTos_0.0  dTos_0.0  dTos_2.0  Dir_   ->  Dir_  <->  \\\n",
       " 0       7.207804e-08         1         1         0          0          1   \n",
       " 1       6.487024e-08         1         1         0          0          1   \n",
       " 2       9.370145e-08         1         1         0          0          1   \n",
       " 3       1.441561e-08         1         1         0          1          0   \n",
       " 4       4.324682e-08         1         1         0          0          1   \n",
       " ...              ...       ...       ...       ...        ...        ...   \n",
       " 339695  9.081833e-07         1         1         0          1          0   \n",
       " 339696  4.612995e-07         1         1         0          1          0   \n",
       " 339697  9.081833e-07         1         1         0          1          0   \n",
       " 339698  7.251051e-06         1         1         0          1          0   \n",
       " 339699  7.251051e-06         1         1         0          1          0   \n",
       " \n",
       "         Proto_icmp  Proto_rtp  Proto_tcp  Proto_udp  \n",
       " 0                0          0          0          1  \n",
       " 1                0          0          0          1  \n",
       " 2                0          0          0          1  \n",
       " 3                0          0          1          0  \n",
       " 4                0          0          0          1  \n",
       " ...            ...        ...        ...        ...  \n",
       " 339695           0          0          1          0  \n",
       " 339696           0          0          1          0  \n",
       " 339697           0          0          1          0  \n",
       " 339698           1          0          0          0  \n",
       " 339699           1          0          0          0  \n",
       " \n",
       " [339700 rows x 15 columns],\n",
       " 0         2\n",
       " 1         2\n",
       " 2         2\n",
       " 3         2\n",
       " 4         2\n",
       "          ..\n",
       " 339695    5\n",
       " 339696    2\n",
       " 339697    5\n",
       " 339698    3\n",
       " 339699    3\n",
       " Name: target, Length: 339700, dtype: int64,\n",
       " 0         Neris\n",
       " 1         Neris\n",
       " 2         Neris\n",
       " 3         Neris\n",
       " 4         Neris\n",
       "           ...  \n",
       " 339695    Virut\n",
       " 339696    Neris\n",
       " 339697    Virut\n",
       " 339698     RBot\n",
       " 339699     RBot\n",
       " Name: label, Length: 339700, dtype: object)"
      ]
     },
     "execution_count": 8,
     "metadata": {},
     "output_type": "execute_result"
    }
   ],
   "source": [
    "# Convertir de Dask a Pandas antes de continuar\n",
    "df_only_botnets_pd = df_only_botnets.compute()\n",
    "print(\"Tipo de DataFrame:\", type(df_only_botnets_pd))\n",
    "\n",
    "# Normalizar columnas numéricas\n",
    "scaler = MinMaxScaler()\n",
    "df_only_botnets_pd[numerical_columns] = scaler.fit_transform(df_only_botnets_pd[numerical_columns])\n",
    "\n",
    "# Guardar el scaler\n",
    "pickle.dump(scaler, open(os.path.join('pklfiles', 'scaletrainBotnet.pkl'), 'wb'))\n",
    "\n",
    "# Crear y ajustar codificadores\n",
    "ohe_stos = OneHotEncoder(sparse_output=False)\n",
    "ohe_dtos = OneHotEncoder(sparse_output=False)\n",
    "ohe_dir = OneHotEncoder(sparse_output=False)\n",
    "ohe_proto = OneHotEncoder(sparse_output=False)\n",
    "\n",
    "ohe_stos.fit(df_only_botnets_pd[['sTos']])\n",
    "ohe_dtos.fit(df_only_botnets_pd[['dTos']])\n",
    "ohe_dir.fit(df_only_botnets_pd[['Dir']])\n",
    "ohe_proto.fit(df_only_botnets_pd[['Proto']])\n",
    "\n",
    "# Aplicar OneHotEncoding y concatenar con Pandas\n",
    "def apply_onehot_encoding(df, col_name, encoder):\n",
    "    encoded = encoder.transform(df[[col_name]])\n",
    "    encoded_df = pd.DataFrame(encoded, dtype='int64', columns=[f'{col_name}_{cat}' for cat in encoder.categories_[0]])\n",
    "    df = df.drop(columns=[col_name]).reset_index(drop=True)\n",
    "    return pd.concat([df, encoded_df], axis=1)\n",
    "\n",
    "# Copiar DataFrame\n",
    "encoded_df = df_only_botnets_pd.copy()\n",
    "\n",
    "# Aplicar OneHotEncoder en columnas\n",
    "encoded_df = apply_onehot_encoding(encoded_df, 'sTos', ohe_stos)\n",
    "encoded_df = apply_onehot_encoding(encoded_df, 'dTos', ohe_dtos)\n",
    "encoded_df = apply_onehot_encoding(encoded_df, 'Dir', ohe_dir)\n",
    "encoded_df = apply_onehot_encoding(encoded_df, 'Proto', ohe_proto)\n",
    "\n",
    "# Mezclar filas y resetear el índice\n",
    "encoded_df = encoded_df.sample(frac=1).reset_index(drop=True)\n",
    "\n",
    "# Separar target y label\n",
    "target = encoded_df.pop('target')\n",
    "label = encoded_df.pop('label')\n",
    "\n",
    "# Resultado final\n",
    "encoded_df, target, label"
   ]
  },
  {
   "cell_type": "code",
   "execution_count": 9,
   "metadata": {},
   "outputs": [
    {
     "data": {
      "text/plain": [
       "(339700, 15)"
      ]
     },
     "execution_count": 9,
     "metadata": {},
     "output_type": "execute_result"
    }
   ],
   "source": [
    "encoded_df.shape"
   ]
  },
  {
   "cell_type": "code",
   "execution_count": 10,
   "metadata": {},
   "outputs": [
    {
     "data": {
      "text/plain": [
       "target\n",
       "2    184987\n",
       "3    106352\n",
       "5     40003\n",
       "1      6127\n",
       "4      2168\n",
       "0        63\n",
       "Name: count, dtype: int64"
      ]
     },
     "execution_count": 10,
     "metadata": {},
     "output_type": "execute_result"
    }
   ],
   "source": [
    "target.shape\n",
    "target.value_counts()"
   ]
  },
  {
   "cell_type": "code",
   "execution_count": 11,
   "metadata": {},
   "outputs": [
    {
     "data": {
      "text/plain": [
       "label\n",
       "Neris     184987\n",
       "RBot      106352\n",
       "Virut      40003\n",
       "Murlo       6127\n",
       "NsisAy      2168\n",
       "Sogou         63\n",
       "Name: count, dtype: int64"
      ]
     },
     "execution_count": 11,
     "metadata": {},
     "output_type": "execute_result"
    }
   ],
   "source": [
    "label.shape\n",
    "label.value_counts()"
   ]
  },
  {
   "cell_type": "code",
   "execution_count": 12,
   "metadata": {},
   "outputs": [],
   "source": [
    "trainX, testX, trainY, testY = train_test_split(encoded_df, target, test_size=0.3)"
   ]
  },
  {
   "cell_type": "code",
   "execution_count": 13,
   "metadata": {},
   "outputs": [
    {
     "name": "stdout",
     "output_type": "stream",
     "text": [
      "(237790, 15)\n",
      "(101910, 15)\n",
      "(237790,)\n",
      "(101910,)\n"
     ]
    }
   ],
   "source": [
    "print(trainX.shape)\n",
    "print(testX.shape)\n",
    "print(trainY.shape)\n",
    "print(testY.shape)"
   ]
  },
  {
   "cell_type": "code",
   "execution_count": 14,
   "metadata": {},
   "outputs": [],
   "source": [
    "pickle.dump((trainX, testX, trainY, testY), open(os.path.join('pklfiles', 'dataBotNetMLP.pkl'), \"wb\"))"
   ]
  },
  {
   "cell_type": "code",
   "execution_count": 15,
   "metadata": {},
   "outputs": [],
   "source": [
    "def getmodel(inputShape):\n",
    "    inputs = Input(shape=inputShape)\n",
    "    x = Dense(128)(inputs)\n",
    "    x = Activation('relu')(x)\n",
    "#     x = Dense(512)(x)\n",
    "#     x = Activation('relu')(x)\n",
    "    x = Dense(1024)(x)\n",
    "    x = Activation('relu')(x)\n",
    "#     x = Dense(1024)(x)\n",
    "#     x = Activation('relu')(x)\n",
    "#     x = Dense(512)(x)\n",
    "#     x = Activation('relu')(x)\n",
    "    x = Dense(512)(x)\n",
    "    x = Activation('relu')(x)\n",
    "    x = Dense(128)(x)\n",
    "    x = Activation('relu')(x)   \n",
    "    x = Dense(128)(x)\n",
    "    x = Activation('relu')(x)\n",
    "    x = Dense(10)(x)\n",
    "    x = Activation('relu')(x)\n",
    "    x = Dense(6)(x)\n",
    "    outputs = Activation('softmax')(x)\n",
    "    \n",
    "    model = Model(inputs, outputs)\n",
    "    \n",
    "    return model"
   ]
  },
  {
   "cell_type": "code",
   "execution_count": 16,
   "metadata": {},
   "outputs": [],
   "source": [
    "model = getmodel(15)"
   ]
  },
  {
   "cell_type": "code",
   "execution_count": 17,
   "metadata": {},
   "outputs": [],
   "source": [
    "model.compile(loss=\"categorical_crossentropy\", optimizer=Adam(), metrics=[\"accuracy\"])"
   ]
  },
  {
   "cell_type": "code",
   "execution_count": 18,
   "metadata": {},
   "outputs": [
    {
     "data": {
      "text/plain": [
       "28671     3\n",
       "71318     3\n",
       "112918    3\n",
       "181938    5\n",
       "319960    5\n",
       "         ..\n",
       "107273    3\n",
       "152143    2\n",
       "264223    3\n",
       "82104     3\n",
       "310422    2\n",
       "Name: target, Length: 237790, dtype: int64"
      ]
     },
     "execution_count": 18,
     "metadata": {},
     "output_type": "execute_result"
    }
   ],
   "source": [
    "trainY"
   ]
  },
  {
   "cell_type": "code",
   "execution_count": 19,
   "metadata": {},
   "outputs": [],
   "source": [
    "encY = OneHotEncoder()\n",
    "trainY = encY.fit_transform(trainY.values.reshape(-1,1))"
   ]
  },
  {
   "cell_type": "code",
   "execution_count": 20,
   "metadata": {},
   "outputs": [
    {
     "data": {
      "text/plain": [
       "array([[0., 0., 0., 1., 0., 0.],\n",
       "       [0., 0., 0., 1., 0., 0.],\n",
       "       [0., 0., 0., 1., 0., 0.],\n",
       "       ...,\n",
       "       [0., 0., 0., 1., 0., 0.],\n",
       "       [0., 0., 0., 1., 0., 0.],\n",
       "       [0., 0., 1., 0., 0., 0.]])"
      ]
     },
     "execution_count": 20,
     "metadata": {},
     "output_type": "execute_result"
    }
   ],
   "source": [
    "trainY = trainY.toarray()\n",
    "trainY"
   ]
  },
  {
   "cell_type": "code",
   "execution_count": 21,
   "metadata": {},
   "outputs": [
    {
     "name": "stdout",
     "output_type": "stream",
     "text": [
      "Epoch 1/100\n",
      "1487/1487 [==============================] - 16s 10ms/step - loss: 0.3604 - accuracy: 0.8890 - val_loss: 0.3049 - val_accuracy: 0.9081\n",
      "Epoch 2/100\n",
      "1487/1487 [==============================] - 17s 12ms/step - loss: 0.3082 - accuracy: 0.9087 - val_loss: 0.3174 - val_accuracy: 0.9111\n",
      "Epoch 3/100\n",
      "1487/1487 [==============================] - 20s 13ms/step - loss: 0.3153 - accuracy: 0.9068 - val_loss: 0.2967 - val_accuracy: 0.9127\n",
      "Epoch 4/100\n",
      "1487/1487 [==============================] - 17s 11ms/step - loss: 0.3038 - accuracy: 0.9099 - val_loss: 0.3000 - val_accuracy: 0.9125\n",
      "Epoch 5/100\n",
      "1487/1487 [==============================] - 17s 12ms/step - loss: 0.3020 - accuracy: 0.9103 - val_loss: 0.2956 - val_accuracy: 0.9128\n",
      "Epoch 6/100\n",
      "1487/1487 [==============================] - 15s 10ms/step - loss: 0.3003 - accuracy: 0.9110 - val_loss: 0.2940 - val_accuracy: 0.9123\n",
      "Epoch 7/100\n",
      "1487/1487 [==============================] - 14s 9ms/step - loss: 0.2975 - accuracy: 0.9114 - val_loss: 0.2908 - val_accuracy: 0.9133\n",
      "Epoch 8/100\n",
      "1487/1487 [==============================] - 14s 9ms/step - loss: 0.3007 - accuracy: 0.9108 - val_loss: 0.2961 - val_accuracy: 0.9121\n",
      "Epoch 9/100\n",
      "1487/1487 [==============================] - 14s 10ms/step - loss: 0.2987 - accuracy: 0.9111 - val_loss: 0.2974 - val_accuracy: 0.9091\n",
      "Epoch 10/100\n",
      "1487/1487 [==============================] - 14s 9ms/step - loss: 0.2953 - accuracy: 0.9119 - val_loss: 0.2903 - val_accuracy: 0.9136\n",
      "Epoch 11/100\n",
      "1487/1487 [==============================] - 14s 9ms/step - loss: 0.2926 - accuracy: 0.9122 - val_loss: 0.2931 - val_accuracy: 0.9129\n",
      "Epoch 12/100\n",
      "1487/1487 [==============================] - 14s 9ms/step - loss: 0.2928 - accuracy: 0.9118 - val_loss: 0.2902 - val_accuracy: 0.9124\n",
      "Epoch 13/100\n",
      "1487/1487 [==============================] - 14s 9ms/step - loss: 0.2904 - accuracy: 0.9120 - val_loss: 0.2878 - val_accuracy: 0.9122\n",
      "Epoch 14/100\n",
      "1487/1487 [==============================] - 14s 10ms/step - loss: 0.2885 - accuracy: 0.9124 - val_loss: 0.2929 - val_accuracy: 0.9117\n",
      "Epoch 15/100\n",
      "1487/1487 [==============================] - 16s 11ms/step - loss: 0.2885 - accuracy: 0.9118 - val_loss: 0.2841 - val_accuracy: 0.9129\n",
      "Epoch 16/100\n",
      "1487/1487 [==============================] - 15s 10ms/step - loss: 0.2903 - accuracy: 0.9119 - val_loss: 0.2866 - val_accuracy: 0.9124\n",
      "Epoch 17/100\n",
      "1487/1487 [==============================] - 14s 9ms/step - loss: 0.2864 - accuracy: 0.9126 - val_loss: 0.2947 - val_accuracy: 0.9085\n",
      "Epoch 18/100\n",
      "1487/1487 [==============================] - 16s 11ms/step - loss: 0.2834 - accuracy: 0.9132 - val_loss: 0.2783 - val_accuracy: 0.9155\n",
      "Epoch 19/100\n",
      "1487/1487 [==============================] - 14s 9ms/step - loss: 0.2811 - accuracy: 0.9136 - val_loss: 0.2800 - val_accuracy: 0.9148\n",
      "Epoch 20/100\n",
      "1487/1487 [==============================] - 15s 10ms/step - loss: 0.2796 - accuracy: 0.9135 - val_loss: 0.2743 - val_accuracy: 0.9127\n",
      "Epoch 21/100\n",
      "1487/1487 [==============================] - 14s 10ms/step - loss: 0.2787 - accuracy: 0.9137 - val_loss: 0.2742 - val_accuracy: 0.9138\n",
      "Epoch 22/100\n",
      "1487/1487 [==============================] - 17s 11ms/step - loss: 0.2768 - accuracy: 0.9138 - val_loss: 0.2888 - val_accuracy: 0.9122\n",
      "Epoch 23/100\n",
      "1487/1487 [==============================] - 15s 10ms/step - loss: 0.2773 - accuracy: 0.9138 - val_loss: 0.2815 - val_accuracy: 0.9128\n",
      "Epoch 24/100\n",
      "1487/1487 [==============================] - 16s 10ms/step - loss: 0.2757 - accuracy: 0.9139 - val_loss: 0.2710 - val_accuracy: 0.9158\n",
      "Epoch 25/100\n",
      "1487/1487 [==============================] - 17s 11ms/step - loss: 0.2755 - accuracy: 0.9141 - val_loss: 0.2682 - val_accuracy: 0.9153\n",
      "Epoch 26/100\n",
      "1487/1487 [==============================] - 16s 11ms/step - loss: 0.2765 - accuracy: 0.9141 - val_loss: 0.2750 - val_accuracy: 0.9151\n",
      "Epoch 27/100\n",
      "1487/1487 [==============================] - 15s 10ms/step - loss: 0.2747 - accuracy: 0.9141 - val_loss: 0.2835 - val_accuracy: 0.9135\n",
      "Epoch 28/100\n",
      "1487/1487 [==============================] - 16s 11ms/step - loss: 0.2729 - accuracy: 0.9141 - val_loss: 0.3073 - val_accuracy: 0.9049\n",
      "Epoch 29/100\n",
      "1487/1487 [==============================] - 16s 11ms/step - loss: 0.2708 - accuracy: 0.9140 - val_loss: 0.2653 - val_accuracy: 0.9150\n",
      "Epoch 30/100\n",
      "1487/1487 [==============================] - 15s 10ms/step - loss: 0.2685 - accuracy: 0.9145 - val_loss: 0.2631 - val_accuracy: 0.9153\n",
      "Epoch 31/100\n",
      "1487/1487 [==============================] - 15s 10ms/step - loss: 0.2705 - accuracy: 0.9143 - val_loss: 0.2634 - val_accuracy: 0.9153\n",
      "Epoch 32/100\n",
      "1487/1487 [==============================] - 14s 10ms/step - loss: 0.2677 - accuracy: 0.9144 - val_loss: 0.2618 - val_accuracy: 0.9154\n",
      "Epoch 33/100\n",
      "1487/1487 [==============================] - 18s 12ms/step - loss: 0.2675 - accuracy: 0.9143 - val_loss: 0.2861 - val_accuracy: 0.9140\n",
      "Epoch 34/100\n",
      "1487/1487 [==============================] - 18s 12ms/step - loss: 0.2678 - accuracy: 0.9144 - val_loss: 0.2649 - val_accuracy: 0.9157\n",
      "Epoch 35/100\n",
      "1487/1487 [==============================] - 17s 11ms/step - loss: 0.2657 - accuracy: 0.9144 - val_loss: 0.2769 - val_accuracy: 0.9146\n",
      "Epoch 36/100\n",
      "1487/1487 [==============================] - 18s 12ms/step - loss: 0.2665 - accuracy: 0.9147 - val_loss: 0.2652 - val_accuracy: 0.9152\n",
      "Epoch 37/100\n",
      "1487/1487 [==============================] - 20s 13ms/step - loss: 0.2669 - accuracy: 0.9143 - val_loss: 0.2690 - val_accuracy: 0.9152\n",
      "Epoch 38/100\n",
      "1487/1487 [==============================] - 19s 13ms/step - loss: 0.2657 - accuracy: 0.9148 - val_loss: 0.2632 - val_accuracy: 0.9158\n",
      "Epoch 39/100\n",
      "1487/1487 [==============================] - 17s 11ms/step - loss: 0.2662 - accuracy: 0.9145 - val_loss: 0.2677 - val_accuracy: 0.9141\n",
      "Epoch 40/100\n",
      "1487/1487 [==============================] - 18s 12ms/step - loss: 0.2661 - accuracy: 0.9144 - val_loss: 0.2716 - val_accuracy: 0.9138\n",
      "Epoch 41/100\n",
      "1487/1487 [==============================] - 15s 10ms/step - loss: 0.2650 - accuracy: 0.9145 - val_loss: 0.2628 - val_accuracy: 0.9150\n",
      "Epoch 42/100\n",
      "1487/1487 [==============================] - 19s 13ms/step - loss: 0.2627 - accuracy: 0.9148 - val_loss: 0.2601 - val_accuracy: 0.9161\n",
      "Epoch 43/100\n",
      "1487/1487 [==============================] - 19s 13ms/step - loss: 0.2624 - accuracy: 0.9147 - val_loss: 0.2990 - val_accuracy: 0.9137\n",
      "Epoch 44/100\n",
      "1487/1487 [==============================] - 17s 12ms/step - loss: 0.2619 - accuracy: 0.9147 - val_loss: 0.2595 - val_accuracy: 0.9153\n",
      "Epoch 45/100\n",
      "1487/1487 [==============================] - 17s 11ms/step - loss: 0.2641 - accuracy: 0.9147 - val_loss: 0.2618 - val_accuracy: 0.9157\n",
      "Epoch 46/100\n",
      "1487/1487 [==============================] - 19s 13ms/step - loss: 0.2652 - accuracy: 0.9148 - val_loss: 0.2628 - val_accuracy: 0.9156\n",
      "Epoch 47/100\n",
      "1487/1487 [==============================] - 18s 12ms/step - loss: 0.2643 - accuracy: 0.9145 - val_loss: 0.2604 - val_accuracy: 0.9155\n",
      "Epoch 48/100\n",
      "1487/1487 [==============================] - 18s 12ms/step - loss: 0.2655 - accuracy: 0.9147 - val_loss: 0.2643 - val_accuracy: 0.9157\n",
      "Epoch 49/100\n",
      "1487/1487 [==============================] - 17s 12ms/step - loss: 0.2639 - accuracy: 0.9146 - val_loss: 0.2692 - val_accuracy: 0.9138\n",
      "Epoch 50/100\n",
      "1487/1487 [==============================] - 17s 12ms/step - loss: 0.2646 - accuracy: 0.9147 - val_loss: 0.2563 - val_accuracy: 0.9148\n",
      "Epoch 51/100\n",
      "1487/1487 [==============================] - 18s 12ms/step - loss: 0.2632 - accuracy: 0.9145 - val_loss: 0.2638 - val_accuracy: 0.9152\n",
      "Epoch 52/100\n",
      "1487/1487 [==============================] - 18s 12ms/step - loss: 0.2620 - accuracy: 0.9148 - val_loss: 0.2553 - val_accuracy: 0.9153\n",
      "Epoch 53/100\n",
      "1487/1487 [==============================] - 18s 12ms/step - loss: 0.2624 - accuracy: 0.9146 - val_loss: 0.2533 - val_accuracy: 0.9161\n",
      "Epoch 54/100\n",
      "1487/1487 [==============================] - 18s 12ms/step - loss: 0.2632 - accuracy: 0.9146 - val_loss: 0.2659 - val_accuracy: 0.9157\n",
      "Epoch 55/100\n",
      "1487/1487 [==============================] - 18s 12ms/step - loss: 0.2613 - accuracy: 0.9148 - val_loss: 0.2497 - val_accuracy: 0.9155\n",
      "Epoch 56/100\n",
      "1487/1487 [==============================] - 18s 12ms/step - loss: 0.2615 - accuracy: 0.9149 - val_loss: 0.2627 - val_accuracy: 0.9154\n",
      "Epoch 57/100\n",
      "1487/1487 [==============================] - 18s 12ms/step - loss: 0.2608 - accuracy: 0.9149 - val_loss: 0.2566 - val_accuracy: 0.9156\n",
      "Epoch 58/100\n",
      "1487/1487 [==============================] - 18s 12ms/step - loss: 0.2596 - accuracy: 0.9148 - val_loss: 0.2630 - val_accuracy: 0.9154\n",
      "Epoch 59/100\n",
      "1487/1487 [==============================] - 18s 12ms/step - loss: 0.2617 - accuracy: 0.9149 - val_loss: 0.2622 - val_accuracy: 0.9156\n",
      "Epoch 60/100\n",
      "1487/1487 [==============================] - 18s 12ms/step - loss: 0.2617 - accuracy: 0.9150 - val_loss: 0.2610 - val_accuracy: 0.9156\n",
      "Epoch 61/100\n",
      "1487/1487 [==============================] - 21s 14ms/step - loss: 0.2587 - accuracy: 0.9147 - val_loss: 0.2592 - val_accuracy: 0.9148\n",
      "Epoch 62/100\n",
      "1487/1487 [==============================] - 21s 14ms/step - loss: 0.2548 - accuracy: 0.9151 - val_loss: 0.2422 - val_accuracy: 0.9161\n",
      "Epoch 63/100\n",
      "1487/1487 [==============================] - 19s 13ms/step - loss: 0.2561 - accuracy: 0.9150 - val_loss: 0.2547 - val_accuracy: 0.9158\n",
      "Epoch 64/100\n",
      "1487/1487 [==============================] - 21s 14ms/step - loss: 0.2515 - accuracy: 0.9151 - val_loss: 0.2618 - val_accuracy: 0.9161\n",
      "Epoch 65/100\n",
      "1487/1487 [==============================] - 25s 17ms/step - loss: 0.2553 - accuracy: 0.9150 - val_loss: 0.2575 - val_accuracy: 0.9148\n",
      "Epoch 66/100\n",
      "1487/1487 [==============================] - 25s 17ms/step - loss: 0.2558 - accuracy: 0.9146 - val_loss: 0.2399 - val_accuracy: 0.9162\n",
      "Epoch 67/100\n",
      "1487/1487 [==============================] - 30s 20ms/step - loss: 0.2545 - accuracy: 0.9152 - val_loss: 0.2421 - val_accuracy: 0.9158\n",
      "Epoch 68/100\n",
      "1487/1487 [==============================] - 24s 16ms/step - loss: 0.2569 - accuracy: 0.9147 - val_loss: 0.2605 - val_accuracy: 0.9161\n",
      "Epoch 69/100\n",
      "1487/1487 [==============================] - 33s 22ms/step - loss: 0.2540 - accuracy: 0.9151 - val_loss: 0.2618 - val_accuracy: 0.9156\n",
      "Epoch 70/100\n",
      "1487/1487 [==============================] - 25s 17ms/step - loss: 0.2526 - accuracy: 0.9151 - val_loss: 0.2576 - val_accuracy: 0.9161\n",
      "Epoch 71/100\n",
      "1487/1487 [==============================] - 17s 11ms/step - loss: 0.2558 - accuracy: 0.9151 - val_loss: 0.2494 - val_accuracy: 0.9149\n",
      "Epoch 72/100\n",
      "1487/1487 [==============================] - 16s 11ms/step - loss: 0.2523 - accuracy: 0.9151 - val_loss: 0.2825 - val_accuracy: 0.9122\n",
      "Epoch 73/100\n",
      "1487/1487 [==============================] - 15s 10ms/step - loss: 0.2510 - accuracy: 0.9149 - val_loss: 0.2422 - val_accuracy: 0.9148\n",
      "Epoch 74/100\n",
      "1487/1487 [==============================] - 15s 10ms/step - loss: 0.2494 - accuracy: 0.9153 - val_loss: 0.2647 - val_accuracy: 0.9156\n",
      "Epoch 75/100\n",
      "1487/1487 [==============================] - 16s 11ms/step - loss: 0.2504 - accuracy: 0.9148 - val_loss: 0.2663 - val_accuracy: 0.9150\n",
      "Epoch 76/100\n",
      "1487/1487 [==============================] - 16s 11ms/step - loss: 0.2505 - accuracy: 0.9153 - val_loss: 0.2378 - val_accuracy: 0.9165\n",
      "Epoch 77/100\n",
      "1487/1487 [==============================] - 17s 11ms/step - loss: 0.2516 - accuracy: 0.9149 - val_loss: 0.2522 - val_accuracy: 0.9155\n",
      "Epoch 78/100\n",
      "1487/1487 [==============================] - 21s 14ms/step - loss: 0.2550 - accuracy: 0.9152 - val_loss: 0.2422 - val_accuracy: 0.9155\n",
      "Epoch 79/100\n",
      "1487/1487 [==============================] - 17s 11ms/step - loss: 0.2520 - accuracy: 0.9150 - val_loss: 0.2306 - val_accuracy: 0.9161\n",
      "Epoch 80/100\n",
      "1487/1487 [==============================] - 18s 12ms/step - loss: 0.2489 - accuracy: 0.9154 - val_loss: 0.2505 - val_accuracy: 0.9160\n",
      "Epoch 81/100\n",
      "1487/1487 [==============================] - 19s 13ms/step - loss: 0.2445 - accuracy: 0.9153 - val_loss: 0.2456 - val_accuracy: 0.9160\n",
      "Epoch 82/100\n",
      "1487/1487 [==============================] - 18s 12ms/step - loss: 0.2422 - accuracy: 0.9153 - val_loss: 0.2313 - val_accuracy: 0.9160\n",
      "Epoch 83/100\n",
      "1487/1487 [==============================] - 16s 11ms/step - loss: 0.2438 - accuracy: 0.9153 - val_loss: 0.2383 - val_accuracy: 0.9153\n",
      "Epoch 84/100\n",
      "1487/1487 [==============================] - 21s 14ms/step - loss: 0.2490 - accuracy: 0.9152 - val_loss: 0.2330 - val_accuracy: 0.9158\n",
      "Epoch 85/100\n",
      "1487/1487 [==============================] - 20s 14ms/step - loss: 0.2433 - accuracy: 0.9149 - val_loss: 0.2318 - val_accuracy: 0.9160\n",
      "Epoch 86/100\n",
      "1487/1487 [==============================] - 19s 13ms/step - loss: 0.2380 - accuracy: 0.9157 - val_loss: 0.2680 - val_accuracy: 0.9154\n",
      "Epoch 87/100\n",
      "1487/1487 [==============================] - 19s 13ms/step - loss: 0.2367 - accuracy: 0.9155 - val_loss: 0.2318 - val_accuracy: 0.9152\n",
      "Epoch 88/100\n",
      "1487/1487 [==============================] - 18s 12ms/step - loss: 0.2374 - accuracy: 0.9153 - val_loss: 0.2330 - val_accuracy: 0.9160\n",
      "Epoch 89/100\n",
      "1487/1487 [==============================] - 18s 12ms/step - loss: 0.2339 - accuracy: 0.9156 - val_loss: 0.2304 - val_accuracy: 0.9161\n",
      "Epoch 90/100\n",
      "1487/1487 [==============================] - 19s 13ms/step - loss: 0.2348 - accuracy: 0.9155 - val_loss: 0.2283 - val_accuracy: 0.9161\n",
      "Epoch 91/100\n",
      "1487/1487 [==============================] - 18s 12ms/step - loss: 0.2348 - accuracy: 0.9156 - val_loss: 0.2313 - val_accuracy: 0.9157\n",
      "Epoch 92/100\n",
      "1487/1487 [==============================] - 16s 11ms/step - loss: 0.2364 - accuracy: 0.9151 - val_loss: 0.2341 - val_accuracy: 0.9156\n",
      "Epoch 93/100\n",
      "1487/1487 [==============================] - 16s 11ms/step - loss: 0.2375 - accuracy: 0.9156 - val_loss: 0.2408 - val_accuracy: 0.9156\n",
      "Epoch 94/100\n",
      "1487/1487 [==============================] - 15s 10ms/step - loss: 0.2364 - accuracy: 0.9151 - val_loss: 0.2296 - val_accuracy: 0.9163\n",
      "Epoch 95/100\n",
      "1487/1487 [==============================] - 15s 10ms/step - loss: 0.2342 - accuracy: 0.9155 - val_loss: 0.2235 - val_accuracy: 0.9166\n",
      "Epoch 96/100\n",
      "1487/1487 [==============================] - 16s 11ms/step - loss: 0.2316 - accuracy: 0.9154 - val_loss: 0.2301 - val_accuracy: 0.9154\n",
      "Epoch 97/100\n",
      "1487/1487 [==============================] - 14s 10ms/step - loss: 0.2312 - accuracy: 0.9154 - val_loss: 0.2231 - val_accuracy: 0.9167\n",
      "Epoch 98/100\n",
      "1487/1487 [==============================] - 14s 10ms/step - loss: 0.2314 - accuracy: 0.9156 - val_loss: 0.2241 - val_accuracy: 0.9163\n",
      "Epoch 99/100\n",
      "1487/1487 [==============================] - 16s 10ms/step - loss: 0.2338 - accuracy: 0.9157 - val_loss: 0.2372 - val_accuracy: 0.9149\n",
      "Epoch 100/100\n",
      "1487/1487 [==============================] - 22s 15ms/step - loss: 0.2313 - accuracy: 0.9157 - val_loss: 0.2330 - val_accuracy: 0.9164\n"
     ]
    }
   ],
   "source": [
    "history = model.fit(trainX,trainY,epochs=100,validation_split=0.2,batch_size=128)\n",
    "#history = model.fit(trainX,trainY,epochs=500,validation_split=0.2,batch_size=128)"
   ]
  },
  {
   "cell_type": "code",
   "execution_count": null,
   "metadata": {},
   "outputs": [
    {
     "data": {
      "image/png": "[encoded data removed]",
      "text/plain": [
       "<Figure size 640x480 with 1 Axes>"
      ]
     },
     "metadata": {},
     "output_type": "display_data"
    }
   ],
   "source": [
    "plt.plot(history.history['accuracy'], label='Train Accuracy')\n",
    "plt.plot(history.history['val_accuracy'], label='Validation Accuracy')\n",
    "plt.plot(history.history['loss'], label='Loss')\n",
    "plt.plot(history.history['val_loss'], label='Validation Loss')\n",
    "#plt.plot(history.history['loss'], label='Loss')\n",
    "#plt.plot(history.history['val_loss'], label='Validation Loss')\n",
    "plt.xlabel('Epoch')\n",
    "plt.ylabel('Accuracy')\n",
    "plt.legend()\n",
    "plt.show()"
   ]
  },
  {
   "cell_type": "code",
   "execution_count": 23,
   "metadata": {},
   "outputs": [
    {
     "name": "stdout",
     "output_type": "stream",
     "text": [
      "3185/3185 [==============================] - 12s 4ms/step\n",
      "307439    2\n",
      "13718     3\n",
      "300257    3\n",
      "8241      3\n",
      "261125    2\n",
      "         ..\n",
      "91226     2\n",
      "44964     2\n",
      "237924    3\n",
      "20204     3\n",
      "40965     5\n",
      "Name: target, Length: 101910, dtype: int64\n"
     ]
    },
    {
     "data": {
      "image/png": "[encoded data removed]",
      "text/plain": [
       "<Figure size 800x600 with 2 Axes>"
      ]
     },
     "metadata": {},
     "output_type": "display_data"
    },
    {
     "name": "stdout",
     "output_type": "stream",
     "text": [
      "              precision    recall  f1-score   support\n",
      "\n",
      "           0       0.00      0.00      0.00        16\n",
      "           1       0.84      0.18      0.30      1758\n",
      "           2       0.87      1.00      0.93     55440\n",
      "           3       1.00      1.00      1.00     31997\n",
      "           4       0.95      0.71      0.81       637\n",
      "           5       1.00      0.44      0.61     12062\n",
      "\n",
      "    accuracy                           0.92    101910\n",
      "   macro avg       0.78      0.55      0.61    101910\n",
      "weighted avg       0.92      0.92      0.90    101910\n",
      "\n"
     ]
    },
    {
     "name": "stderr",
     "output_type": "stream",
     "text": [
      "c:\\Users\\t4v0s\\AppData\\Local\\Programs\\Python\\Python39\\lib\\site-packages\\sklearn\\metrics\\_classification.py:1565: UndefinedMetricWarning: Precision is ill-defined and being set to 0.0 in labels with no predicted samples. Use `zero_division` parameter to control this behavior.\n",
      "  _warn_prf(average, modifier, f\"{metric.capitalize()} is\", len(result))\n",
      "c:\\Users\\t4v0s\\AppData\\Local\\Programs\\Python\\Python39\\lib\\site-packages\\sklearn\\metrics\\_classification.py:1565: UndefinedMetricWarning: Precision is ill-defined and being set to 0.0 in labels with no predicted samples. Use `zero_division` parameter to control this behavior.\n",
      "  _warn_prf(average, modifier, f\"{metric.capitalize()} is\", len(result))\n",
      "c:\\Users\\t4v0s\\AppData\\Local\\Programs\\Python\\Python39\\lib\\site-packages\\sklearn\\metrics\\_classification.py:1565: UndefinedMetricWarning: Precision is ill-defined and being set to 0.0 in labels with no predicted samples. Use `zero_division` parameter to control this behavior.\n",
      "  _warn_prf(average, modifier, f\"{metric.capitalize()} is\", len(result))\n"
     ]
    }
   ],
   "source": [
    "predictions = model.predict(testX)\n",
    "predictions = predictions.argmax(axis=1)  # Si es clasificación multiclase\n",
    "#true_labels = testY.argmax(axis=1)\n",
    "true_labels = testY.copy()\n",
    "print(true_labels)\n",
    "cm = confusion_matrix(true_labels, predictions)\n",
    "\n",
    "plt.figure(figsize=(8,6))\n",
    "sns.heatmap(cm, annot=True, fmt=\"d\", cmap=\"Blues\", xticklabels=['Sogou','Murlo','Neris','RBot','NsisAy','Virut'], yticklabels=['Sogou','Murlo','Neris','RBot','NsisAy','Virut'])\n",
    "plt.xlabel(\"Predicted\")\n",
    "plt.ylabel(\"Actual\")\n",
    "plt.title(\"Confusion Matrix\")\n",
    "plt.show()\n",
    "\n",
    "# Reporte de métricas\n",
    "print(classification_report(true_labels, predictions))"
   ]
  },
  {
   "cell_type": "markdown",
   "metadata": {},
   "source": [
    "### __Ajustar codificadores one-hot__"
   ]
  }
 ],
 "metadata": {
  "kernelspec": {
   "display_name": "Python 3",
   "language": "python",
   "name": "python3"
  },
  "language_info": {
   "codemirror_mode": {
    "name": "ipython",
    "version": 3
   },
   "file_extension": ".py",
   "mimetype": "text/x-python",
   "name": "python",
   "nbconvert_exporter": "python",
   "pygments_lexer": "ipython3",
   "version": "3.9.0"
  }
 },
 "nbformat": 4,
 "nbformat_minor": 2
}
