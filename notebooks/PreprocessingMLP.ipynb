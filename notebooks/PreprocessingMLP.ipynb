{
 "cells": [
  {
   "cell_type": "markdown",
   "metadata": {},
   "source": [
    "# __Preprocesamiento de datos para el perceptron multicapa__"
   ]
  },
  {
   "cell_type": "markdown",
   "metadata": {},
   "source": [
    "### 1️⃣ __Importacion de modulos__"
   ]
  },
  {
   "cell_type": "code",
   "execution_count": null,
   "metadata": {},
   "outputs": [],
   "source": [
    "import dask.dataframe as dd\n",
    "import numpy as np\n",
    "import pickle  # Usado en normalize_data para guardar el scaler\n",
    "from sklearn.model_selection import train_test_split  # Usado para dividir datos en train y test"
   ]
  },
  {
   "cell_type": "markdown",
   "metadata": {},
   "source": [
    "### 2️⃣ __Leer el CSV preprocesado__"
   ]
  },
  {
   "cell_type": "code",
   "execution_count": 2,
   "metadata": {},
   "outputs": [],
   "source": [
    "ctu13_df = dd.read_csv('./preprocessing_data/dataset_procesado.csv')"
   ]
  },
  {
   "cell_type": "markdown",
   "metadata": {},
   "source": [
    "### 3️⃣ __Obtenemos los flujos de red que solamente pertenecen a una botnet__"
   ]
  },
  {
   "cell_type": "code",
   "execution_count": 7,
   "metadata": {},
   "outputs": [
    {
     "data": {
      "text/plain": [
       "(339700, 17)"
      ]
     },
     "execution_count": 7,
     "metadata": {},
     "output_type": "execute_result"
    }
   ],
   "source": [
    "df_botnets = ctu13_df[ctu13_df['is_botnet'] == 1].copy()\n",
    "df_botnets.compute().shape"
   ]
  },
  {
   "cell_type": "markdown",
   "metadata": {},
   "source": [
    "### 4️⃣ __Asignamos una etiqueta objetivo idnetificando cada tipo de botnet a clasificar__"
   ]
  },
  {
   "cell_type": "code",
   "execution_count": 10,
   "metadata": {},
   "outputs": [
    {
     "data": {
      "text/plain": [
       "target\n",
       "3    106352\n",
       "5     40003\n",
       "1      6127\n",
       "0        63\n",
       "2    184987\n",
       "4      2168\n",
       "Name: count, dtype: int64"
      ]
     },
     "execution_count": 10,
     "metadata": {},
     "output_type": "execute_result"
    }
   ],
   "source": [
    "escenarios = {0: 'Sogou', 1: 'Murlo', 2: 'Neris', 3: 'RBot', 4: 'NsisAy', 5: 'Virut'}\n",
    "df_botnets['target'] = df_botnets['BOTNET_NAME'].map({v: k for k, v in escenarios.items()}, meta=('BOTNET_NAME', 'int64'))\n",
    "df_botnets['target'].value_counts().compute()"
   ]
  },
  {
   "cell_type": "markdown",
   "metadata": {},
   "source": [
    "### 5️⃣ __Eliminamos las columnas innecesarias__"
   ]
  },
  {
   "cell_type": "code",
   "execution_count": 18,
   "metadata": {},
   "outputs": [
    {
     "data": {
      "text/html": [
       "<div>\n",
       "<style scoped>\n",
       "    .dataframe tbody tr th:only-of-type {\n",
       "        vertical-align: middle;\n",
       "    }\n",
       "\n",
       "    .dataframe tbody tr th {\n",
       "        vertical-align: top;\n",
       "    }\n",
       "\n",
       "    .dataframe thead th {\n",
       "        text-align: right;\n",
       "    }\n",
       "</style>\n",
       "<table border=\"1\" class=\"dataframe\">\n",
       "  <thead>\n",
       "    <tr style=\"text-align: right;\">\n",
       "      <th></th>\n",
       "      <th>Dur</th>\n",
       "      <th>Proto</th>\n",
       "      <th>Sport</th>\n",
       "      <th>Dir</th>\n",
       "      <th>Dport</th>\n",
       "      <th>sTos</th>\n",
       "      <th>dTos</th>\n",
       "      <th>TotPkts</th>\n",
       "      <th>TotBytes</th>\n",
       "      <th>SrcBytes</th>\n",
       "      <th>BOTNET_NAME</th>\n",
       "      <th>target</th>\n",
       "    </tr>\n",
       "  </thead>\n",
       "  <tbody>\n",
       "    <tr>\n",
       "      <th>14659</th>\n",
       "      <td>0.000274</td>\n",
       "      <td>udp</td>\n",
       "      <td>1025.0</td>\n",
       "      <td>&lt;-&gt;</td>\n",
       "      <td>53.0</td>\n",
       "      <td>0.0</td>\n",
       "      <td>0.0</td>\n",
       "      <td>2.0</td>\n",
       "      <td>203.0</td>\n",
       "      <td>64.0</td>\n",
       "      <td>Sogou</td>\n",
       "      <td>0</td>\n",
       "    </tr>\n",
       "    <tr>\n",
       "      <th>14888</th>\n",
       "      <td>0.010509</td>\n",
       "      <td>udp</td>\n",
       "      <td>1025.0</td>\n",
       "      <td>&lt;-&gt;</td>\n",
       "      <td>53.0</td>\n",
       "      <td>0.0</td>\n",
       "      <td>0.0</td>\n",
       "      <td>2.0</td>\n",
       "      <td>590.0</td>\n",
       "      <td>87.0</td>\n",
       "      <td>Sogou</td>\n",
       "      <td>0</td>\n",
       "    </tr>\n",
       "    <tr>\n",
       "      <th>14892</th>\n",
       "      <td>0.054527</td>\n",
       "      <td>tcp</td>\n",
       "      <td>1027.0</td>\n",
       "      <td>-&gt;</td>\n",
       "      <td>80.0</td>\n",
       "      <td>0.0</td>\n",
       "      <td>0.0</td>\n",
       "      <td>7.0</td>\n",
       "      <td>882.0</td>\n",
       "      <td>629.0</td>\n",
       "      <td>Sogou</td>\n",
       "      <td>0</td>\n",
       "    </tr>\n",
       "    <tr>\n",
       "      <th>15090</th>\n",
       "      <td>0.000502</td>\n",
       "      <td>udp</td>\n",
       "      <td>1025.0</td>\n",
       "      <td>&lt;-&gt;</td>\n",
       "      <td>53.0</td>\n",
       "      <td>0.0</td>\n",
       "      <td>0.0</td>\n",
       "      <td>2.0</td>\n",
       "      <td>479.0</td>\n",
       "      <td>76.0</td>\n",
       "      <td>Sogou</td>\n",
       "      <td>0</td>\n",
       "    </tr>\n",
       "    <tr>\n",
       "      <th>15092</th>\n",
       "      <td>2.995112</td>\n",
       "      <td>udp</td>\n",
       "      <td>123.0</td>\n",
       "      <td>-&gt;</td>\n",
       "      <td>123.0</td>\n",
       "      <td>0.0</td>\n",
       "      <td>0.0</td>\n",
       "      <td>2.0</td>\n",
       "      <td>180.0</td>\n",
       "      <td>180.0</td>\n",
       "      <td>Sogou</td>\n",
       "      <td>0</td>\n",
       "    </tr>\n",
       "    <tr>\n",
       "      <th>...</th>\n",
       "      <td>...</td>\n",
       "      <td>...</td>\n",
       "      <td>...</td>\n",
       "      <td>...</td>\n",
       "      <td>...</td>\n",
       "      <td>...</td>\n",
       "      <td>...</td>\n",
       "      <td>...</td>\n",
       "      <td>...</td>\n",
       "      <td>...</td>\n",
       "      <td>...</td>\n",
       "      <td>...</td>\n",
       "    </tr>\n",
       "    <tr>\n",
       "      <th>411906</th>\n",
       "      <td>1.308413</td>\n",
       "      <td>tcp</td>\n",
       "      <td>23049.0</td>\n",
       "      <td>-&gt;</td>\n",
       "      <td>443.0</td>\n",
       "      <td>0.0</td>\n",
       "      <td>0.0</td>\n",
       "      <td>6.0</td>\n",
       "      <td>366.0</td>\n",
       "      <td>186.0</td>\n",
       "      <td>Virut</td>\n",
       "      <td>5</td>\n",
       "    </tr>\n",
       "    <tr>\n",
       "      <th>411987</th>\n",
       "      <td>1.207547</td>\n",
       "      <td>tcp</td>\n",
       "      <td>23050.0</td>\n",
       "      <td>-&gt;</td>\n",
       "      <td>443.0</td>\n",
       "      <td>0.0</td>\n",
       "      <td>0.0</td>\n",
       "      <td>6.0</td>\n",
       "      <td>366.0</td>\n",
       "      <td>186.0</td>\n",
       "      <td>Virut</td>\n",
       "      <td>5</td>\n",
       "    </tr>\n",
       "    <tr>\n",
       "      <th>412081</th>\n",
       "      <td>1.307525</td>\n",
       "      <td>tcp</td>\n",
       "      <td>23051.0</td>\n",
       "      <td>-&gt;</td>\n",
       "      <td>443.0</td>\n",
       "      <td>0.0</td>\n",
       "      <td>0.0</td>\n",
       "      <td>6.0</td>\n",
       "      <td>366.0</td>\n",
       "      <td>186.0</td>\n",
       "      <td>Virut</td>\n",
       "      <td>5</td>\n",
       "    </tr>\n",
       "    <tr>\n",
       "      <th>412161</th>\n",
       "      <td>1.308276</td>\n",
       "      <td>tcp</td>\n",
       "      <td>23052.0</td>\n",
       "      <td>-&gt;</td>\n",
       "      <td>443.0</td>\n",
       "      <td>0.0</td>\n",
       "      <td>0.0</td>\n",
       "      <td>6.0</td>\n",
       "      <td>366.0</td>\n",
       "      <td>186.0</td>\n",
       "      <td>Virut</td>\n",
       "      <td>5</td>\n",
       "    </tr>\n",
       "    <tr>\n",
       "      <th>412242</th>\n",
       "      <td>0.146164</td>\n",
       "      <td>tcp</td>\n",
       "      <td>23053.0</td>\n",
       "      <td>-&gt;</td>\n",
       "      <td>443.0</td>\n",
       "      <td>0.0</td>\n",
       "      <td>0.0</td>\n",
       "      <td>2.0</td>\n",
       "      <td>122.0</td>\n",
       "      <td>62.0</td>\n",
       "      <td>Virut</td>\n",
       "      <td>5</td>\n",
       "    </tr>\n",
       "  </tbody>\n",
       "</table>\n",
       "<p>339700 rows × 12 columns</p>\n",
       "</div>"
      ],
      "text/plain": [
       "             Dur Proto    Sport    Dir  Dport  sTos  dTos  TotPkts  TotBytes  \\\n",
       "14659   0.000274   udp   1025.0    <->   53.0   0.0   0.0      2.0     203.0   \n",
       "14888   0.010509   udp   1025.0    <->   53.0   0.0   0.0      2.0     590.0   \n",
       "14892   0.054527   tcp   1027.0     ->   80.0   0.0   0.0      7.0     882.0   \n",
       "15090   0.000502   udp   1025.0    <->   53.0   0.0   0.0      2.0     479.0   \n",
       "15092   2.995112   udp    123.0     ->  123.0   0.0   0.0      2.0     180.0   \n",
       "...          ...   ...      ...    ...    ...   ...   ...      ...       ...   \n",
       "411906  1.308413   tcp  23049.0     ->  443.0   0.0   0.0      6.0     366.0   \n",
       "411987  1.207547   tcp  23050.0     ->  443.0   0.0   0.0      6.0     366.0   \n",
       "412081  1.307525   tcp  23051.0     ->  443.0   0.0   0.0      6.0     366.0   \n",
       "412161  1.308276   tcp  23052.0     ->  443.0   0.0   0.0      6.0     366.0   \n",
       "412242  0.146164   tcp  23053.0     ->  443.0   0.0   0.0      2.0     122.0   \n",
       "\n",
       "        SrcBytes BOTNET_NAME  target  \n",
       "14659       64.0       Sogou       0  \n",
       "14888       87.0       Sogou       0  \n",
       "14892      629.0       Sogou       0  \n",
       "15090       76.0       Sogou       0  \n",
       "15092      180.0       Sogou       0  \n",
       "...          ...         ...     ...  \n",
       "411906     186.0       Virut       5  \n",
       "411987     186.0       Virut       5  \n",
       "412081     186.0       Virut       5  \n",
       "412161     186.0       Virut       5  \n",
       "412242      62.0       Virut       5  \n",
       "\n",
       "[339700 rows x 12 columns]"
      ]
     },
     "execution_count": 18,
     "metadata": {},
     "output_type": "execute_result"
    }
   ],
   "source": [
    "df_only_botnets = df_botnets.drop(['StartTime', 'SrcAddr', 'DstAddr', 'State', 'Label', 'is_botnet'], axis=1).copy()\n",
    "df_only_botnets.compute()"
   ]
  }
 ],
 "metadata": {
  "kernelspec": {
   "display_name": "Python 3",
   "language": "python",
   "name": "python3"
  },
  "language_info": {
   "codemirror_mode": {
    "name": "ipython",
    "version": 3
   },
   "file_extension": ".py",
   "mimetype": "text/x-python",
   "name": "python",
   "nbconvert_exporter": "python",
   "pygments_lexer": "ipython3",
   "version": "3.9.0"
  }
 },
 "nbformat": 4,
 "nbformat_minor": 2
}
