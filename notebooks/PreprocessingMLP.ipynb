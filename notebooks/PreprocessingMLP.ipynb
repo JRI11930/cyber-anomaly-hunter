{
 "cells": [
  {
   "cell_type": "markdown",
   "metadata": {},
   "source": [
    "# __Preprocesamiento de datos para el perceptron multicapa__"
   ]
  },
  {
   "cell_type": "markdown",
   "metadata": {},
   "source": [
    "### 1️⃣ __Importacion de modulos__"
   ]
  },
  {
   "cell_type": "code",
   "execution_count": null,
   "metadata": {},
   "outputs": [],
   "source": [
    "import dask.dataframe as dd\n",
    "import pandas as pd\n",
    "import os\n",
    "import pickle  # Usado en normalize_data para guardar el scaler\n",
    "from sklearn.preprocessing import MinMaxScaler\n",
    "from sklearn.preprocessing import OneHotEncoder\n",
    "#from sklearn.model_selection import train_test_split  # Usado para dividir datos en train y test"
   ]
  },
  {
   "cell_type": "markdown",
   "metadata": {},
   "source": [
    "### 2️⃣ __Leer el CSV preprocesado__"
   ]
  },
  {
   "cell_type": "code",
   "execution_count": 2,
   "metadata": {},
   "outputs": [],
   "source": [
    "ctu13_df = dd.read_csv('./preprocessing_data/dataset_procesado.csv')"
   ]
  },
  {
   "cell_type": "markdown",
   "metadata": {},
   "source": [
    "### 3️⃣ __Obtenemos los flujos de red que solamente pertenecen a una botnet__"
   ]
  },
  {
   "cell_type": "code",
   "execution_count": 3,
   "metadata": {},
   "outputs": [
    {
     "data": {
      "text/plain": [
       "(339700, 17)"
      ]
     },
     "execution_count": 3,
     "metadata": {},
     "output_type": "execute_result"
    }
   ],
   "source": [
    "df_botnets = ctu13_df[ctu13_df['is_botnet'] == 1].copy()\n",
    "df_botnets.compute().shape"
   ]
  },
  {
   "cell_type": "markdown",
   "metadata": {},
   "source": [
    "### 4️⃣ __Asignamos una etiqueta objetivo idnetificando cada tipo de botnet a clasificar__"
   ]
  },
  {
   "cell_type": "code",
   "execution_count": 4,
   "metadata": {},
   "outputs": [
    {
     "data": {
      "text/plain": [
       "target\n",
       "3    106352\n",
       "5     40003\n",
       "1      6127\n",
       "0        63\n",
       "2    184987\n",
       "4      2168\n",
       "Name: count, dtype: int64"
      ]
     },
     "execution_count": 4,
     "metadata": {},
     "output_type": "execute_result"
    }
   ],
   "source": [
    "escenarios = {0: 'Sogou', 1: 'Murlo', 2: 'Neris', 3: 'RBot', 4: 'NsisAy', 5: 'Virut'}\n",
    "df_botnets['target'] = df_botnets['BOTNET_NAME'].map({v: k for k, v in escenarios.items()}, meta=('BOTNET_NAME', 'int64'))\n",
    "df_botnets['target'].value_counts().compute()"
   ]
  },
  {
   "cell_type": "markdown",
   "metadata": {},
   "source": [
    "### 5️⃣ __Eliminamos las columnas innecesarias__"
   ]
  },
  {
   "cell_type": "code",
   "execution_count": 5,
   "metadata": {},
   "outputs": [
    {
     "data": {
      "text/html": [
       "<div>\n",
       "<style scoped>\n",
       "    .dataframe tbody tr th:only-of-type {\n",
       "        vertical-align: middle;\n",
       "    }\n",
       "\n",
       "    .dataframe tbody tr th {\n",
       "        vertical-align: top;\n",
       "    }\n",
       "\n",
       "    .dataframe thead th {\n",
       "        text-align: right;\n",
       "    }\n",
       "</style>\n",
       "<table border=\"1\" class=\"dataframe\">\n",
       "  <thead>\n",
       "    <tr style=\"text-align: right;\">\n",
       "      <th></th>\n",
       "      <th>Dur</th>\n",
       "      <th>Proto</th>\n",
       "      <th>Sport</th>\n",
       "      <th>Dir</th>\n",
       "      <th>Dport</th>\n",
       "      <th>sTos</th>\n",
       "      <th>dTos</th>\n",
       "      <th>TotPkts</th>\n",
       "      <th>TotBytes</th>\n",
       "      <th>SrcBytes</th>\n",
       "      <th>label</th>\n",
       "      <th>target</th>\n",
       "    </tr>\n",
       "  </thead>\n",
       "  <tbody>\n",
       "    <tr>\n",
       "      <th>14659</th>\n",
       "      <td>0.000274</td>\n",
       "      <td>udp</td>\n",
       "      <td>1025.0</td>\n",
       "      <td>&lt;-&gt;</td>\n",
       "      <td>53.0</td>\n",
       "      <td>0.0</td>\n",
       "      <td>0.0</td>\n",
       "      <td>2.0</td>\n",
       "      <td>203.0</td>\n",
       "      <td>64.0</td>\n",
       "      <td>Sogou</td>\n",
       "      <td>0</td>\n",
       "    </tr>\n",
       "    <tr>\n",
       "      <th>14888</th>\n",
       "      <td>0.010509</td>\n",
       "      <td>udp</td>\n",
       "      <td>1025.0</td>\n",
       "      <td>&lt;-&gt;</td>\n",
       "      <td>53.0</td>\n",
       "      <td>0.0</td>\n",
       "      <td>0.0</td>\n",
       "      <td>2.0</td>\n",
       "      <td>590.0</td>\n",
       "      <td>87.0</td>\n",
       "      <td>Sogou</td>\n",
       "      <td>0</td>\n",
       "    </tr>\n",
       "    <tr>\n",
       "      <th>14892</th>\n",
       "      <td>0.054527</td>\n",
       "      <td>tcp</td>\n",
       "      <td>1027.0</td>\n",
       "      <td>-&gt;</td>\n",
       "      <td>80.0</td>\n",
       "      <td>0.0</td>\n",
       "      <td>0.0</td>\n",
       "      <td>7.0</td>\n",
       "      <td>882.0</td>\n",
       "      <td>629.0</td>\n",
       "      <td>Sogou</td>\n",
       "      <td>0</td>\n",
       "    </tr>\n",
       "    <tr>\n",
       "      <th>15090</th>\n",
       "      <td>0.000502</td>\n",
       "      <td>udp</td>\n",
       "      <td>1025.0</td>\n",
       "      <td>&lt;-&gt;</td>\n",
       "      <td>53.0</td>\n",
       "      <td>0.0</td>\n",
       "      <td>0.0</td>\n",
       "      <td>2.0</td>\n",
       "      <td>479.0</td>\n",
       "      <td>76.0</td>\n",
       "      <td>Sogou</td>\n",
       "      <td>0</td>\n",
       "    </tr>\n",
       "    <tr>\n",
       "      <th>15092</th>\n",
       "      <td>2.995112</td>\n",
       "      <td>udp</td>\n",
       "      <td>123.0</td>\n",
       "      <td>-&gt;</td>\n",
       "      <td>123.0</td>\n",
       "      <td>0.0</td>\n",
       "      <td>0.0</td>\n",
       "      <td>2.0</td>\n",
       "      <td>180.0</td>\n",
       "      <td>180.0</td>\n",
       "      <td>Sogou</td>\n",
       "      <td>0</td>\n",
       "    </tr>\n",
       "    <tr>\n",
       "      <th>...</th>\n",
       "      <td>...</td>\n",
       "      <td>...</td>\n",
       "      <td>...</td>\n",
       "      <td>...</td>\n",
       "      <td>...</td>\n",
       "      <td>...</td>\n",
       "      <td>...</td>\n",
       "      <td>...</td>\n",
       "      <td>...</td>\n",
       "      <td>...</td>\n",
       "      <td>...</td>\n",
       "      <td>...</td>\n",
       "    </tr>\n",
       "    <tr>\n",
       "      <th>411906</th>\n",
       "      <td>1.308413</td>\n",
       "      <td>tcp</td>\n",
       "      <td>23049.0</td>\n",
       "      <td>-&gt;</td>\n",
       "      <td>443.0</td>\n",
       "      <td>0.0</td>\n",
       "      <td>0.0</td>\n",
       "      <td>6.0</td>\n",
       "      <td>366.0</td>\n",
       "      <td>186.0</td>\n",
       "      <td>Virut</td>\n",
       "      <td>5</td>\n",
       "    </tr>\n",
       "    <tr>\n",
       "      <th>411987</th>\n",
       "      <td>1.207547</td>\n",
       "      <td>tcp</td>\n",
       "      <td>23050.0</td>\n",
       "      <td>-&gt;</td>\n",
       "      <td>443.0</td>\n",
       "      <td>0.0</td>\n",
       "      <td>0.0</td>\n",
       "      <td>6.0</td>\n",
       "      <td>366.0</td>\n",
       "      <td>186.0</td>\n",
       "      <td>Virut</td>\n",
       "      <td>5</td>\n",
       "    </tr>\n",
       "    <tr>\n",
       "      <th>412081</th>\n",
       "      <td>1.307525</td>\n",
       "      <td>tcp</td>\n",
       "      <td>23051.0</td>\n",
       "      <td>-&gt;</td>\n",
       "      <td>443.0</td>\n",
       "      <td>0.0</td>\n",
       "      <td>0.0</td>\n",
       "      <td>6.0</td>\n",
       "      <td>366.0</td>\n",
       "      <td>186.0</td>\n",
       "      <td>Virut</td>\n",
       "      <td>5</td>\n",
       "    </tr>\n",
       "    <tr>\n",
       "      <th>412161</th>\n",
       "      <td>1.308276</td>\n",
       "      <td>tcp</td>\n",
       "      <td>23052.0</td>\n",
       "      <td>-&gt;</td>\n",
       "      <td>443.0</td>\n",
       "      <td>0.0</td>\n",
       "      <td>0.0</td>\n",
       "      <td>6.0</td>\n",
       "      <td>366.0</td>\n",
       "      <td>186.0</td>\n",
       "      <td>Virut</td>\n",
       "      <td>5</td>\n",
       "    </tr>\n",
       "    <tr>\n",
       "      <th>412242</th>\n",
       "      <td>0.146164</td>\n",
       "      <td>tcp</td>\n",
       "      <td>23053.0</td>\n",
       "      <td>-&gt;</td>\n",
       "      <td>443.0</td>\n",
       "      <td>0.0</td>\n",
       "      <td>0.0</td>\n",
       "      <td>2.0</td>\n",
       "      <td>122.0</td>\n",
       "      <td>62.0</td>\n",
       "      <td>Virut</td>\n",
       "      <td>5</td>\n",
       "    </tr>\n",
       "  </tbody>\n",
       "</table>\n",
       "<p>339700 rows × 12 columns</p>\n",
       "</div>"
      ],
      "text/plain": [
       "             Dur Proto    Sport    Dir  Dport  sTos  dTos  TotPkts  TotBytes  \\\n",
       "14659   0.000274   udp   1025.0    <->   53.0   0.0   0.0      2.0     203.0   \n",
       "14888   0.010509   udp   1025.0    <->   53.0   0.0   0.0      2.0     590.0   \n",
       "14892   0.054527   tcp   1027.0     ->   80.0   0.0   0.0      7.0     882.0   \n",
       "15090   0.000502   udp   1025.0    <->   53.0   0.0   0.0      2.0     479.0   \n",
       "15092   2.995112   udp    123.0     ->  123.0   0.0   0.0      2.0     180.0   \n",
       "...          ...   ...      ...    ...    ...   ...   ...      ...       ...   \n",
       "411906  1.308413   tcp  23049.0     ->  443.0   0.0   0.0      6.0     366.0   \n",
       "411987  1.207547   tcp  23050.0     ->  443.0   0.0   0.0      6.0     366.0   \n",
       "412081  1.307525   tcp  23051.0     ->  443.0   0.0   0.0      6.0     366.0   \n",
       "412161  1.308276   tcp  23052.0     ->  443.0   0.0   0.0      6.0     366.0   \n",
       "412242  0.146164   tcp  23053.0     ->  443.0   0.0   0.0      2.0     122.0   \n",
       "\n",
       "        SrcBytes  label  target  \n",
       "14659       64.0  Sogou       0  \n",
       "14888       87.0  Sogou       0  \n",
       "14892      629.0  Sogou       0  \n",
       "15090       76.0  Sogou       0  \n",
       "15092      180.0  Sogou       0  \n",
       "...          ...    ...     ...  \n",
       "411906     186.0  Virut       5  \n",
       "411987     186.0  Virut       5  \n",
       "412081     186.0  Virut       5  \n",
       "412161     186.0  Virut       5  \n",
       "412242      62.0  Virut       5  \n",
       "\n",
       "[339700 rows x 12 columns]"
      ]
     },
     "execution_count": 5,
     "metadata": {},
     "output_type": "execute_result"
    }
   ],
   "source": [
    "df_only_botnets = df_botnets.drop(['StartTime', 'SrcAddr', 'DstAddr', 'State', 'Label', 'is_botnet'], axis=1).copy()\n",
    "df_only_botnets = df_only_botnets.rename(columns={'BOTNET_NAME': 'label'})\n",
    "\n",
    "df_only_botnets.compute()"
   ]
  },
  {
   "cell_type": "markdown",
   "metadata": {},
   "source": [
    "### __Definir columnas numéricas y categóricas__"
   ]
  },
  {
   "cell_type": "code",
   "execution_count": 6,
   "metadata": {},
   "outputs": [
    {
     "name": "stdout",
     "output_type": "stream",
     "text": [
      "Columnas numericas: ['Dur', 'Sport', 'Dport', 'TotPkts', 'TotBytes', 'SrcBytes']\n",
      "Columnas categoricas: ['Proto', 'dTos', 'sTos', 'Dir']\n"
     ]
    }
   ],
   "source": [
    "\n",
    "numerical_columns = ['Dur', 'Sport', 'Dport', 'TotPkts', 'TotBytes', 'SrcBytes']\n",
    "categorical_columns = list(set(df_only_botnets.columns) - set(numerical_columns))\n",
    "categorical_columns.remove('target')\n",
    "categorical_columns.remove('label')\n",
    "print(\"Columnas numericas:\", numerical_columns)\n",
    "print(\"Columnas categoricas:\", categorical_columns)"
   ]
  },
  {
   "cell_type": "markdown",
   "metadata": {},
   "source": [
    "### __Normalizar columnas numéricas__"
   ]
  },
  {
   "cell_type": "code",
   "execution_count": 7,
   "metadata": {},
   "outputs": [
    {
     "name": "stdout",
     "output_type": "stream",
     "text": [
      "Tipo de DataFrame: <class 'pandas.core.frame.DataFrame'>\n"
     ]
    },
    {
     "data": {
      "text/plain": [
       "(                 Dur     Sport         Dport   TotPkts      TotBytes  \\\n",
       " 0       4.018275e-04  0.017197  1.236660e-05  0.000028  2.205588e-06   \n",
       " 1       2.474820e-01  0.673355  4.062833e-07  0.000006  1.493457e-05   \n",
       " 2       9.139160e-08  0.043825  9.646909e-08  0.000006  2.854290e-06   \n",
       " 3       8.174055e-03  0.056063  1.215121e-04  0.001027  1.209635e-03   \n",
       " 4       0.000000e+00  0.060763  4.452420e-08  0.000000  1.441561e-08   \n",
       " ...              ...       ...           ...       ...           ...   \n",
       " 339695  2.503552e-03  0.061404  4.452420e-08  0.000011  9.081833e-07   \n",
       " 339696  0.000000e+00  0.465552  9.646909e-08  0.000000  7.251051e-06   \n",
       " 339697  2.503762e-03  0.026689  4.452420e-08  0.000011  9.081833e-07   \n",
       " 339698  8.343373e-04  0.025865  4.452420e-08  0.000006  4.612995e-07   \n",
       " 339699  6.287937e-05  0.042330  1.465588e-07  0.000057  1.982867e-05   \n",
       " \n",
       "             SrcBytes  sTos_0.0  dTos_0.0  dTos_2.0  Dir_   ->  Dir_  <->  \\\n",
       " 0       9.081833e-07         1         1         0          1          0   \n",
       " 1       1.493457e-05         1         1         0          1          0   \n",
       " 2       6.487024e-08         1         1         0          0          1   \n",
       " 3       1.176364e-03         1         1         0          1          0   \n",
       " 4       1.441561e-08         1         1         0          1          0   \n",
       " ...              ...       ...       ...       ...        ...        ...   \n",
       " 339695  9.081833e-07         1         1         0          1          0   \n",
       " 339696  7.251051e-06         1         1         0          1          0   \n",
       " 339697  9.081833e-07         1         1         0          1          0   \n",
       " 339698  4.612995e-07         1         1         0          1          0   \n",
       " 339699  7.063648e-06         1         1         0          1          0   \n",
       " \n",
       "         Proto_icmp  Proto_rtp  Proto_tcp  Proto_udp  \n",
       " 0                0          0          1          0  \n",
       " 1                1          0          0          0  \n",
       " 2                0          0          0          1  \n",
       " 3                0          0          1          0  \n",
       " 4                0          0          1          0  \n",
       " ...            ...        ...        ...        ...  \n",
       " 339695           0          0          1          0  \n",
       " 339696           1          0          0          0  \n",
       " 339697           0          0          1          0  \n",
       " 339698           0          0          1          0  \n",
       " 339699           0          0          1          0  \n",
       " \n",
       " [339700 rows x 15 columns],\n",
       " 0         2\n",
       " 1         3\n",
       " 2         2\n",
       " 3         2\n",
       " 4         2\n",
       "          ..\n",
       " 339695    2\n",
       " 339696    3\n",
       " 339697    5\n",
       " 339698    2\n",
       " 339699    2\n",
       " Name: target, Length: 339700, dtype: int64,\n",
       " 0         Neris\n",
       " 1          RBot\n",
       " 2         Neris\n",
       " 3         Neris\n",
       " 4         Neris\n",
       "           ...  \n",
       " 339695    Neris\n",
       " 339696     RBot\n",
       " 339697    Virut\n",
       " 339698    Neris\n",
       " 339699    Neris\n",
       " Name: label, Length: 339700, dtype: object)"
      ]
     },
     "execution_count": 7,
     "metadata": {},
     "output_type": "execute_result"
    }
   ],
   "source": [
    "# Convertir de Dask a Pandas antes de continuar\n",
    "df_only_botnets_pd = df_only_botnets.compute()\n",
    "print(\"Tipo de DataFrame:\", type(df_only_botnets_pd))\n",
    "\n",
    "# Normalizar columnas numéricas\n",
    "scaler = MinMaxScaler()\n",
    "df_only_botnets_pd[numerical_columns] = scaler.fit_transform(df_only_botnets_pd[numerical_columns])\n",
    "\n",
    "# Guardar el scaler\n",
    "pickle.dump(scaler, open(os.path.join('pklfiles', 'scaletrainBotnet.pkl'), 'wb'))\n",
    "\n",
    "# Crear y ajustar codificadores\n",
    "ohe_stos = OneHotEncoder(sparse_output=False)\n",
    "ohe_dtos = OneHotEncoder(sparse_output=False)\n",
    "ohe_dir = OneHotEncoder(sparse_output=False)\n",
    "ohe_proto = OneHotEncoder(sparse_output=False)\n",
    "\n",
    "ohe_stos.fit(df_only_botnets_pd[['sTos']])\n",
    "ohe_dtos.fit(df_only_botnets_pd[['dTos']])\n",
    "ohe_dir.fit(df_only_botnets_pd[['Dir']])\n",
    "ohe_proto.fit(df_only_botnets_pd[['Proto']])\n",
    "\n",
    "# Aplicar OneHotEncoding y concatenar con Pandas\n",
    "def apply_onehot_encoding(df, col_name, encoder):\n",
    "    encoded = encoder.transform(df[[col_name]])\n",
    "    encoded_df = pd.DataFrame(encoded, dtype='int64', columns=[f'{col_name}_{cat}' for cat in encoder.categories_[0]])\n",
    "    df = df.drop(columns=[col_name]).reset_index(drop=True)\n",
    "    return pd.concat([df, encoded_df], axis=1)\n",
    "\n",
    "# Copiar DataFrame\n",
    "encoded_df = df_only_botnets_pd.copy()\n",
    "\n",
    "# Aplicar OneHotEncoder en columnas\n",
    "encoded_df = apply_onehot_encoding(encoded_df, 'sTos', ohe_stos)\n",
    "encoded_df = apply_onehot_encoding(encoded_df, 'dTos', ohe_dtos)\n",
    "encoded_df = apply_onehot_encoding(encoded_df, 'Dir', ohe_dir)\n",
    "encoded_df = apply_onehot_encoding(encoded_df, 'Proto', ohe_proto)\n",
    "\n",
    "# Mezclar filas y resetear el índice\n",
    "encoded_df = encoded_df.sample(frac=1).reset_index(drop=True)\n",
    "\n",
    "# Separar target y label\n",
    "target = encoded_df.pop('target')\n",
    "label = encoded_df.pop('label')\n",
    "\n",
    "# Resultado final\n",
    "encoded_df, target, label"
   ]
  },
  {
   "cell_type": "code",
   "execution_count": 8,
   "metadata": {},
   "outputs": [
    {
     "data": {
      "text/html": [
       "<div>\n",
       "<style scoped>\n",
       "    .dataframe tbody tr th:only-of-type {\n",
       "        vertical-align: middle;\n",
       "    }\n",
       "\n",
       "    .dataframe tbody tr th {\n",
       "        vertical-align: top;\n",
       "    }\n",
       "\n",
       "    .dataframe thead th {\n",
       "        text-align: right;\n",
       "    }\n",
       "</style>\n",
       "<table border=\"1\" class=\"dataframe\">\n",
       "  <thead>\n",
       "    <tr style=\"text-align: right;\">\n",
       "      <th></th>\n",
       "      <th>Dur</th>\n",
       "      <th>Sport</th>\n",
       "      <th>Dport</th>\n",
       "      <th>TotPkts</th>\n",
       "      <th>TotBytes</th>\n",
       "      <th>SrcBytes</th>\n",
       "      <th>sTos_0.0</th>\n",
       "      <th>dTos_0.0</th>\n",
       "      <th>dTos_2.0</th>\n",
       "      <th>Dir_   -&gt;</th>\n",
       "      <th>Dir_  &lt;-&gt;</th>\n",
       "      <th>Proto_icmp</th>\n",
       "      <th>Proto_rtp</th>\n",
       "      <th>Proto_tcp</th>\n",
       "      <th>Proto_udp</th>\n",
       "    </tr>\n",
       "  </thead>\n",
       "  <tbody>\n",
       "    <tr>\n",
       "      <th>0</th>\n",
       "      <td>4.018275e-04</td>\n",
       "      <td>0.017197</td>\n",
       "      <td>1.236660e-05</td>\n",
       "      <td>0.000028</td>\n",
       "      <td>2.205588e-06</td>\n",
       "      <td>9.081833e-07</td>\n",
       "      <td>1</td>\n",
       "      <td>1</td>\n",
       "      <td>0</td>\n",
       "      <td>1</td>\n",
       "      <td>0</td>\n",
       "      <td>0</td>\n",
       "      <td>0</td>\n",
       "      <td>1</td>\n",
       "      <td>0</td>\n",
       "    </tr>\n",
       "    <tr>\n",
       "      <th>1</th>\n",
       "      <td>2.474820e-01</td>\n",
       "      <td>0.673355</td>\n",
       "      <td>4.062833e-07</td>\n",
       "      <td>0.000006</td>\n",
       "      <td>1.493457e-05</td>\n",
       "      <td>1.493457e-05</td>\n",
       "      <td>1</td>\n",
       "      <td>1</td>\n",
       "      <td>0</td>\n",
       "      <td>1</td>\n",
       "      <td>0</td>\n",
       "      <td>1</td>\n",
       "      <td>0</td>\n",
       "      <td>0</td>\n",
       "      <td>0</td>\n",
       "    </tr>\n",
       "    <tr>\n",
       "      <th>2</th>\n",
       "      <td>9.139160e-08</td>\n",
       "      <td>0.043825</td>\n",
       "      <td>9.646909e-08</td>\n",
       "      <td>0.000006</td>\n",
       "      <td>2.854290e-06</td>\n",
       "      <td>6.487024e-08</td>\n",
       "      <td>1</td>\n",
       "      <td>1</td>\n",
       "      <td>0</td>\n",
       "      <td>0</td>\n",
       "      <td>1</td>\n",
       "      <td>0</td>\n",
       "      <td>0</td>\n",
       "      <td>0</td>\n",
       "      <td>1</td>\n",
       "    </tr>\n",
       "    <tr>\n",
       "      <th>3</th>\n",
       "      <td>8.174055e-03</td>\n",
       "      <td>0.056063</td>\n",
       "      <td>1.215121e-04</td>\n",
       "      <td>0.001027</td>\n",
       "      <td>1.209635e-03</td>\n",
       "      <td>1.176364e-03</td>\n",
       "      <td>1</td>\n",
       "      <td>1</td>\n",
       "      <td>0</td>\n",
       "      <td>1</td>\n",
       "      <td>0</td>\n",
       "      <td>0</td>\n",
       "      <td>0</td>\n",
       "      <td>1</td>\n",
       "      <td>0</td>\n",
       "    </tr>\n",
       "    <tr>\n",
       "      <th>4</th>\n",
       "      <td>0.000000e+00</td>\n",
       "      <td>0.060763</td>\n",
       "      <td>4.452420e-08</td>\n",
       "      <td>0.000000</td>\n",
       "      <td>1.441561e-08</td>\n",
       "      <td>1.441561e-08</td>\n",
       "      <td>1</td>\n",
       "      <td>1</td>\n",
       "      <td>0</td>\n",
       "      <td>1</td>\n",
       "      <td>0</td>\n",
       "      <td>0</td>\n",
       "      <td>0</td>\n",
       "      <td>1</td>\n",
       "      <td>0</td>\n",
       "    </tr>\n",
       "  </tbody>\n",
       "</table>\n",
       "</div>"
      ],
      "text/plain": [
       "            Dur     Sport         Dport   TotPkts      TotBytes      SrcBytes  \\\n",
       "0  4.018275e-04  0.017197  1.236660e-05  0.000028  2.205588e-06  9.081833e-07   \n",
       "1  2.474820e-01  0.673355  4.062833e-07  0.000006  1.493457e-05  1.493457e-05   \n",
       "2  9.139160e-08  0.043825  9.646909e-08  0.000006  2.854290e-06  6.487024e-08   \n",
       "3  8.174055e-03  0.056063  1.215121e-04  0.001027  1.209635e-03  1.176364e-03   \n",
       "4  0.000000e+00  0.060763  4.452420e-08  0.000000  1.441561e-08  1.441561e-08   \n",
       "\n",
       "   sTos_0.0  dTos_0.0  dTos_2.0  Dir_   ->  Dir_  <->  Proto_icmp  Proto_rtp  \\\n",
       "0         1         1         0          1          0           0          0   \n",
       "1         1         1         0          1          0           1          0   \n",
       "2         1         1         0          0          1           0          0   \n",
       "3         1         1         0          1          0           0          0   \n",
       "4         1         1         0          1          0           0          0   \n",
       "\n",
       "   Proto_tcp  Proto_udp  \n",
       "0          1          0  \n",
       "1          0          0  \n",
       "2          0          1  \n",
       "3          1          0  \n",
       "4          1          0  "
      ]
     },
     "execution_count": 8,
     "metadata": {},
     "output_type": "execute_result"
    }
   ],
   "source": [
    "encoded_df.head()"
   ]
  },
  {
   "cell_type": "code",
   "execution_count": 9,
   "metadata": {},
   "outputs": [
    {
     "data": {
      "text/plain": [
       "0    2\n",
       "1    3\n",
       "2    2\n",
       "3    2\n",
       "4    2\n",
       "Name: target, dtype: int64"
      ]
     },
     "execution_count": 9,
     "metadata": {},
     "output_type": "execute_result"
    }
   ],
   "source": [
    "target.head()"
   ]
  },
  {
   "cell_type": "code",
   "execution_count": 10,
   "metadata": {},
   "outputs": [
    {
     "data": {
      "text/plain": [
       "0    Neris\n",
       "1     RBot\n",
       "2    Neris\n",
       "3    Neris\n",
       "4    Neris\n",
       "Name: label, dtype: object"
      ]
     },
     "execution_count": 10,
     "metadata": {},
     "output_type": "execute_result"
    }
   ],
   "source": [
    "label.head()"
   ]
  },
  {
   "cell_type": "markdown",
   "metadata": {},
   "source": [
    "### __Generamos la matriz de caracteristicas y el vector de etiquetas en sus respectivos archivos .csv__"
   ]
  },
  {
   "cell_type": "code",
   "execution_count": 12,
   "metadata": {},
   "outputs": [],
   "source": [
    "encoded_df.to_csv(os.path.join('mlp_data', 'X_features_matrix.csv'), index=False)\n",
    "target.to_csv(os.path.join('mlp_data', 'Y_target_vector.csv'), index=False)"
   ]
  }
 ],
 "metadata": {
  "kernelspec": {
   "display_name": "Python 3",
   "language": "python",
   "name": "python3"
  },
  "language_info": {
   "codemirror_mode": {
    "name": "ipython",
    "version": 3
   },
   "file_extension": ".py",
   "mimetype": "text/x-python",
   "name": "python",
   "nbconvert_exporter": "python",
   "pygments_lexer": "ipython3",
   "version": "3.9.0"
  }
 },
 "nbformat": 4,
 "nbformat_minor": 2
}
