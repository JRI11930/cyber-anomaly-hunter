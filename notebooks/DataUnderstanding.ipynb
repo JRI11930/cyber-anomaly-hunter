{
 "cells": [
  {
   "cell_type": "markdown",
   "metadata": {},
   "source": [
    "# ***a) Recolectar los datos iniciales***\n",
    "\n",
    "Los datos fueron recolectados del siguiente enlace: https://www.stratosphereips.org/datasets-ctu13\n",
    "\n",
    "## CTU-13 Dataset: Tipos de Archivos y Descarga\n",
    "\n",
    "### 📂 **Tipos de Archivos**\n",
    "Cada escenario del conjunto de datos CTU-13 incluye diferentes tipos de archivos procesados. Por razones de privacidad, no está disponible el archivo completo `.pcap` con todos los datos de tráfico. Sin embargo, se dispone de otros archivos útiles para el análisis:\n",
    "\n",
    "- **Archivos .parquet**: Capturan exclusivamente el tráfico de botnets.\n",
    "- **Archivos .binetflow**: Archivos NetFlow bidireccionales, generados con **Argus**, que contienen información del tráfico, incluyendo etiquetas, direcciones IP fuente y destino, así como los puertos asociados, tipo de botnet y tambien si es trafico malicioso o no.\n",
    "- **Archivo Ejecutable Original**: Disponible para ciertos escenarios, útil para análisis adicionales.\n",
    "\n",
    "---\n",
    "\n",
    "### 📥 **Descarga del Conjunto de Datos**\n",
    "\n",
    "- **Descarga Completa:** Puedes descargar todo el conjunto de datos como un archivo comprimido.\n",
    "  - [CTU-13-Dataset.tar.bz2 (1.9GB)](URL_DE_DESCARGA_COMPLETA)\n",
    "\n",
    "- **Descarga por Escenario:** También puedes descargar cada captura de manera individual. Los archivos `.binetflow` se encuentran en la carpeta `detailed-bidirectional-flow-labels`.\n",
    "\n",
    "  - [CTU-Malware-Capture-Botnet-42](URL_42)\n",
    "  - [CTU-Malware-Capture-Botnet-43](URL_43)\n",
    "  - [CTU-Malware-Capture-Botnet-44](URL_44)\n",
    "  - [CTU-Malware-Capture-Botnet-45](URL_45)\n",
    "  - [CTU-Malware-Capture-Botnet-46](URL_46)\n",
    "  - [CTU-Malware-Capture-Botnet-47](URL_47)\n",
    "  - [CTU-Malware-Capture-Botnet-48](URL_48)\n",
    "  - [CTU-Malware-Capture-Botnet-49](URL_49)\n",
    "  - [CTU-Malware-Capture-Botnet-50](URL_50)\n",
    "  - [CTU-Malware-Capture-Botnet-51](URL_51)\n",
    "  - [CTU-Malware-Capture-Botnet-52](URL_52)\n",
    "  - [CTU-Malware-Capture-Botnet-53](URL_53)\n",
    "  - [CTU-Malware-Capture-Botnet-54](URL_54)\n",
    "\n",
    "---\n",
    "\n",
    "Para cualquier análisis adicional o consulta sobre los archivos `.binetflow`, asegurarse de verificar las etiquetas de flujo bidireccional disponibles en cada escenario.\n",
    "\n",
    "# ***b) Descripcion de los datos***\n",
    "\n",
    "\n",
    "Las características con las que cuenta el dataset son:\n",
    "\n",
    "| Característica     | Descripción                                                                 |\n",
    "|--------------|-----------------------------------------------------------------------------|\n",
    "| dur      | Duración de la conexión en segundos.                                         |\n",
    "| proto    | Protocolo de comunicación utilizado (ej. TCP, UDP, ICMP).                   |\n",
    "| dir      | Dirección del flujo de tráfico (ej. → si es de origen a destino, o ← si es de destino a origen). |\n",
    "| state    | Estado de la conexión (ej. CON para conexiones establecidas, INT para interrumpidas). |\n",
    "| stos / dtos | Tipo de servicio (ToS) del tráfico enviado y recibido. Son valores que indican la prioridad del paquete en la red. |\n",
    "| tot_pkts | Número total de paquetes enviados en la conexión.                           |\n",
    "| tot_bytes| Número total de bytes transferidos.                                         |\n",
    "| src_bytes| Cantidad de bytes enviados desde la IP de origen.                            |\n",
    "| label    | Etiqueta que indica si el tráfico es normal o pertenece a una botnet (tráfico malicioso). |\n",
    "| Family   | Especie de botnet detectada (ej. Neris, Rbot, Virut, Murlo, etc.).           |"
   ]
  },
  {
   "cell_type": "markdown",
   "metadata": {},
   "source": [
    "### ***Importacion de modulos***"
   ]
  },
  {
   "cell_type": "code",
   "execution_count": 51,
   "metadata": {},
   "outputs": [],
   "source": [
    "import dask.dataframe as dd"
   ]
  },
  {
   "cell_type": "markdown",
   "metadata": {},
   "source": [
    "### ***Funcion para concatenar los archivos .parquet y generar un nuevo dataset***"
   ]
  },
  {
   "cell_type": "code",
   "execution_count": 53,
   "metadata": {},
   "outputs": [],
   "source": [
    "def concatenate_parquet_to_csv(input_dir, output_file):\n",
    "    df = dd.read_parquet(f'{input_dir}/*.parquet', engine='pyarrow')\n",
    "    df.to_csv(output_file, index=False, single_file=True)\n",
    "    print(f'Dataset concatenado y guardado en {output_file}')\n",
    "    del df\n",
    "    "
   ]
  },
  {
   "cell_type": "markdown",
   "metadata": {},
   "source": [
    "### ***Concatenar los archivos .parquet y generar un .csv con todos los datos***"
   ]
  },
  {
   "cell_type": "code",
   "execution_count": 54,
   "metadata": {},
   "outputs": [
    {
     "name": "stdout",
     "output_type": "stream",
     "text": [
      "Dataset concatenado y guardado en ./data/ctu13.csv\n"
     ]
    }
   ],
   "source": [
    "concatenate_parquet_to_csv('./archive', './data/ctu13.csv')"
   ]
  },
  {
   "cell_type": "markdown",
   "metadata": {},
   "source": [
    "### ***Cargamos el conjunto de datos nuevo (ctu13.csv)***"
   ]
  },
  {
   "cell_type": "code",
   "execution_count": 55,
   "metadata": {},
   "outputs": [],
   "source": [
    "ctu13_df = dd.read_csv('./data/ctu13.csv')"
   ]
  },
  {
   "cell_type": "markdown",
   "metadata": {},
   "source": [
    "### ***Informacion acerca de las columnas***"
   ]
  },
  {
   "cell_type": "code",
   "execution_count": 59,
   "metadata": {},
   "outputs": [
    {
     "name": "stdout",
     "output_type": "stream",
     "text": [
      "Index(['dur', 'proto', 'dir', 'state', 'stos', 'dtos', 'tot_pkts', 'tot_bytes',\n",
      "       'src_bytes', 'label', 'Family'],\n",
      "      dtype='object')\n",
      "Dask DataFrame Structure:\n",
      "                   dur     stos     dtos tot_pkts tot_bytes src_bytes\n",
      "npartitions=1                                                        \n",
      "               float64  float64  float64  float64   float64   float64\n",
      "                   ...      ...      ...      ...       ...       ...\n",
      "Dask Name: concat, 14 expressions\n",
      "Expr=Concat(frames=[ReadCSV(5a6568a)['dur'].describenumeric(split_every=False), ReadCSV(5a6568a)['stos'].describenumeric(split_every=False), ReadCSV(5a6568a)['dtos'].describenumeric(split_every=False), ReadCSV(5a6568a)['tot_pkts'].describenumeric(split_every=False), ReadCSV(5a6568a)['tot_bytes'].describenumeric(split_every=False), ReadCSV(5a6568a)['src_bytes'].describenumeric(split_every=False)], axis=1)\n",
      "Rows: 10598771 Columns: 11\n"
     ]
    },
    {
     "data": {
      "text/html": [
       "<div>\n",
       "<style scoped>\n",
       "    .dataframe tbody tr th:only-of-type {\n",
       "        vertical-align: middle;\n",
       "    }\n",
       "\n",
       "    .dataframe tbody tr th {\n",
       "        vertical-align: top;\n",
       "    }\n",
       "\n",
       "    .dataframe thead th {\n",
       "        text-align: right;\n",
       "    }\n",
       "</style>\n",
       "<table border=\"1\" class=\"dataframe\">\n",
       "  <thead>\n",
       "    <tr style=\"text-align: right;\">\n",
       "      <th></th>\n",
       "      <th>dur</th>\n",
       "      <th>proto</th>\n",
       "      <th>dir</th>\n",
       "      <th>state</th>\n",
       "      <th>stos</th>\n",
       "      <th>dtos</th>\n",
       "      <th>tot_pkts</th>\n",
       "      <th>tot_bytes</th>\n",
       "      <th>src_bytes</th>\n",
       "      <th>label</th>\n",
       "      <th>Family</th>\n",
       "    </tr>\n",
       "  </thead>\n",
       "  <tbody>\n",
       "    <tr>\n",
       "      <th>0</th>\n",
       "      <td>1.026539</td>\n",
       "      <td>tcp</td>\n",
       "      <td>-&gt;</td>\n",
       "      <td>S_RA</td>\n",
       "      <td>0.0</td>\n",
       "      <td>0.0</td>\n",
       "      <td>4</td>\n",
       "      <td>276</td>\n",
       "      <td>156</td>\n",
       "      <td>flow=Background-Established-cmpgw-CVUT</td>\n",
       "      <td>20110810.binetflow.csv</td>\n",
       "    </tr>\n",
       "    <tr>\n",
       "      <th>1</th>\n",
       "      <td>1.009595</td>\n",
       "      <td>tcp</td>\n",
       "      <td>-&gt;</td>\n",
       "      <td>S_RA</td>\n",
       "      <td>0.0</td>\n",
       "      <td>0.0</td>\n",
       "      <td>4</td>\n",
       "      <td>276</td>\n",
       "      <td>156</td>\n",
       "      <td>flow=Background-Established-cmpgw-CVUT</td>\n",
       "      <td>20110810.binetflow.csv</td>\n",
       "    </tr>\n",
       "    <tr>\n",
       "      <th>2</th>\n",
       "      <td>3.056586</td>\n",
       "      <td>tcp</td>\n",
       "      <td>-&gt;</td>\n",
       "      <td>SR_A</td>\n",
       "      <td>0.0</td>\n",
       "      <td>0.0</td>\n",
       "      <td>3</td>\n",
       "      <td>182</td>\n",
       "      <td>122</td>\n",
       "      <td>flow=Background-TCP-Attempt</td>\n",
       "      <td>20110810.binetflow.csv</td>\n",
       "    </tr>\n",
       "    <tr>\n",
       "      <th>3</th>\n",
       "      <td>3.111769</td>\n",
       "      <td>tcp</td>\n",
       "      <td>-&gt;</td>\n",
       "      <td>SR_A</td>\n",
       "      <td>0.0</td>\n",
       "      <td>0.0</td>\n",
       "      <td>3</td>\n",
       "      <td>182</td>\n",
       "      <td>122</td>\n",
       "      <td>flow=Background-TCP-Attempt</td>\n",
       "      <td>20110810.binetflow.csv</td>\n",
       "    </tr>\n",
       "    <tr>\n",
       "      <th>4</th>\n",
       "      <td>3.083411</td>\n",
       "      <td>tcp</td>\n",
       "      <td>-&gt;</td>\n",
       "      <td>SR_A</td>\n",
       "      <td>0.0</td>\n",
       "      <td>0.0</td>\n",
       "      <td>3</td>\n",
       "      <td>182</td>\n",
       "      <td>122</td>\n",
       "      <td>flow=Background-TCP-Attempt</td>\n",
       "      <td>20110810.binetflow.csv</td>\n",
       "    </tr>\n",
       "  </tbody>\n",
       "</table>\n",
       "</div>"
      ],
      "text/plain": [
       "        dur proto    dir state  stos  dtos  tot_pkts  tot_bytes  src_bytes  \\\n",
       "0  1.026539   tcp     ->  S_RA   0.0   0.0         4        276        156   \n",
       "1  1.009595   tcp     ->  S_RA   0.0   0.0         4        276        156   \n",
       "2  3.056586   tcp     ->  SR_A   0.0   0.0         3        182        122   \n",
       "3  3.111769   tcp     ->  SR_A   0.0   0.0         3        182        122   \n",
       "4  3.083411   tcp     ->  SR_A   0.0   0.0         3        182        122   \n",
       "\n",
       "                                    label                  Family  \n",
       "0  flow=Background-Established-cmpgw-CVUT  20110810.binetflow.csv  \n",
       "1  flow=Background-Established-cmpgw-CVUT  20110810.binetflow.csv  \n",
       "2             flow=Background-TCP-Attempt  20110810.binetflow.csv  \n",
       "3             flow=Background-TCP-Attempt  20110810.binetflow.csv  \n",
       "4             flow=Background-TCP-Attempt  20110810.binetflow.csv  "
      ]
     },
     "execution_count": 59,
     "metadata": {},
     "output_type": "execute_result"
    }
   ],
   "source": [
    "print(ctu13_df.columns)\n",
    "print(ctu13_df.describe())\n",
    "print(f'Rows: {len(ctu13_df)} Columns: {len(ctu13_df.columns)}')\n",
    "ctu13_df.head(5)"
   ]
  },
  {
   "cell_type": "markdown",
   "metadata": {},
   "source": [
    "### ***¿Que columnas contienen valores nulos?***"
   ]
  },
  {
   "cell_type": "code",
   "execution_count": 61,
   "metadata": {},
   "outputs": [
    {
     "data": {
      "text/plain": [
       "dur               0\n",
       "proto             0\n",
       "dir               0\n",
       "state            76\n",
       "stos          85794\n",
       "dtos         908408\n",
       "tot_pkts          0\n",
       "tot_bytes         0\n",
       "src_bytes         0\n",
       "label             0\n",
       "Family            0\n",
       "dtype: int64"
      ]
     },
     "execution_count": 61,
     "metadata": {},
     "output_type": "execute_result"
    }
   ],
   "source": [
    "ctu13_df.isnull().sum().compute()"
   ]
  }
 ],
 "metadata": {
  "kernelspec": {
   "display_name": "Python 3",
   "language": "python",
   "name": "python3"
  },
  "language_info": {
   "codemirror_mode": {
    "name": "ipython",
    "version": 3
   },
   "file_extension": ".py",
   "mimetype": "text/x-python",
   "name": "python",
   "nbconvert_exporter": "python",
   "pygments_lexer": "ipython3",
   "version": "3.9.0"
  }
 },
 "nbformat": 4,
 "nbformat_minor": 2
}
