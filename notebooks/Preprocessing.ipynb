{
 "cells": [
  {
   "cell_type": "markdown",
   "metadata": {},
   "source": [
    "<div style=\"\n",
    "    display: flex;\n",
    "    justify-content: center;\n",
    "    align-items: center;\n",
    "    background: linear-gradient(to bottom, #F5F5DC, #C0C0C0);\n",
    "    padding: 10px;\n",
    "    border-radius: 10px;\n",
    "\">\n",
    "    <img src=\"../samsung.png\" alt=\"Samsung Innovation Campus\" style=\"border-radius: 5px;\">\n",
    "</div>\n",
    "<div style=\"\n",
    "    text-align: center;\n",
    "    font-style: italic;\n",
    "\">\n",
    "    Este proyecto fue desarrollado dentro del marco del programa Samsun Innovation Campus 2024\n",
    "</div>\n",
    "\n",
    "<b>PRESENTAN</b>: José Armando Ramírez Islas & Jorge Octavio Nicolás Díaz"
   ]
  },
  {
   "cell_type": "markdown",
   "metadata": {},
   "source": [
    "# __Preprocesamiento__\n",
    "\n",
    "Las características con las que cuenta el dataset son:\n",
    "\n",
    "| Característica     | Descripción                                                                 |\n",
    "|--------------|-----------------------------------------------------------------------------|\n",
    "| dur      | Duración de la conexión en segundos.                                         |\n",
    "| proto    | Protocolo de comunicación utilizado (ej. TCP, UDP, ICMP).                   |\n",
    "| dir      | Dirección del flujo de tráfico (ej. → si es de origen a destino, o ← si es de destino a origen). |\n",
    "| state    | Estado de la conexión (ej. CON para conexiones establecidas, INT para interrumpidas). |\n",
    "| stos / dtos | Tipo de servicio (ToS) del tráfico enviado y recibido. Son valores que indican la prioridad del paquete en la red. |\n",
    "| tot_pkts | Número total de paquetes enviados en la conexión.                           |\n",
    "| tot_bytes| Número total de bytes transferidos.                                         |\n",
    "| src_bytes| Cantidad de bytes enviados desde la IP de origen.                            |\n",
    "| label    | Etiqueta que indica si el tráfico es normal o pertenece a una botnet (tráfico malicioso). |\n",
    "| Family   | Especie de botnet detectada (ej. Neris, Rbot, Virut, Murlo, etc.).           |"
   ]
  },
  {
   "cell_type": "markdown",
   "metadata": {},
   "source": [
    "### 1️⃣ __Importacion de modulos__"
   ]
  },
  {
   "cell_type": "code",
   "execution_count": 1,
   "metadata": {},
   "outputs": [],
   "source": [
    "import dask.dataframe as dd\n",
    "import os"
   ]
  },
  {
   "cell_type": "markdown",
   "metadata": {},
   "source": [
    "### 2️⃣ __Leer el CSV forzando las columnas conflictivas a 'object' (string)__"
   ]
  },
  {
   "cell_type": "code",
   "execution_count": 2,
   "metadata": {},
   "outputs": [],
   "source": [
    "ctu13_df = dd.read_csv('../data/total.csv', dtype={\"Dport\": \"object\", \"Sport\": \"object\"}, assume_missing=True)"
   ]
  },
  {
   "cell_type": "markdown",
   "metadata": {},
   "source": [
    "### 3️⃣ __Verificar los tipos de datos antes de procesar__"
   ]
  },
  {
   "cell_type": "code",
   "execution_count": 3,
   "metadata": {},
   "outputs": [
    {
     "name": "stdout",
     "output_type": "stream",
     "text": [
      "StartTime      string[pyarrow]\n",
      "Dur                    float64\n",
      "Proto          string[pyarrow]\n",
      "SrcAddr        string[pyarrow]\n",
      "Sport          string[pyarrow]\n",
      "Dir            string[pyarrow]\n",
      "DstAddr        string[pyarrow]\n",
      "Dport          string[pyarrow]\n",
      "State          string[pyarrow]\n",
      "sTos                   float64\n",
      "dTos                   float64\n",
      "TotPkts                float64\n",
      "TotBytes               float64\n",
      "SrcBytes               float64\n",
      "Label          string[pyarrow]\n",
      "BOTNET_NAME    string[pyarrow]\n",
      "dtype: object\n"
     ]
    }
   ],
   "source": [
    "print(ctu13_df.dtypes)"
   ]
  },
  {
   "cell_type": "markdown",
   "metadata": {},
   "source": [
    "### 4️⃣ __Función para convertir hex a int y evitar errores__"
   ]
  },
  {
   "cell_type": "code",
   "execution_count": 4,
   "metadata": {},
   "outputs": [],
   "source": [
    "def safe_hex_to_int(value):\n",
    "    try:\n",
    "        if isinstance(value, str) and value.startswith(\"0x\"):  \n",
    "            return int(value, 16)\n",
    "        return int(value)  \n",
    "    except ValueError:\n",
    "        return None "
   ]
  },
  {
   "cell_type": "markdown",
   "metadata": {},
   "source": [
    "### 5️⃣ __Aplicar conversión a las columnas__"
   ]
  },
  {
   "cell_type": "code",
   "execution_count": 5,
   "metadata": {},
   "outputs": [],
   "source": [
    "ctu13_df[\"Dport\"] = ctu13_df[\"Dport\"].map(safe_hex_to_int, meta=(\"Dport\", \"float64\"))\n",
    "ctu13_df[\"Sport\"] = ctu13_df[\"Sport\"].map(safe_hex_to_int, meta=(\"Sport\", \"float64\"))"
   ]
  },
  {
   "cell_type": "code",
   "execution_count": 6,
   "metadata": {},
   "outputs": [
    {
     "data": {
      "text/html": [
       "<div>\n",
       "<style scoped>\n",
       "    .dataframe tbody tr th:only-of-type {\n",
       "        vertical-align: middle;\n",
       "    }\n",
       "\n",
       "    .dataframe tbody tr th {\n",
       "        vertical-align: top;\n",
       "    }\n",
       "\n",
       "    .dataframe thead th {\n",
       "        text-align: right;\n",
       "    }\n",
       "</style>\n",
       "<table border=\"1\" class=\"dataframe\">\n",
       "  <thead>\n",
       "    <tr style=\"text-align: right;\">\n",
       "      <th></th>\n",
       "      <th>StartTime</th>\n",
       "      <th>Dur</th>\n",
       "      <th>Proto</th>\n",
       "      <th>SrcAddr</th>\n",
       "      <th>Sport</th>\n",
       "      <th>Dir</th>\n",
       "      <th>DstAddr</th>\n",
       "      <th>Dport</th>\n",
       "      <th>State</th>\n",
       "      <th>sTos</th>\n",
       "      <th>dTos</th>\n",
       "      <th>TotPkts</th>\n",
       "      <th>TotBytes</th>\n",
       "      <th>SrcBytes</th>\n",
       "      <th>Label</th>\n",
       "      <th>BOTNET_NAME</th>\n",
       "    </tr>\n",
       "  </thead>\n",
       "  <tbody>\n",
       "    <tr>\n",
       "      <th>0</th>\n",
       "      <td>2011/08/16 14:18:55.889839</td>\n",
       "      <td>3599.725830</td>\n",
       "      <td>tcp</td>\n",
       "      <td>88.176.79.163</td>\n",
       "      <td>49375</td>\n",
       "      <td>&lt;?&gt;</td>\n",
       "      <td>147.32.84.172</td>\n",
       "      <td>46696</td>\n",
       "      <td>A_PA</td>\n",
       "      <td>0.0</td>\n",
       "      <td>0.0</td>\n",
       "      <td>274708.0</td>\n",
       "      <td>271837036.0</td>\n",
       "      <td>6887036.0</td>\n",
       "      <td>flow=Background</td>\n",
       "      <td>Murlo</td>\n",
       "    </tr>\n",
       "    <tr>\n",
       "      <th>1</th>\n",
       "      <td>2011/08/16 14:18:55.890497</td>\n",
       "      <td>3532.512939</td>\n",
       "      <td>tcp</td>\n",
       "      <td>134.2.99.108</td>\n",
       "      <td>12106</td>\n",
       "      <td>&lt;?&gt;</td>\n",
       "      <td>147.32.84.59</td>\n",
       "      <td>51472</td>\n",
       "      <td>PA_PA</td>\n",
       "      <td>0.0</td>\n",
       "      <td>0.0</td>\n",
       "      <td>513.0</td>\n",
       "      <td>42640.0</td>\n",
       "      <td>21205.0</td>\n",
       "      <td>flow=Background-Established-cmpgw-CVUT</td>\n",
       "      <td>Murlo</td>\n",
       "    </tr>\n",
       "    <tr>\n",
       "      <th>2</th>\n",
       "      <td>2011/08/16 14:18:55.892530</td>\n",
       "      <td>3599.922852</td>\n",
       "      <td>udp</td>\n",
       "      <td>109.80.124.147</td>\n",
       "      <td>10227</td>\n",
       "      <td>&lt;-&gt;</td>\n",
       "      <td>147.32.86.77</td>\n",
       "      <td>43332</td>\n",
       "      <td>CON</td>\n",
       "      <td>0.0</td>\n",
       "      <td>0.0</td>\n",
       "      <td>69490.0</td>\n",
       "      <td>14362350.0</td>\n",
       "      <td>11870607.0</td>\n",
       "      <td>flow=Background-UDP-Established</td>\n",
       "      <td>Murlo</td>\n",
       "    </tr>\n",
       "    <tr>\n",
       "      <th>3</th>\n",
       "      <td>2011/08/16 14:18:55.892624</td>\n",
       "      <td>82.457962</td>\n",
       "      <td>tcp</td>\n",
       "      <td>147.32.84.59</td>\n",
       "      <td>34394</td>\n",
       "      <td>&lt;?&gt;</td>\n",
       "      <td>74.125.39.117</td>\n",
       "      <td>80</td>\n",
       "      <td>FPA_FPA</td>\n",
       "      <td>0.0</td>\n",
       "      <td>0.0</td>\n",
       "      <td>12526.0</td>\n",
       "      <td>8472421.0</td>\n",
       "      <td>8118714.0</td>\n",
       "      <td>flow=Background-Established-cmpgw-CVUT</td>\n",
       "      <td>Murlo</td>\n",
       "    </tr>\n",
       "    <tr>\n",
       "      <th>4</th>\n",
       "      <td>2011/08/16 14:18:55.894121</td>\n",
       "      <td>3599.954346</td>\n",
       "      <td>tcp</td>\n",
       "      <td>88.176.79.163</td>\n",
       "      <td>49410</td>\n",
       "      <td>&lt;?&gt;</td>\n",
       "      <td>147.32.84.172</td>\n",
       "      <td>52935</td>\n",
       "      <td>A_PA</td>\n",
       "      <td>0.0</td>\n",
       "      <td>0.0</td>\n",
       "      <td>285606.0</td>\n",
       "      <td>281932488.0</td>\n",
       "      <td>7230814.0</td>\n",
       "      <td>flow=Background</td>\n",
       "      <td>Murlo</td>\n",
       "    </tr>\n",
       "  </tbody>\n",
       "</table>\n",
       "</div>"
      ],
      "text/plain": [
       "                    StartTime          Dur Proto         SrcAddr  Sport  \\\n",
       "0  2011/08/16 14:18:55.889839  3599.725830   tcp   88.176.79.163  49375   \n",
       "1  2011/08/16 14:18:55.890497  3532.512939   tcp    134.2.99.108  12106   \n",
       "2  2011/08/16 14:18:55.892530  3599.922852   udp  109.80.124.147  10227   \n",
       "3  2011/08/16 14:18:55.892624    82.457962   tcp    147.32.84.59  34394   \n",
       "4  2011/08/16 14:18:55.894121  3599.954346   tcp   88.176.79.163  49410   \n",
       "\n",
       "     Dir        DstAddr  Dport    State  sTos  dTos   TotPkts     TotBytes  \\\n",
       "0    <?>  147.32.84.172  46696     A_PA   0.0   0.0  274708.0  271837036.0   \n",
       "1    <?>   147.32.84.59  51472    PA_PA   0.0   0.0     513.0      42640.0   \n",
       "2    <->   147.32.86.77  43332      CON   0.0   0.0   69490.0   14362350.0   \n",
       "3    <?>  74.125.39.117     80  FPA_FPA   0.0   0.0   12526.0    8472421.0   \n",
       "4    <?>  147.32.84.172  52935     A_PA   0.0   0.0  285606.0  281932488.0   \n",
       "\n",
       "     SrcBytes                                   Label BOTNET_NAME  \n",
       "0   6887036.0                         flow=Background       Murlo  \n",
       "1     21205.0  flow=Background-Established-cmpgw-CVUT       Murlo  \n",
       "2  11870607.0         flow=Background-UDP-Established       Murlo  \n",
       "3   8118714.0  flow=Background-Established-cmpgw-CVUT       Murlo  \n",
       "4   7230814.0                         flow=Background       Murlo  "
      ]
     },
     "execution_count": 6,
     "metadata": {},
     "output_type": "execute_result"
    }
   ],
   "source": [
    "ctu13_df.head()"
   ]
  },
  {
   "cell_type": "markdown",
   "metadata": {},
   "source": [
    "### 6️⃣ __¿Que columnas tienen valores nulos?__"
   ]
  },
  {
   "cell_type": "code",
   "execution_count": 7,
   "metadata": {},
   "outputs": [
    {
     "data": {
      "text/plain": [
       "StartTime           0\n",
       "Dur                 0\n",
       "Proto               0\n",
       "SrcAddr             0\n",
       "Sport           72675\n",
       "Dir                 0\n",
       "DstAddr             0\n",
       "Dport          133291\n",
       "State            1235\n",
       "sTos            82758\n",
       "dTos           643122\n",
       "TotPkts             0\n",
       "TotBytes            0\n",
       "SrcBytes            0\n",
       "Label               0\n",
       "BOTNET_NAME         0\n",
       "dtype: int64"
      ]
     },
     "execution_count": 7,
     "metadata": {},
     "output_type": "execute_result"
    }
   ],
   "source": [
    "ctu13_df.isnull().sum().compute()"
   ]
  },
  {
   "cell_type": "markdown",
   "metadata": {},
   "source": [
    "### 7️⃣ __Rellenando los registros donde hay valores nulos__"
   ]
  },
  {
   "cell_type": "code",
   "execution_count": 8,
   "metadata": {},
   "outputs": [
    {
     "data": {
      "text/plain": [
       "State\n",
       "CON    6208714\n",
       "Name: count, dtype: int64"
      ]
     },
     "execution_count": 8,
     "metadata": {},
     "output_type": "execute_result"
    }
   ],
   "source": [
    "ctu13_df['State'].value_counts().nlargest(1).compute()"
   ]
  },
  {
   "cell_type": "code",
   "execution_count": 9,
   "metadata": {},
   "outputs": [],
   "source": [
    "ctu13_df['State'] = ctu13_df.State.fillna(value='CON')"
   ]
  },
  {
   "cell_type": "code",
   "execution_count": 10,
   "metadata": {},
   "outputs": [
    {
     "data": {
      "text/plain": [
       "count    8.323752e+06\n",
       "mean     6.802930e-02\n",
       "std      3.567048e+00\n",
       "min      0.000000e+00\n",
       "25%      0.000000e+00\n",
       "50%      0.000000e+00\n",
       "75%      0.000000e+00\n",
       "max      1.920000e+02\n",
       "Name: sTos, dtype: float64"
      ]
     },
     "execution_count": 10,
     "metadata": {},
     "output_type": "execute_result"
    }
   ],
   "source": [
    "ctu13_df['sTos'].describe().compute()"
   ]
  },
  {
   "cell_type": "code",
   "execution_count": 11,
   "metadata": {},
   "outputs": [
    {
     "data": {
      "text/plain": [
       "count    7.763388e+06\n",
       "mean     4.289364e-04\n",
       "std      3.358086e-02\n",
       "min      0.000000e+00\n",
       "25%      0.000000e+00\n",
       "50%      0.000000e+00\n",
       "75%      0.000000e+00\n",
       "max      3.000000e+00\n",
       "Name: dTos, dtype: float64"
      ]
     },
     "execution_count": 11,
     "metadata": {},
     "output_type": "execute_result"
    }
   ],
   "source": [
    "ctu13_df['dTos'].describe().compute()"
   ]
  },
  {
   "cell_type": "code",
   "execution_count": 12,
   "metadata": {},
   "outputs": [],
   "source": [
    "ctu13_df['sTos'] = ctu13_df.sTos.fillna(value=0.0)\n",
    "ctu13_df['dTos'] = ctu13_df.dTos.fillna(value=0.0)"
   ]
  },
  {
   "cell_type": "code",
   "execution_count": 13,
   "metadata": {},
   "outputs": [],
   "source": [
    "ctu13_df['Sport'] = ctu13_df['Sport'].ffill().bfill()\n",
    "ctu13_df['Dport'] = ctu13_df['Dport'].ffill().bfill()"
   ]
  },
  {
   "cell_type": "markdown",
   "metadata": {},
   "source": [
    "### 8️⃣ __Validando si pertenece a una botnet__"
   ]
  },
  {
   "cell_type": "code",
   "execution_count": 14,
   "metadata": {},
   "outputs": [],
   "source": [
    "def convert_label(sample):\n",
    "    if isinstance(sample, str) and \"Botnet\" in sample: \n",
    "        return 1\n",
    "    else: \n",
    "        return 0"
   ]
  },
  {
   "cell_type": "markdown",
   "metadata": {},
   "source": [
    "### 9️⃣ __Agregamos una columna que identifica si pertenece a una botnet o no__"
   ]
  },
  {
   "cell_type": "code",
   "execution_count": 15,
   "metadata": {},
   "outputs": [],
   "source": [
    "ctu13_df['is_botnet'] = ctu13_df['Label'].apply(convert_label, meta=('Label', 'int64'))"
   ]
  },
  {
   "cell_type": "code",
   "execution_count": 16,
   "metadata": {},
   "outputs": [
    {
     "data": {
      "text/html": [
       "<div>\n",
       "<style scoped>\n",
       "    .dataframe tbody tr th:only-of-type {\n",
       "        vertical-align: middle;\n",
       "    }\n",
       "\n",
       "    .dataframe tbody tr th {\n",
       "        vertical-align: top;\n",
       "    }\n",
       "\n",
       "    .dataframe thead th {\n",
       "        text-align: right;\n",
       "    }\n",
       "</style>\n",
       "<table border=\"1\" class=\"dataframe\">\n",
       "  <thead>\n",
       "    <tr style=\"text-align: right;\">\n",
       "      <th></th>\n",
       "      <th>StartTime</th>\n",
       "      <th>Dur</th>\n",
       "      <th>Proto</th>\n",
       "      <th>SrcAddr</th>\n",
       "      <th>Sport</th>\n",
       "      <th>Dir</th>\n",
       "      <th>DstAddr</th>\n",
       "      <th>Dport</th>\n",
       "      <th>State</th>\n",
       "      <th>sTos</th>\n",
       "      <th>dTos</th>\n",
       "      <th>TotPkts</th>\n",
       "      <th>TotBytes</th>\n",
       "      <th>SrcBytes</th>\n",
       "      <th>Label</th>\n",
       "      <th>BOTNET_NAME</th>\n",
       "      <th>is_botnet</th>\n",
       "    </tr>\n",
       "  </thead>\n",
       "  <tbody>\n",
       "    <tr>\n",
       "      <th>291231</th>\n",
       "      <td>2011/08/16 15:17:08.835592</td>\n",
       "      <td>18.202251</td>\n",
       "      <td>udp</td>\n",
       "      <td>147.32.84.165</td>\n",
       "      <td>29096.0</td>\n",
       "      <td>&lt;-&gt;</td>\n",
       "      <td>183.60.16.10</td>\n",
       "      <td>8000.0</td>\n",
       "      <td>CON</td>\n",
       "      <td>0.0</td>\n",
       "      <td>0.0</td>\n",
       "      <td>23.0</td>\n",
       "      <td>8534.0</td>\n",
       "      <td>2904.0</td>\n",
       "      <td>flow=From-Botnet-V49-UDP-Established-Custom-En...</td>\n",
       "      <td>Murlo</td>\n",
       "      <td>1</td>\n",
       "    </tr>\n",
       "    <tr>\n",
       "      <th>162509</th>\n",
       "      <td>2011/08/16 14:49:18.902462</td>\n",
       "      <td>65.532639</td>\n",
       "      <td>udp</td>\n",
       "      <td>147.32.84.165</td>\n",
       "      <td>21957.0</td>\n",
       "      <td>&lt;-&gt;</td>\n",
       "      <td>183.60.16.244</td>\n",
       "      <td>8000.0</td>\n",
       "      <td>CON</td>\n",
       "      <td>0.0</td>\n",
       "      <td>0.0</td>\n",
       "      <td>97.0</td>\n",
       "      <td>40218.0</td>\n",
       "      <td>11036.0</td>\n",
       "      <td>flow=From-Botnet-V49-UDP-Established-Custom-En...</td>\n",
       "      <td>Murlo</td>\n",
       "      <td>1</td>\n",
       "    </tr>\n",
       "    <tr>\n",
       "      <th>347153</th>\n",
       "      <td>2011/08/16 15:28:25.140271</td>\n",
       "      <td>0.000000</td>\n",
       "      <td>tcp</td>\n",
       "      <td>147.32.84.165</td>\n",
       "      <td>1856.0</td>\n",
       "      <td>-&gt;</td>\n",
       "      <td>147.32.80.107</td>\n",
       "      <td>135.0</td>\n",
       "      <td>S_</td>\n",
       "      <td>0.0</td>\n",
       "      <td>0.0</td>\n",
       "      <td>1.0</td>\n",
       "      <td>62.0</td>\n",
       "      <td>62.0</td>\n",
       "      <td>flow=From-Botnet-V49-TCP-Attempt</td>\n",
       "      <td>Murlo</td>\n",
       "      <td>1</td>\n",
       "    </tr>\n",
       "    <tr>\n",
       "      <th>337676</th>\n",
       "      <td>2011/08/16 15:26:18.138990</td>\n",
       "      <td>61.281811</td>\n",
       "      <td>tcp</td>\n",
       "      <td>147.32.84.165</td>\n",
       "      <td>4493.0</td>\n",
       "      <td>-&gt;</td>\n",
       "      <td>222.189.228.111</td>\n",
       "      <td>3389.0</td>\n",
       "      <td>FSPA_FSPA</td>\n",
       "      <td>0.0</td>\n",
       "      <td>0.0</td>\n",
       "      <td>10.0</td>\n",
       "      <td>1076.0</td>\n",
       "      <td>437.0</td>\n",
       "      <td>flow=From-Botnet-V49-TCP-CC74-HTTP-Custom-Port...</td>\n",
       "      <td>Murlo</td>\n",
       "      <td>1</td>\n",
       "    </tr>\n",
       "    <tr>\n",
       "      <th>358515</th>\n",
       "      <td>2011/08/16 15:30:49.348106</td>\n",
       "      <td>0.000000</td>\n",
       "      <td>tcp</td>\n",
       "      <td>147.32.84.165</td>\n",
       "      <td>3443.0</td>\n",
       "      <td>-&gt;</td>\n",
       "      <td>147.32.83.64</td>\n",
       "      <td>135.0</td>\n",
       "      <td>S_</td>\n",
       "      <td>0.0</td>\n",
       "      <td>0.0</td>\n",
       "      <td>1.0</td>\n",
       "      <td>62.0</td>\n",
       "      <td>62.0</td>\n",
       "      <td>flow=From-Botnet-V49-TCP-Attempt</td>\n",
       "      <td>Murlo</td>\n",
       "      <td>1</td>\n",
       "    </tr>\n",
       "    <tr>\n",
       "      <th>...</th>\n",
       "      <td>...</td>\n",
       "      <td>...</td>\n",
       "      <td>...</td>\n",
       "      <td>...</td>\n",
       "      <td>...</td>\n",
       "      <td>...</td>\n",
       "      <td>...</td>\n",
       "      <td>...</td>\n",
       "      <td>...</td>\n",
       "      <td>...</td>\n",
       "      <td>...</td>\n",
       "      <td>...</td>\n",
       "      <td>...</td>\n",
       "      <td>...</td>\n",
       "      <td>...</td>\n",
       "      <td>...</td>\n",
       "      <td>...</td>\n",
       "    </tr>\n",
       "    <tr>\n",
       "      <th>439145</th>\n",
       "      <td>2011/08/16 09:34:51.024297</td>\n",
       "      <td>1.207547</td>\n",
       "      <td>tcp</td>\n",
       "      <td>147.32.84.165</td>\n",
       "      <td>23050.0</td>\n",
       "      <td>-&gt;</td>\n",
       "      <td>184.173.217.40</td>\n",
       "      <td>443.0</td>\n",
       "      <td>S_RA</td>\n",
       "      <td>0.0</td>\n",
       "      <td>0.0</td>\n",
       "      <td>6.0</td>\n",
       "      <td>366.0</td>\n",
       "      <td>186.0</td>\n",
       "      <td>flow=From-Botnet-V54-TCP-Attempt</td>\n",
       "      <td>Virut</td>\n",
       "      <td>1</td>\n",
       "    </tr>\n",
       "    <tr>\n",
       "      <th>86918</th>\n",
       "      <td>2011/08/16 06:39:52.666626</td>\n",
       "      <td>1.308002</td>\n",
       "      <td>tcp</td>\n",
       "      <td>147.32.84.165</td>\n",
       "      <td>17721.0</td>\n",
       "      <td>-&gt;</td>\n",
       "      <td>184.173.217.40</td>\n",
       "      <td>443.0</td>\n",
       "      <td>S_RA</td>\n",
       "      <td>0.0</td>\n",
       "      <td>0.0</td>\n",
       "      <td>6.0</td>\n",
       "      <td>366.0</td>\n",
       "      <td>186.0</td>\n",
       "      <td>flow=From-Botnet-V54-TCP-Attempt</td>\n",
       "      <td>Virut</td>\n",
       "      <td>1</td>\n",
       "    </tr>\n",
       "    <tr>\n",
       "      <th>425378</th>\n",
       "      <td>2011/08/16 09:30:28.514024</td>\n",
       "      <td>1.307745</td>\n",
       "      <td>tcp</td>\n",
       "      <td>147.32.84.165</td>\n",
       "      <td>22909.0</td>\n",
       "      <td>-&gt;</td>\n",
       "      <td>184.173.217.40</td>\n",
       "      <td>443.0</td>\n",
       "      <td>S_RA</td>\n",
       "      <td>0.0</td>\n",
       "      <td>0.0</td>\n",
       "      <td>6.0</td>\n",
       "      <td>366.0</td>\n",
       "      <td>186.0</td>\n",
       "      <td>flow=From-Botnet-V54-TCP-Attempt</td>\n",
       "      <td>Virut</td>\n",
       "      <td>1</td>\n",
       "    </tr>\n",
       "    <tr>\n",
       "      <th>189914</th>\n",
       "      <td>2011/08/16 07:46:50.135599</td>\n",
       "      <td>1.307472</td>\n",
       "      <td>tcp</td>\n",
       "      <td>147.32.84.165</td>\n",
       "      <td>19782.0</td>\n",
       "      <td>-&gt;</td>\n",
       "      <td>184.173.217.40</td>\n",
       "      <td>443.0</td>\n",
       "      <td>S_RA</td>\n",
       "      <td>0.0</td>\n",
       "      <td>0.0</td>\n",
       "      <td>6.0</td>\n",
       "      <td>366.0</td>\n",
       "      <td>186.0</td>\n",
       "      <td>flow=From-Botnet-V54-TCP-Attempt</td>\n",
       "      <td>Virut</td>\n",
       "      <td>1</td>\n",
       "    </tr>\n",
       "    <tr>\n",
       "      <th>19253</th>\n",
       "      <td>2011/08/16 05:52:31.518746</td>\n",
       "      <td>1.308063</td>\n",
       "      <td>tcp</td>\n",
       "      <td>147.32.84.165</td>\n",
       "      <td>16333.0</td>\n",
       "      <td>-&gt;</td>\n",
       "      <td>184.173.217.40</td>\n",
       "      <td>443.0</td>\n",
       "      <td>S_RA</td>\n",
       "      <td>0.0</td>\n",
       "      <td>0.0</td>\n",
       "      <td>6.0</td>\n",
       "      <td>366.0</td>\n",
       "      <td>186.0</td>\n",
       "      <td>flow=From-Botnet-V54-TCP-Attempt</td>\n",
       "      <td>Virut</td>\n",
       "      <td>1</td>\n",
       "    </tr>\n",
       "  </tbody>\n",
       "</table>\n",
       "<p>33839 rows × 17 columns</p>\n",
       "</div>"
      ],
      "text/plain": [
       "                         StartTime        Dur Proto        SrcAddr    Sport  \\\n",
       "291231  2011/08/16 15:17:08.835592  18.202251   udp  147.32.84.165  29096.0   \n",
       "162509  2011/08/16 14:49:18.902462  65.532639   udp  147.32.84.165  21957.0   \n",
       "347153  2011/08/16 15:28:25.140271   0.000000   tcp  147.32.84.165   1856.0   \n",
       "337676  2011/08/16 15:26:18.138990  61.281811   tcp  147.32.84.165   4493.0   \n",
       "358515  2011/08/16 15:30:49.348106   0.000000   tcp  147.32.84.165   3443.0   \n",
       "...                            ...        ...   ...            ...      ...   \n",
       "439145  2011/08/16 09:34:51.024297   1.207547   tcp  147.32.84.165  23050.0   \n",
       "86918   2011/08/16 06:39:52.666626   1.308002   tcp  147.32.84.165  17721.0   \n",
       "425378  2011/08/16 09:30:28.514024   1.307745   tcp  147.32.84.165  22909.0   \n",
       "189914  2011/08/16 07:46:50.135599   1.307472   tcp  147.32.84.165  19782.0   \n",
       "19253   2011/08/16 05:52:31.518746   1.308063   tcp  147.32.84.165  16333.0   \n",
       "\n",
       "          Dir          DstAddr   Dport      State  sTos  dTos  TotPkts  \\\n",
       "291231    <->     183.60.16.10  8000.0        CON   0.0   0.0     23.0   \n",
       "162509    <->    183.60.16.244  8000.0        CON   0.0   0.0     97.0   \n",
       "347153     ->    147.32.80.107   135.0         S_   0.0   0.0      1.0   \n",
       "337676     ->  222.189.228.111  3389.0  FSPA_FSPA   0.0   0.0     10.0   \n",
       "358515     ->     147.32.83.64   135.0         S_   0.0   0.0      1.0   \n",
       "...       ...              ...     ...        ...   ...   ...      ...   \n",
       "439145     ->   184.173.217.40   443.0       S_RA   0.0   0.0      6.0   \n",
       "86918      ->   184.173.217.40   443.0       S_RA   0.0   0.0      6.0   \n",
       "425378     ->   184.173.217.40   443.0       S_RA   0.0   0.0      6.0   \n",
       "189914     ->   184.173.217.40   443.0       S_RA   0.0   0.0      6.0   \n",
       "19253      ->   184.173.217.40   443.0       S_RA   0.0   0.0      6.0   \n",
       "\n",
       "        TotBytes  SrcBytes                                              Label  \\\n",
       "291231    8534.0    2904.0  flow=From-Botnet-V49-UDP-Established-Custom-En...   \n",
       "162509   40218.0   11036.0  flow=From-Botnet-V49-UDP-Established-Custom-En...   \n",
       "347153      62.0      62.0                   flow=From-Botnet-V49-TCP-Attempt   \n",
       "337676    1076.0     437.0  flow=From-Botnet-V49-TCP-CC74-HTTP-Custom-Port...   \n",
       "358515      62.0      62.0                   flow=From-Botnet-V49-TCP-Attempt   \n",
       "...          ...       ...                                                ...   \n",
       "439145     366.0     186.0                   flow=From-Botnet-V54-TCP-Attempt   \n",
       "86918      366.0     186.0                   flow=From-Botnet-V54-TCP-Attempt   \n",
       "425378     366.0     186.0                   flow=From-Botnet-V54-TCP-Attempt   \n",
       "189914     366.0     186.0                   flow=From-Botnet-V54-TCP-Attempt   \n",
       "19253      366.0     186.0                   flow=From-Botnet-V54-TCP-Attempt   \n",
       "\n",
       "       BOTNET_NAME  is_botnet  \n",
       "291231       Murlo          1  \n",
       "162509       Murlo          1  \n",
       "347153       Murlo          1  \n",
       "337676       Murlo          1  \n",
       "358515       Murlo          1  \n",
       "...            ...        ...  \n",
       "439145       Virut          1  \n",
       "86918        Virut          1  \n",
       "425378       Virut          1  \n",
       "189914       Virut          1  \n",
       "19253        Virut          1  \n",
       "\n",
       "[33839 rows x 17 columns]"
      ]
     },
     "execution_count": 16,
     "metadata": {},
     "output_type": "execute_result"
    }
   ],
   "source": [
    "ctu13_df[ctu13_df['is_botnet'] == 1].sample(frac=0.1, random_state=45).compute()"
   ]
  },
  {
   "cell_type": "markdown",
   "metadata": {},
   "source": [
    "### 🔟 __Columnas que contienen datos categoricos__"
   ]
  },
  {
   "cell_type": "code",
   "execution_count": 17,
   "metadata": {},
   "outputs": [
    {
     "data": {
      "text/plain": [
       "Index(['StartTime', 'Proto', 'SrcAddr', 'Dir', 'DstAddr', 'State', 'Label',\n",
       "       'BOTNET_NAME'],\n",
       "      dtype='object')"
      ]
     },
     "execution_count": 17,
     "metadata": {},
     "output_type": "execute_result"
    }
   ],
   "source": [
    "# Categorical feature names\n",
    "ctu13_df.select_dtypes(exclude='number').columns"
   ]
  },
  {
   "cell_type": "markdown",
   "metadata": {},
   "source": [
    "### 1️⃣1️⃣ __Columnas que contienen datos numericos__"
   ]
  },
  {
   "cell_type": "code",
   "execution_count": 18,
   "metadata": {},
   "outputs": [
    {
     "data": {
      "text/plain": [
       "Index(['Dur', 'Sport', 'Dport', 'sTos', 'dTos', 'TotPkts', 'TotBytes',\n",
       "       'SrcBytes', 'is_botnet'],\n",
       "      dtype='object')"
      ]
     },
     "execution_count": 18,
     "metadata": {},
     "output_type": "execute_result"
    }
   ],
   "source": [
    "# Numeric features names\n",
    "ctu13_df.select_dtypes(include='number').columns"
   ]
  },
  {
   "cell_type": "markdown",
   "metadata": {},
   "source": [
    "### 1️⃣2️⃣ __Cantidad de registros que son botnets y los que no__"
   ]
  },
  {
   "cell_type": "code",
   "execution_count": 19,
   "metadata": {},
   "outputs": [
    {
     "name": "stdout",
     "output_type": "stream",
     "text": [
      "is_botnet\n",
      "1     338370\n",
      "0    8068140\n",
      "Name: count, dtype: int64\n"
     ]
    }
   ],
   "source": [
    "print(ctu13_df['is_botnet'].value_counts().compute())"
   ]
  },
  {
   "cell_type": "markdown",
   "metadata": {},
   "source": [
    "### 1️⃣3️⃣ __Filtrar solo los registros donde is_botnet == 1 para contar los tipos de botnets__"
   ]
  },
  {
   "cell_type": "code",
   "execution_count": 20,
   "metadata": {},
   "outputs": [
    {
     "name": "stdout",
     "output_type": "stream",
     "text": [
      "BOTNET_NAME\n",
      "Virut     40904\n",
      "Neris    184987\n",
      "RBot     106352\n",
      "Murlo      6127\n",
      "Name: count, dtype: int64\n"
     ]
    }
   ],
   "source": [
    "# Filtrar solo los registros donde is_botnet == 1 \n",
    "print(ctu13_df[ctu13_df['is_botnet'] == 1]['BOTNET_NAME'].value_counts().compute())"
   ]
  },
  {
   "cell_type": "markdown",
   "metadata": {},
   "source": [
    "### 1️⃣4️⃣ __Generar un nuevo dataset preprocesado__"
   ]
  },
  {
   "cell_type": "code",
   "execution_count": 21,
   "metadata": {},
   "outputs": [],
   "source": [
    "ctu13_df.compute().to_csv(os.path.join('preprocessing_data', 'dataset_procesado.csv'), index=False)"
   ]
  }
 ],
 "metadata": {
  "kernelspec": {
   "display_name": "Python 3",
   "language": "python",
   "name": "python3"
  },
  "language_info": {
   "codemirror_mode": {
    "name": "ipython",
    "version": 3
   },
   "file_extension": ".py",
   "mimetype": "text/x-python",
   "name": "python",
   "nbconvert_exporter": "python",
   "pygments_lexer": "ipython3",
   "version": "3.9.0"
  }
 },
 "nbformat": 4,
 "nbformat_minor": 2
}
