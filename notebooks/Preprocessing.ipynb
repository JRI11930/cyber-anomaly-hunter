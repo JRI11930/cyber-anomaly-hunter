{
 "cells": [
  {
   "cell_type": "markdown",
   "metadata": {},
   "source": [
    "<div style=\"\n",
    "    display: flex;\n",
    "    justify-content: center;\n",
    "    align-items: center;\n",
    "    background: linear-gradient(to bottom, #F5F5DC, #C0C0C0);\n",
    "    padding: 10px;\n",
    "    border-radius: 10px;\n",
    "\">\n",
    "    <img src=\"../samsung.png\" alt=\"Samsung Innovation Campus\" style=\"border-radius: 5px;\">\n",
    "</div>\n",
    "<div style=\"\n",
    "    text-align: center;\n",
    "    font-style: italic;\n",
    "\">\n",
    "    Este proyecto fue desarrollado dentro del marco del programa Samsun Innovation Campus 2024\n",
    "</div>\n",
    "\n",
    "<b>PRESENTAN</b>: José Armando Ramírez Islas & Jorge Octavio Nicolás Díaz"
   ]
  },
  {
   "cell_type": "markdown",
   "metadata": {},
   "source": [
    "# __Preprocesamiento__\n",
    "\n",
    "Las características con las que cuenta el dataset son:\n",
    "\n",
    "| Característica     | Descripción                                                                 |\n",
    "|--------------|-----------------------------------------------------------------------------|\n",
    "| dur      | Duración de la conexión en segundos.                                         |\n",
    "| proto    | Protocolo de comunicación utilizado (ej. TCP, UDP, ICMP).                   |\n",
    "| dir      | Dirección del flujo de tráfico (ej. → si es de origen a destino, o ← si es de destino a origen). |\n",
    "| state    | Estado de la conexión (ej. CON para conexiones establecidas, INT para interrumpidas). |\n",
    "| stos / dtos | Tipo de servicio (ToS) del tráfico enviado y recibido. Son valores que indican la prioridad del paquete en la red. |\n",
    "| tot_pkts | Número total de paquetes enviados en la conexión.                           |\n",
    "| tot_bytes| Número total de bytes transferidos.                                         |\n",
    "| src_bytes| Cantidad de bytes enviados desde la IP de origen.                            |\n",
    "| label    | Etiqueta que indica si el tráfico es normal o pertenece a una botnet (tráfico malicioso). |\n",
    "| Family   | Especie de botnet detectada (ej. Neris, Rbot, Virut, Murlo, etc.).           |"
   ]
  },
  {
   "cell_type": "markdown",
   "metadata": {},
   "source": [
    "### 1️⃣ __Importacion de modulos__"
   ]
  },
  {
   "cell_type": "code",
   "execution_count": 88,
   "metadata": {},
   "outputs": [],
   "source": [
    "import dask.dataframe as dd\n",
    "import os"
   ]
  },
  {
   "cell_type": "markdown",
   "metadata": {},
   "source": [
    "### 2️⃣ __Leer el CSV forzando las columnas conflictivas a 'object' (string)__"
   ]
  },
  {
   "cell_type": "code",
   "execution_count": null,
   "metadata": {},
   "outputs": [],
   "source": [
    "ctu13_df = dd.read_csv('../data/total.csv', dtype={\"Dport\": \"object\", \"Sport\": \"object\"}, assume_missing=True)"
   ]
  },
  {
   "cell_type": "markdown",
   "metadata": {},
   "source": [
    "### 3️⃣ __Verificar los tipos de datos antes de procesar__"
   ]
  },
  {
   "cell_type": "code",
   "execution_count": null,
   "metadata": {},
   "outputs": [
    {
     "name": "stdout",
     "output_type": "stream",
     "text": [
      "StartTime      string[pyarrow]\n",
      "Dur                    float64\n",
      "Proto          string[pyarrow]\n",
      "SrcAddr        string[pyarrow]\n",
      "Sport          string[pyarrow]\n",
      "Dir            string[pyarrow]\n",
      "DstAddr        string[pyarrow]\n",
      "Dport          string[pyarrow]\n",
      "State          string[pyarrow]\n",
      "sTos                   float64\n",
      "dTos                   float64\n",
      "TotPkts                float64\n",
      "TotBytes               float64\n",
      "SrcBytes               float64\n",
      "Label          string[pyarrow]\n",
      "BOTNET_NAME    string[pyarrow]\n",
      "dtype: object\n"
     ]
    }
   ],
   "source": [
    "print(ctu13_df.dtypes)"
   ]
  },
  {
   "cell_type": "markdown",
   "metadata": {},
   "source": [
    "### 4️⃣ __Función para convertir hex a int y evitar errores__"
   ]
  },
  {
   "cell_type": "code",
   "execution_count": null,
   "metadata": {},
   "outputs": [],
   "source": [
    "def safe_hex_to_int(value):\n",
    "    try:\n",
    "        if isinstance(value, str) and value.startswith(\"0x\"):  \n",
    "            return int(value, 16)\n",
    "        return int(value)  \n",
    "    except ValueError:\n",
    "        return None "
   ]
  },
  {
   "cell_type": "markdown",
   "metadata": {},
   "source": [
    "### 5️⃣ __Aplicar conversión a las columnas__"
   ]
  },
  {
   "cell_type": "code",
   "execution_count": null,
   "metadata": {},
   "outputs": [],
   "source": [
    "ctu13_df[\"Dport\"] = ctu13_df[\"Dport\"].map(safe_hex_to_int, meta=(\"Dport\", \"float64\"))\n",
    "ctu13_df[\"Sport\"] = ctu13_df[\"Sport\"].map(safe_hex_to_int, meta=(\"Sport\", \"float64\"))"
   ]
  },
  {
   "cell_type": "code",
   "execution_count": null,
   "metadata": {},
   "outputs": [
    {
     "data": {
      "text/html": [
       "<div>\n",
       "<style scoped>\n",
       "    .dataframe tbody tr th:only-of-type {\n",
       "        vertical-align: middle;\n",
       "    }\n",
       "\n",
       "    .dataframe tbody tr th {\n",
       "        vertical-align: top;\n",
       "    }\n",
       "\n",
       "    .dataframe thead th {\n",
       "        text-align: right;\n",
       "    }\n",
       "</style>\n",
       "<table border=\"1\" class=\"dataframe\">\n",
       "  <thead>\n",
       "    <tr style=\"text-align: right;\">\n",
       "      <th></th>\n",
       "      <th>StartTime</th>\n",
       "      <th>Dur</th>\n",
       "      <th>Proto</th>\n",
       "      <th>SrcAddr</th>\n",
       "      <th>Sport</th>\n",
       "      <th>Dir</th>\n",
       "      <th>DstAddr</th>\n",
       "      <th>Dport</th>\n",
       "      <th>State</th>\n",
       "      <th>sTos</th>\n",
       "      <th>dTos</th>\n",
       "      <th>TotPkts</th>\n",
       "      <th>TotBytes</th>\n",
       "      <th>SrcBytes</th>\n",
       "      <th>Label</th>\n",
       "      <th>BOTNET_NAME</th>\n",
       "    </tr>\n",
       "  </thead>\n",
       "  <tbody>\n",
       "    <tr>\n",
       "      <th>0</th>\n",
       "      <td>2011/08/16 13:51:24.049047</td>\n",
       "      <td>1277.465088</td>\n",
       "      <td>udp</td>\n",
       "      <td>147.32.84.59</td>\n",
       "      <td>7525</td>\n",
       "      <td>&lt;-&gt;</td>\n",
       "      <td>213.239.192.34</td>\n",
       "      <td>50012</td>\n",
       "      <td>CON</td>\n",
       "      <td>0.0</td>\n",
       "      <td>0.0</td>\n",
       "      <td>1606.0</td>\n",
       "      <td>1508937.0</td>\n",
       "      <td>1245441.0</td>\n",
       "      <td>flow=Background-Established-cmpgw-CVUT</td>\n",
       "      <td>Sogou</td>\n",
       "    </tr>\n",
       "    <tr>\n",
       "      <th>1</th>\n",
       "      <td>2011/08/16 13:51:24.049051</td>\n",
       "      <td>1200.943726</td>\n",
       "      <td>udp</td>\n",
       "      <td>147.32.84.59</td>\n",
       "      <td>7525</td>\n",
       "      <td>&lt;-&gt;</td>\n",
       "      <td>188.40.100.105</td>\n",
       "      <td>50012</td>\n",
       "      <td>CON</td>\n",
       "      <td>0.0</td>\n",
       "      <td>0.0</td>\n",
       "      <td>1240.0</td>\n",
       "      <td>992275.0</td>\n",
       "      <td>425194.0</td>\n",
       "      <td>flow=Background-Established-cmpgw-CVUT</td>\n",
       "      <td>Sogou</td>\n",
       "    </tr>\n",
       "    <tr>\n",
       "      <th>2</th>\n",
       "      <td>2011/08/16 13:51:24.049832</td>\n",
       "      <td>1276.750610</td>\n",
       "      <td>tcp</td>\n",
       "      <td>80.98.130.52</td>\n",
       "      <td>51686</td>\n",
       "      <td>&lt;?&gt;</td>\n",
       "      <td>147.32.84.229</td>\n",
       "      <td>13363</td>\n",
       "      <td>PA_PA</td>\n",
       "      <td>0.0</td>\n",
       "      <td>0.0</td>\n",
       "      <td>112.0</td>\n",
       "      <td>12484.0</td>\n",
       "      <td>8482.0</td>\n",
       "      <td>flow=Background</td>\n",
       "      <td>Sogou</td>\n",
       "    </tr>\n",
       "    <tr>\n",
       "      <th>3</th>\n",
       "      <td>2011/08/16 13:51:24.049954</td>\n",
       "      <td>1190.095215</td>\n",
       "      <td>udp</td>\n",
       "      <td>147.32.84.59</td>\n",
       "      <td>7525</td>\n",
       "      <td>&lt;-&gt;</td>\n",
       "      <td>78.46.38.219</td>\n",
       "      <td>55012</td>\n",
       "      <td>CON</td>\n",
       "      <td>0.0</td>\n",
       "      <td>0.0</td>\n",
       "      <td>1841.0</td>\n",
       "      <td>1692037.0</td>\n",
       "      <td>1429143.0</td>\n",
       "      <td>flow=Background-Established-cmpgw-CVUT</td>\n",
       "      <td>Sogou</td>\n",
       "    </tr>\n",
       "    <tr>\n",
       "      <th>4</th>\n",
       "      <td>2011/08/16 13:51:24.050042</td>\n",
       "      <td>1257.621094</td>\n",
       "      <td>udp</td>\n",
       "      <td>147.32.84.59</td>\n",
       "      <td>7525</td>\n",
       "      <td>&lt;-&gt;</td>\n",
       "      <td>213.239.199.195</td>\n",
       "      <td>51012</td>\n",
       "      <td>CON</td>\n",
       "      <td>0.0</td>\n",
       "      <td>0.0</td>\n",
       "      <td>1890.0</td>\n",
       "      <td>1782878.0</td>\n",
       "      <td>1324527.0</td>\n",
       "      <td>flow=Background-Established-cmpgw-CVUT</td>\n",
       "      <td>Sogou</td>\n",
       "    </tr>\n",
       "  </tbody>\n",
       "</table>\n",
       "</div>"
      ],
      "text/plain": [
       "                    StartTime          Dur Proto       SrcAddr  Sport    Dir  \\\n",
       "0  2011/08/16 13:51:24.049047  1277.465088   udp  147.32.84.59   7525    <->   \n",
       "1  2011/08/16 13:51:24.049051  1200.943726   udp  147.32.84.59   7525    <->   \n",
       "2  2011/08/16 13:51:24.049832  1276.750610   tcp  80.98.130.52  51686    <?>   \n",
       "3  2011/08/16 13:51:24.049954  1190.095215   udp  147.32.84.59   7525    <->   \n",
       "4  2011/08/16 13:51:24.050042  1257.621094   udp  147.32.84.59   7525    <->   \n",
       "\n",
       "           DstAddr  Dport  State  sTos  dTos  TotPkts   TotBytes   SrcBytes  \\\n",
       "0   213.239.192.34  50012    CON   0.0   0.0   1606.0  1508937.0  1245441.0   \n",
       "1   188.40.100.105  50012    CON   0.0   0.0   1240.0   992275.0   425194.0   \n",
       "2    147.32.84.229  13363  PA_PA   0.0   0.0    112.0    12484.0     8482.0   \n",
       "3     78.46.38.219  55012    CON   0.0   0.0   1841.0  1692037.0  1429143.0   \n",
       "4  213.239.199.195  51012    CON   0.0   0.0   1890.0  1782878.0  1324527.0   \n",
       "\n",
       "                                    Label BOTNET_NAME  \n",
       "0  flow=Background-Established-cmpgw-CVUT       Sogou  \n",
       "1  flow=Background-Established-cmpgw-CVUT       Sogou  \n",
       "2                         flow=Background       Sogou  \n",
       "3  flow=Background-Established-cmpgw-CVUT       Sogou  \n",
       "4  flow=Background-Established-cmpgw-CVUT       Sogou  "
      ]
     },
     "execution_count": 27,
     "metadata": {},
     "output_type": "execute_result"
    }
   ],
   "source": [
    "ctu13_df.head()"
   ]
  },
  {
   "cell_type": "markdown",
   "metadata": {},
   "source": [
    "### 6️⃣ __¿Que columnas tienen valores nulos?__"
   ]
  },
  {
   "cell_type": "code",
   "execution_count": null,
   "metadata": {},
   "outputs": [
    {
     "data": {
      "text/plain": [
       "StartTime           0\n",
       "Dur                 0\n",
       "Proto               0\n",
       "SrcAddr             0\n",
       "Sport           74231\n",
       "Dir                 0\n",
       "DstAddr             0\n",
       "Dport          134262\n",
       "State            1235\n",
       "sTos            84629\n",
       "dTos           671524\n",
       "TotPkts             0\n",
       "TotBytes            0\n",
       "SrcBytes            0\n",
       "Label               0\n",
       "BOTNET_NAME         0\n",
       "dtype: int64"
      ]
     },
     "execution_count": 28,
     "metadata": {},
     "output_type": "execute_result"
    }
   ],
   "source": [
    "ctu13_df.isnull().sum().compute()"
   ]
  },
  {
   "cell_type": "markdown",
   "metadata": {},
   "source": [
    "### 7️⃣ __Rellenando los registros donde hay valores nulos__"
   ]
  },
  {
   "cell_type": "code",
   "execution_count": 32,
   "metadata": {},
   "outputs": [
    {
     "data": {
      "text/plain": [
       "State\n",
       "CON    6429439\n",
       "Name: count, dtype: int64"
      ]
     },
     "execution_count": 32,
     "metadata": {},
     "output_type": "execute_result"
    }
   ],
   "source": [
    "ctu13_df['State'].value_counts().nlargest(1).compute()"
   ]
  },
  {
   "cell_type": "code",
   "execution_count": 33,
   "metadata": {},
   "outputs": [],
   "source": [
    "ctu13_df['State'] = ctu13_df.State.fillna(value='CON')"
   ]
  },
  {
   "cell_type": "code",
   "execution_count": 39,
   "metadata": {},
   "outputs": [
    {
     "data": {
      "text/plain": [
       "count    8.631597e+06\n",
       "mean     6.714609e-02\n",
       "std      3.544077e+00\n",
       "min      0.000000e+00\n",
       "25%      0.000000e+00\n",
       "50%      0.000000e+00\n",
       "75%      0.000000e+00\n",
       "max      1.920000e+02\n",
       "Name: sTos, dtype: float64"
      ]
     },
     "execution_count": 39,
     "metadata": {},
     "output_type": "execute_result"
    }
   ],
   "source": [
    "ctu13_df['sTos'].describe().compute()"
   ]
  },
  {
   "cell_type": "code",
   "execution_count": 40,
   "metadata": {},
   "outputs": [
    {
     "data": {
      "text/plain": [
       "count    8.044702e+06\n",
       "mean     4.371821e-04\n",
       "std      3.388975e-02\n",
       "min      0.000000e+00\n",
       "25%      0.000000e+00\n",
       "50%      0.000000e+00\n",
       "75%      0.000000e+00\n",
       "max      3.000000e+00\n",
       "Name: dTos, dtype: float64"
      ]
     },
     "execution_count": 40,
     "metadata": {},
     "output_type": "execute_result"
    }
   ],
   "source": [
    "ctu13_df['dTos'].describe().compute()"
   ]
  },
  {
   "cell_type": "code",
   "execution_count": 42,
   "metadata": {},
   "outputs": [],
   "source": [
    "ctu13_df['sTos'] = ctu13_df.sTos.fillna(value=0.0)\n",
    "ctu13_df['dTos'] = ctu13_df.dTos.fillna(value=0.0)"
   ]
  },
  {
   "cell_type": "code",
   "execution_count": 46,
   "metadata": {},
   "outputs": [],
   "source": [
    "ctu13_df['Sport'] = ctu13_df['Sport'].ffill().bfill()\n",
    "ctu13_df['Dport'] = ctu13_df['Dport'].ffill().bfill()"
   ]
  },
  {
   "cell_type": "markdown",
   "metadata": {},
   "source": [
    "### 8️⃣ __Validando si pertenece a una botnet__"
   ]
  },
  {
   "cell_type": "code",
   "execution_count": 47,
   "metadata": {},
   "outputs": [],
   "source": [
    "def convert_label(sample):\n",
    "    if isinstance(sample, str) and \"Botnet\" in sample: \n",
    "        return 1\n",
    "    else: \n",
    "        return 0"
   ]
  },
  {
   "cell_type": "markdown",
   "metadata": {},
   "source": [
    "### 9️⃣ __Agregamos una columna que identifica si pertenece a una botnet o no__"
   ]
  },
  {
   "cell_type": "code",
   "execution_count": 59,
   "metadata": {},
   "outputs": [],
   "source": [
    "ctu13_df['is_botnet'] = ctu13_df['Label'].apply(convert_label, meta=('Label', 'int64'))"
   ]
  },
  {
   "cell_type": "code",
   "execution_count": 60,
   "metadata": {},
   "outputs": [
    {
     "data": {
      "text/html": [
       "<div>\n",
       "<style scoped>\n",
       "    .dataframe tbody tr th:only-of-type {\n",
       "        vertical-align: middle;\n",
       "    }\n",
       "\n",
       "    .dataframe tbody tr th {\n",
       "        vertical-align: top;\n",
       "    }\n",
       "\n",
       "    .dataframe thead th {\n",
       "        text-align: right;\n",
       "    }\n",
       "</style>\n",
       "<table border=\"1\" class=\"dataframe\">\n",
       "  <thead>\n",
       "    <tr style=\"text-align: right;\">\n",
       "      <th></th>\n",
       "      <th>StartTime</th>\n",
       "      <th>Dur</th>\n",
       "      <th>Proto</th>\n",
       "      <th>SrcAddr</th>\n",
       "      <th>Sport</th>\n",
       "      <th>Dir</th>\n",
       "      <th>DstAddr</th>\n",
       "      <th>Dport</th>\n",
       "      <th>State</th>\n",
       "      <th>sTos</th>\n",
       "      <th>dTos</th>\n",
       "      <th>TotPkts</th>\n",
       "      <th>TotBytes</th>\n",
       "      <th>SrcBytes</th>\n",
       "      <th>Label</th>\n",
       "      <th>BOTNET_NAME</th>\n",
       "      <th>is_botnet</th>\n",
       "    </tr>\n",
       "  </thead>\n",
       "  <tbody>\n",
       "    <tr>\n",
       "      <th>280624</th>\n",
       "      <td>2011/08/16 14:50:17.687498</td>\n",
       "      <td>36.043262</td>\n",
       "      <td>udp</td>\n",
       "      <td>147.32.84.165</td>\n",
       "      <td>21963.0</td>\n",
       "      <td>&lt;-&gt;</td>\n",
       "      <td>183.60.49.125</td>\n",
       "      <td>8000.0</td>\n",
       "      <td>CON</td>\n",
       "      <td>0.0</td>\n",
       "      <td>0.0</td>\n",
       "      <td>29.0</td>\n",
       "      <td>11218.0</td>\n",
       "      <td>3760.0</td>\n",
       "      <td>flow=From-Botnet-V49-UDP-Established</td>\n",
       "      <td>Murlo</td>\n",
       "      <td>1</td>\n",
       "    </tr>\n",
       "    <tr>\n",
       "      <th>290426</th>\n",
       "      <td>2011/08/16 14:52:38.993736</td>\n",
       "      <td>20.849554</td>\n",
       "      <td>udp</td>\n",
       "      <td>147.32.84.165</td>\n",
       "      <td>21975.0</td>\n",
       "      <td>&lt;-&gt;</td>\n",
       "      <td>183.60.49.30</td>\n",
       "      <td>8000.0</td>\n",
       "      <td>CON</td>\n",
       "      <td>0.0</td>\n",
       "      <td>0.0</td>\n",
       "      <td>9.0</td>\n",
       "      <td>2618.0</td>\n",
       "      <td>1148.0</td>\n",
       "      <td>flow=From-Botnet-V49-UDP-Established-Custom-En...</td>\n",
       "      <td>Murlo</td>\n",
       "      <td>1</td>\n",
       "    </tr>\n",
       "    <tr>\n",
       "      <th>264298</th>\n",
       "      <td>2011/08/16 14:46:39.499428</td>\n",
       "      <td>76.865601</td>\n",
       "      <td>udp</td>\n",
       "      <td>147.32.84.165</td>\n",
       "      <td>21941.0</td>\n",
       "      <td>&lt;-&gt;</td>\n",
       "      <td>112.95.240.134</td>\n",
       "      <td>8000.0</td>\n",
       "      <td>CON</td>\n",
       "      <td>0.0</td>\n",
       "      <td>0.0</td>\n",
       "      <td>107.0</td>\n",
       "      <td>44654.0</td>\n",
       "      <td>11848.0</td>\n",
       "      <td>flow=From-Botnet-V49-UDP-Established-Custom-En...</td>\n",
       "      <td>Murlo</td>\n",
       "      <td>1</td>\n",
       "    </tr>\n",
       "    <tr>\n",
       "      <th>245469</th>\n",
       "      <td>2011/08/16 14:43:16.831111</td>\n",
       "      <td>1296.112793</td>\n",
       "      <td>udp</td>\n",
       "      <td>147.32.84.165</td>\n",
       "      <td>7100.0</td>\n",
       "      <td>&lt;-&gt;</td>\n",
       "      <td>218.83.161.9</td>\n",
       "      <td>9009.0</td>\n",
       "      <td>CON</td>\n",
       "      <td>0.0</td>\n",
       "      <td>0.0</td>\n",
       "      <td>10.0</td>\n",
       "      <td>1500.0</td>\n",
       "      <td>480.0</td>\n",
       "      <td>flow=From-Botnet-V49-UDP-Established</td>\n",
       "      <td>Murlo</td>\n",
       "      <td>1</td>\n",
       "    </tr>\n",
       "    <tr>\n",
       "      <th>285610</th>\n",
       "      <td>2011/08/16 14:51:31.544709</td>\n",
       "      <td>61.295368</td>\n",
       "      <td>tcp</td>\n",
       "      <td>147.32.84.165</td>\n",
       "      <td>4047.0</td>\n",
       "      <td>-&gt;</td>\n",
       "      <td>222.189.228.111</td>\n",
       "      <td>3389.0</td>\n",
       "      <td>FSPA_FSPA</td>\n",
       "      <td>0.0</td>\n",
       "      <td>0.0</td>\n",
       "      <td>10.0</td>\n",
       "      <td>1076.0</td>\n",
       "      <td>437.0</td>\n",
       "      <td>flow=From-Botnet-V49-TCP-CC74-HTTP-Custom-Port...</td>\n",
       "      <td>Murlo</td>\n",
       "      <td>1</td>\n",
       "    </tr>\n",
       "    <tr>\n",
       "      <th>...</th>\n",
       "      <td>...</td>\n",
       "      <td>...</td>\n",
       "      <td>...</td>\n",
       "      <td>...</td>\n",
       "      <td>...</td>\n",
       "      <td>...</td>\n",
       "      <td>...</td>\n",
       "      <td>...</td>\n",
       "      <td>...</td>\n",
       "      <td>...</td>\n",
       "      <td>...</td>\n",
       "      <td>...</td>\n",
       "      <td>...</td>\n",
       "      <td>...</td>\n",
       "      <td>...</td>\n",
       "      <td>...</td>\n",
       "      <td>...</td>\n",
       "    </tr>\n",
       "    <tr>\n",
       "      <th>210021</th>\n",
       "      <td>2011/08/16 08:02:41.613561</td>\n",
       "      <td>1.307678</td>\n",
       "      <td>tcp</td>\n",
       "      <td>147.32.84.165</td>\n",
       "      <td>20310.0</td>\n",
       "      <td>-&gt;</td>\n",
       "      <td>184.173.217.40</td>\n",
       "      <td>443.0</td>\n",
       "      <td>S_RA</td>\n",
       "      <td>0.0</td>\n",
       "      <td>0.0</td>\n",
       "      <td>6.0</td>\n",
       "      <td>366.0</td>\n",
       "      <td>186.0</td>\n",
       "      <td>flow=From-Botnet-V54-TCP-Attempt</td>\n",
       "      <td>Virut</td>\n",
       "      <td>1</td>\n",
       "    </tr>\n",
       "    <tr>\n",
       "      <th>139986</th>\n",
       "      <td>2011/08/16 07:19:18.407383</td>\n",
       "      <td>1.307373</td>\n",
       "      <td>tcp</td>\n",
       "      <td>147.32.84.165</td>\n",
       "      <td>18892.0</td>\n",
       "      <td>-&gt;</td>\n",
       "      <td>184.173.217.40</td>\n",
       "      <td>443.0</td>\n",
       "      <td>S_RA</td>\n",
       "      <td>0.0</td>\n",
       "      <td>0.0</td>\n",
       "      <td>6.0</td>\n",
       "      <td>366.0</td>\n",
       "      <td>186.0</td>\n",
       "      <td>flow=From-Botnet-V54-TCP-Attempt</td>\n",
       "      <td>Virut</td>\n",
       "      <td>1</td>\n",
       "    </tr>\n",
       "    <tr>\n",
       "      <th>229286</th>\n",
       "      <td>2011/08/16 08:11:49.613636</td>\n",
       "      <td>1.307503</td>\n",
       "      <td>tcp</td>\n",
       "      <td>147.32.84.165</td>\n",
       "      <td>20582.0</td>\n",
       "      <td>-&gt;</td>\n",
       "      <td>184.173.217.40</td>\n",
       "      <td>443.0</td>\n",
       "      <td>S_RA</td>\n",
       "      <td>0.0</td>\n",
       "      <td>0.0</td>\n",
       "      <td>6.0</td>\n",
       "      <td>366.0</td>\n",
       "      <td>186.0</td>\n",
       "      <td>flow=From-Botnet-V54-TCP-Attempt</td>\n",
       "      <td>Virut</td>\n",
       "      <td>1</td>\n",
       "    </tr>\n",
       "    <tr>\n",
       "      <th>79599</th>\n",
       "      <td>2011/08/16 06:39:20.520277</td>\n",
       "      <td>1.307597</td>\n",
       "      <td>tcp</td>\n",
       "      <td>147.32.84.165</td>\n",
       "      <td>17706.0</td>\n",
       "      <td>-&gt;</td>\n",
       "      <td>184.173.217.40</td>\n",
       "      <td>443.0</td>\n",
       "      <td>S_RA</td>\n",
       "      <td>0.0</td>\n",
       "      <td>0.0</td>\n",
       "      <td>6.0</td>\n",
       "      <td>366.0</td>\n",
       "      <td>186.0</td>\n",
       "      <td>flow=From-Botnet-V54-TCP-Attempt</td>\n",
       "      <td>Virut</td>\n",
       "      <td>1</td>\n",
       "    </tr>\n",
       "    <tr>\n",
       "      <th>150137</th>\n",
       "      <td>2011/08/16 07:25:54.821450</td>\n",
       "      <td>1.307561</td>\n",
       "      <td>tcp</td>\n",
       "      <td>147.32.84.165</td>\n",
       "      <td>19086.0</td>\n",
       "      <td>-&gt;</td>\n",
       "      <td>184.173.217.40</td>\n",
       "      <td>443.0</td>\n",
       "      <td>S_RA</td>\n",
       "      <td>0.0</td>\n",
       "      <td>0.0</td>\n",
       "      <td>6.0</td>\n",
       "      <td>366.0</td>\n",
       "      <td>186.0</td>\n",
       "      <td>flow=From-Botnet-V54-TCP-Attempt</td>\n",
       "      <td>Virut</td>\n",
       "      <td>1</td>\n",
       "    </tr>\n",
       "  </tbody>\n",
       "</table>\n",
       "<p>33971 rows × 17 columns</p>\n",
       "</div>"
      ],
      "text/plain": [
       "                         StartTime          Dur Proto        SrcAddr    Sport  \\\n",
       "280624  2011/08/16 14:50:17.687498    36.043262   udp  147.32.84.165  21963.0   \n",
       "290426  2011/08/16 14:52:38.993736    20.849554   udp  147.32.84.165  21975.0   \n",
       "264298  2011/08/16 14:46:39.499428    76.865601   udp  147.32.84.165  21941.0   \n",
       "245469  2011/08/16 14:43:16.831111  1296.112793   udp  147.32.84.165   7100.0   \n",
       "285610  2011/08/16 14:51:31.544709    61.295368   tcp  147.32.84.165   4047.0   \n",
       "...                            ...          ...   ...            ...      ...   \n",
       "210021  2011/08/16 08:02:41.613561     1.307678   tcp  147.32.84.165  20310.0   \n",
       "139986  2011/08/16 07:19:18.407383     1.307373   tcp  147.32.84.165  18892.0   \n",
       "229286  2011/08/16 08:11:49.613636     1.307503   tcp  147.32.84.165  20582.0   \n",
       "79599   2011/08/16 06:39:20.520277     1.307597   tcp  147.32.84.165  17706.0   \n",
       "150137  2011/08/16 07:25:54.821450     1.307561   tcp  147.32.84.165  19086.0   \n",
       "\n",
       "          Dir          DstAddr   Dport      State  sTos  dTos  TotPkts  \\\n",
       "280624    <->    183.60.49.125  8000.0        CON   0.0   0.0     29.0   \n",
       "290426    <->     183.60.49.30  8000.0        CON   0.0   0.0      9.0   \n",
       "264298    <->   112.95.240.134  8000.0        CON   0.0   0.0    107.0   \n",
       "245469    <->     218.83.161.9  9009.0        CON   0.0   0.0     10.0   \n",
       "285610     ->  222.189.228.111  3389.0  FSPA_FSPA   0.0   0.0     10.0   \n",
       "...       ...              ...     ...        ...   ...   ...      ...   \n",
       "210021     ->   184.173.217.40   443.0       S_RA   0.0   0.0      6.0   \n",
       "139986     ->   184.173.217.40   443.0       S_RA   0.0   0.0      6.0   \n",
       "229286     ->   184.173.217.40   443.0       S_RA   0.0   0.0      6.0   \n",
       "79599      ->   184.173.217.40   443.0       S_RA   0.0   0.0      6.0   \n",
       "150137     ->   184.173.217.40   443.0       S_RA   0.0   0.0      6.0   \n",
       "\n",
       "        TotBytes  SrcBytes                                              Label  \\\n",
       "280624   11218.0    3760.0               flow=From-Botnet-V49-UDP-Established   \n",
       "290426    2618.0    1148.0  flow=From-Botnet-V49-UDP-Established-Custom-En...   \n",
       "264298   44654.0   11848.0  flow=From-Botnet-V49-UDP-Established-Custom-En...   \n",
       "245469    1500.0     480.0               flow=From-Botnet-V49-UDP-Established   \n",
       "285610    1076.0     437.0  flow=From-Botnet-V49-TCP-CC74-HTTP-Custom-Port...   \n",
       "...          ...       ...                                                ...   \n",
       "210021     366.0     186.0                   flow=From-Botnet-V54-TCP-Attempt   \n",
       "139986     366.0     186.0                   flow=From-Botnet-V54-TCP-Attempt   \n",
       "229286     366.0     186.0                   flow=From-Botnet-V54-TCP-Attempt   \n",
       "79599      366.0     186.0                   flow=From-Botnet-V54-TCP-Attempt   \n",
       "150137     366.0     186.0                   flow=From-Botnet-V54-TCP-Attempt   \n",
       "\n",
       "       BOTNET_NAME  is_botnet  \n",
       "280624       Murlo          1  \n",
       "290426       Murlo          1  \n",
       "264298       Murlo          1  \n",
       "245469       Murlo          1  \n",
       "285610       Murlo          1  \n",
       "...            ...        ...  \n",
       "210021       Virut          1  \n",
       "139986       Virut          1  \n",
       "229286       Virut          1  \n",
       "79599        Virut          1  \n",
       "150137       Virut          1  \n",
       "\n",
       "[33971 rows x 17 columns]"
      ]
     },
     "execution_count": 60,
     "metadata": {},
     "output_type": "execute_result"
    }
   ],
   "source": [
    "ctu13_df[ctu13_df['is_botnet'] == 1].sample(frac=0.1, random_state=45).compute()"
   ]
  },
  {
   "cell_type": "markdown",
   "metadata": {},
   "source": [
    "### 🔟 __Columnas que contienen datos categoricos__"
   ]
  },
  {
   "cell_type": "code",
   "execution_count": 57,
   "metadata": {},
   "outputs": [
    {
     "data": {
      "text/plain": [
       "Index(['StartTime', 'Proto', 'SrcAddr', 'Dir', 'DstAddr', 'State', 'Label',\n",
       "       'BOTNET_NAME'],\n",
       "      dtype='object')"
      ]
     },
     "execution_count": 57,
     "metadata": {},
     "output_type": "execute_result"
    }
   ],
   "source": [
    "# Categorical feature names\n",
    "ctu13_df.select_dtypes(exclude='number').columns"
   ]
  },
  {
   "cell_type": "markdown",
   "metadata": {},
   "source": [
    "### 1️⃣1️⃣ __Columnas que contienen datos numericos__"
   ]
  },
  {
   "cell_type": "code",
   "execution_count": 58,
   "metadata": {},
   "outputs": [
    {
     "data": {
      "text/plain": [
       "Index(['Dur', 'Sport', 'Dport', 'sTos', 'dTos', 'TotPkts', 'TotBytes',\n",
       "       'SrcBytes', 'is_botnet'],\n",
       "      dtype='object')"
      ]
     },
     "execution_count": 58,
     "metadata": {},
     "output_type": "execute_result"
    }
   ],
   "source": [
    "# Numeric features names\n",
    "ctu13_df.select_dtypes(include='number').columns"
   ]
  },
  {
   "cell_type": "markdown",
   "metadata": {},
   "source": [
    "### 1️⃣2️⃣ __Cantidad de registros que son botnets y los que no__"
   ]
  },
  {
   "cell_type": "code",
   "execution_count": null,
   "metadata": {},
   "outputs": [
    {
     "name": "stdout",
     "output_type": "stream",
     "text": [
      "is_botnet\n",
      "1     339700\n",
      "0    8376526\n",
      "Name: count, dtype: int64\n"
     ]
    }
   ],
   "source": [
    "print(ctu13_df['is_botnet'].value_counts().compute())"
   ]
  },
  {
   "cell_type": "markdown",
   "metadata": {},
   "source": [
    "### 1️⃣3️⃣ __Filtrar solo los registros donde is_botnet == 1 para contar los tipos de botnets__"
   ]
  },
  {
   "cell_type": "code",
   "execution_count": 86,
   "metadata": {},
   "outputs": [
    {
     "name": "stdout",
     "output_type": "stream",
     "text": [
      "BOTNET_NAME\n",
      "RBot      106352\n",
      "Virut      40003\n",
      "Sogou         63\n",
      "Neris     184987\n",
      "NsisAy      2168\n",
      "Murlo       6127\n",
      "Name: count, dtype: int64\n"
     ]
    }
   ],
   "source": [
    "# Filtrar solo los registros donde is_botnet == 1 \n",
    "print(ctu13_df[ctu13_df['is_botnet'] == 1]['BOTNET_NAME'].value_counts().compute())"
   ]
  },
  {
   "cell_type": "markdown",
   "metadata": {},
   "source": [
    "### 1️⃣4️⃣ __Generar un nuevo dataset preprocesado__"
   ]
  },
  {
   "cell_type": "code",
   "execution_count": null,
   "metadata": {},
   "outputs": [],
   "source": [
    "ctu13_df.compute().to_csv(os.path.join('preprocessing_data', 'dataset_procesado.csv'), index=False)"
   ]
  }
 ],
 "metadata": {
  "kernelspec": {
   "display_name": "Python 3",
   "language": "python",
   "name": "python3"
  },
  "language_info": {
   "codemirror_mode": {
    "name": "ipython",
    "version": 3
   },
   "file_extension": ".py",
   "mimetype": "text/x-python",
   "name": "python",
   "nbconvert_exporter": "python",
   "pygments_lexer": "ipython3",
   "version": "3.9.0"
  }
 },
 "nbformat": 4,
 "nbformat_minor": 2
}
