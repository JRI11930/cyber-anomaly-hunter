{
 "cells": [
  {
   "cell_type": "markdown",
   "metadata": {},
   "source": [
    "<div style=\"\n",
    "    display: flex;\n",
    "    justify-content: center;\n",
    "    align-items: center;\n",
    "    background: linear-gradient(to bottom, #F5F5DC, #C0C0C0);\n",
    "    padding: 10px;\n",
    "    border-radius: 10px;\n",
    "\">\n",
    "    <img src=\"../samsung.png\" alt=\"Samsung Innovation Campus\" style=\"border-radius: 5px;\">\n",
    "</div>\n",
    "<div style=\"\n",
    "    text-align: center;\n",
    "    font-style: italic;\n",
    "\">\n",
    "    Este proyecto fue desarrollado dentro del marco del programa Samsun Innovation Campus 2024\n",
    "</div>\n",
    "\n",
    "<b>PRESENTAN</b>: José Armando Ramírez Islas & Jorge Octavio Nicolás Díaz"
   ]
  },
  {
   "cell_type": "markdown",
   "metadata": {},
   "source": [
    " ***a) Recolectar los datos iniciales***\n",
    "\n",
    "Los datos fueron recolectados del siguiente enlace: https://www.stratosphereips.org/datasets-ctu13\n",
    "\n",
    "## CTU-13 Dataset: Tipos de Archivos y Descarga\n",
    "\n",
    "### 📂 **Tipos de Archivos**\n",
    "Cada escenario del conjunto de datos CTU-13 incluye diferentes tipos de archivos procesados. Por razones de privacidad, no está disponible el archivo completo `.pcap` con todos los datos de tráfico. Sin embargo, se dispone de otros archivos útiles para el análisis:\n",
    "\n",
    "- **Archivos .parquet**: Capturan exclusivamente el tráfico de botnets.\n",
    "- **Archivos .binetflow**: Archivos NetFlow bidireccionales, generados con **Argus**, que contienen información del tráfico, incluyendo etiquetas, direcciones IP fuente y destino, así como los puertos asociados, tipo de botnet y tambien si es trafico malicioso o no.\n",
    "- **Archivo Ejecutable Original**: Disponible para ciertos escenarios, útil para análisis adicionales.\n",
    "\n",
    "---\n",
    "\n",
    "### 📥 **Descarga del Conjunto de Datos**\n",
    "\n",
    "- **Descarga Completa:** Puedes descargar todo el conjunto de datos como un archivo comprimido.\n",
    "  - [CTU-13-Dataset.tar.bz2 (1.9GB)](URL_DE_DESCARGA_COMPLETA)\n",
    "\n",
    "- **Descarga por Escenario:** También puedes descargar cada captura de manera individual. Los archivos `.binetflow` se encuentran en la carpeta `detailed-bidirectional-flow-labels`.\n",
    "\n",
    "  - [CTU-Malware-Capture-Botnet-42](URL_42)\n",
    "  - [CTU-Malware-Capture-Botnet-43](URL_43)\n",
    "  - [CTU-Malware-Capture-Botnet-44](URL_44)\n",
    "  - [CTU-Malware-Capture-Botnet-45](URL_45)\n",
    "  - [CTU-Malware-Capture-Botnet-46](URL_46)\n",
    "  - [CTU-Malware-Capture-Botnet-47](URL_47)\n",
    "  - [CTU-Malware-Capture-Botnet-48](URL_48)\n",
    "  - [CTU-Malware-Capture-Botnet-49](URL_49)\n",
    "  - [CTU-Malware-Capture-Botnet-50](URL_50)\n",
    "  - [CTU-Malware-Capture-Botnet-51](URL_51)\n",
    "  - [CTU-Malware-Capture-Botnet-52](URL_52)\n",
    "  - [CTU-Malware-Capture-Botnet-53](URL_53)\n",
    "  - [CTU-Malware-Capture-Botnet-54](URL_54)\n",
    "\n",
    "---\n",
    "\n",
    "Para cualquier análisis adicional o consulta sobre los archivos `.binetflow`, asegurarse de verificar las etiquetas de flujo bidireccional disponibles en cada escenario.\n",
    "\n",
    "# ***b) Descripcion de los datos***\n",
    "\n",
    "\n",
    "Las características con las que cuenta el dataset son:\n",
    "\n",
    "| Característica     | Descripción                                                                 |\n",
    "|--------------|-----------------------------------------------------------------------------|\n",
    "| dur      | Duración de la conexión en segundos.                                         |\n",
    "| proto    | Protocolo de comunicación utilizado (ej. TCP, UDP, ICMP).                   |\n",
    "| dir      | Dirección del flujo de tráfico (ej. → si es de origen a destino, o ← si es de destino a origen). |\n",
    "| state    | Estado de la conexión (ej. CON para conexiones establecidas, INT para interrumpidas). |\n",
    "| stos / dtos | Tipo de servicio (ToS) del tráfico enviado y recibido. Son valores que indican la prioridad del paquete en la red. |\n",
    "| tot_pkts | Número total de paquetes enviados en la conexión.                           |\n",
    "| tot_bytes| Número total de bytes transferidos.                                         |\n",
    "| src_bytes| Cantidad de bytes enviados desde la IP de origen.                            |\n",
    "| label    | Etiqueta que indica si el tráfico es normal o pertenece a una botnet (tráfico malicioso). |\n",
    "| Family   | Especie de botnet detectada (ej. Neris, Rbot, Virut, Murlo, etc.).           |"
   ]
  },
  {
   "cell_type": "markdown",
   "metadata": {},
   "source": [
    "### ***Importacion de modulos***"
   ]
  },
  {
   "cell_type": "code",
   "execution_count": 1,
   "metadata": {},
   "outputs": [],
   "source": [
    "import dask.dataframe as dd"
   ]
  },
  {
   "cell_type": "markdown",
   "metadata": {},
   "source": [
    "### ***Funcion para concatenar los archivos .parquet y generar un nuevo dataset***"
   ]
  },
  {
   "cell_type": "code",
   "execution_count": 53,
   "metadata": {},
   "outputs": [],
   "source": [
    "def concatenate_parquet_to_csv(input_dir, output_file):\n",
    "    df = dd.read_parquet(f'{input_dir}/*.parquet', engine='pyarrow')\n",
    "    df.to_csv(output_file, index=False, single_file=True)\n",
    "    print(f'Dataset concatenado y guardado en {output_file}')\n",
    "    del df\n",
    "    "
   ]
  },
  {
   "cell_type": "markdown",
   "metadata": {},
   "source": [
    "### ***Concatenar los archivos .parquet y generar un .csv con todos los datos***"
   ]
  },
  {
   "cell_type": "code",
   "execution_count": null,
   "metadata": {},
   "outputs": [
    {
     "name": "stdout",
     "output_type": "stream",
     "text": [
      "Dataset concatenado y guardado en ./data/ctu13.csv\n"
     ]
    }
   ],
   "source": [
    "concatenate_parquet_to_csv('../netflow_archive', '../data/ctu13.csv')"
   ]
  },
  {
   "cell_type": "markdown",
   "metadata": {},
   "source": [
    "### ***Cargamos el conjunto de datos nuevo (ctu13.csv)***"
   ]
  },
  {
   "cell_type": "code",
   "execution_count": 2,
   "metadata": {},
   "outputs": [],
   "source": [
    "ctu13_df = dd.read_csv('../data/ctu13.csv')"
   ]
  },
  {
   "cell_type": "markdown",
   "metadata": {},
   "source": [
    "### ***Informacion acerca de las columnas***"
   ]
  },
  {
   "cell_type": "code",
   "execution_count": null,
   "metadata": {},
   "outputs": [
    {
     "name": "stdout",
     "output_type": "stream",
     "text": [
      "Index(['dur', 'proto', 'dir', 'state', 'stos', 'dtos', 'tot_pkts', 'tot_bytes',\n",
      "       'src_bytes', 'label', 'Family'],\n",
      "      dtype='object')\n",
      "Dask DataFrame Structure:\n",
      "                   dur     stos     dtos tot_pkts tot_bytes src_bytes\n",
      "npartitions=1                                                        \n",
      "               float64  float64  float64  float64   float64   float64\n",
      "                   ...      ...      ...      ...       ...       ...\n",
      "Dask Name: concat, 14 expressions\n",
      "Expr=Concat(frames=[ReadCSV(7717133)['dur'].describenumeric(split_every=False), ReadCSV(7717133)['stos'].describenumeric(split_every=False), ReadCSV(7717133)['dtos'].describenumeric(split_every=False), ReadCSV(7717133)['tot_pkts'].describenumeric(split_every=False), ReadCSV(7717133)['tot_bytes'].describenumeric(split_every=False), ReadCSV(7717133)['src_bytes'].describenumeric(split_every=False)], axis=1)\n"
     ]
    },
    {
     "name": "stderr",
     "output_type": "stream",
     "text": [
      "c:\\Users\\t4v0s\\AppData\\Local\\Programs\\Python\\Python39\\lib\\site-packages\\dask\\dataframe\\io\\csv.py:195: DtypeWarning: Columns (10) have mixed types. Specify dtype option on import or set low_memory=False.\n",
      "  df = reader(bio, **kwargs)\n",
      "c:\\Users\\t4v0s\\AppData\\Local\\Programs\\Python\\Python39\\lib\\site-packages\\dask\\dataframe\\io\\csv.py:195: DtypeWarning: Columns (10) have mixed types. Specify dtype option on import or set low_memory=False.\n",
      "  df = reader(bio, **kwargs)\n"
     ]
    },
    {
     "name": "stdout",
     "output_type": "stream",
     "text": [
      "Rows: 10598771 Columns: 11\n"
     ]
    },
    {
     "data": {
      "text/html": [
       "<div>\n",
       "<style scoped>\n",
       "    .dataframe tbody tr th:only-of-type {\n",
       "        vertical-align: middle;\n",
       "    }\n",
       "\n",
       "    .dataframe tbody tr th {\n",
       "        vertical-align: top;\n",
       "    }\n",
       "\n",
       "    .dataframe thead th {\n",
       "        text-align: right;\n",
       "    }\n",
       "</style>\n",
       "<table border=\"1\" class=\"dataframe\">\n",
       "  <thead>\n",
       "    <tr style=\"text-align: right;\">\n",
       "      <th></th>\n",
       "      <th>dur</th>\n",
       "      <th>proto</th>\n",
       "      <th>dir</th>\n",
       "      <th>state</th>\n",
       "      <th>stos</th>\n",
       "      <th>dtos</th>\n",
       "      <th>tot_pkts</th>\n",
       "      <th>tot_bytes</th>\n",
       "      <th>src_bytes</th>\n",
       "      <th>label</th>\n",
       "      <th>Family</th>\n",
       "    </tr>\n",
       "  </thead>\n",
       "  <tbody>\n",
       "    <tr>\n",
       "      <th>0</th>\n",
       "      <td>1.026539</td>\n",
       "      <td>tcp</td>\n",
       "      <td>-&gt;</td>\n",
       "      <td>S_RA</td>\n",
       "      <td>0.0</td>\n",
       "      <td>0.0</td>\n",
       "      <td>4</td>\n",
       "      <td>276</td>\n",
       "      <td>156</td>\n",
       "      <td>flow=Background-Established-cmpgw-CVUT</td>\n",
       "      <td>20110810.binetflow.csv</td>\n",
       "    </tr>\n",
       "    <tr>\n",
       "      <th>1</th>\n",
       "      <td>1.009595</td>\n",
       "      <td>tcp</td>\n",
       "      <td>-&gt;</td>\n",
       "      <td>S_RA</td>\n",
       "      <td>0.0</td>\n",
       "      <td>0.0</td>\n",
       "      <td>4</td>\n",
       "      <td>276</td>\n",
       "      <td>156</td>\n",
       "      <td>flow=Background-Established-cmpgw-CVUT</td>\n",
       "      <td>20110810.binetflow.csv</td>\n",
       "    </tr>\n",
       "    <tr>\n",
       "      <th>2</th>\n",
       "      <td>3.056586</td>\n",
       "      <td>tcp</td>\n",
       "      <td>-&gt;</td>\n",
       "      <td>SR_A</td>\n",
       "      <td>0.0</td>\n",
       "      <td>0.0</td>\n",
       "      <td>3</td>\n",
       "      <td>182</td>\n",
       "      <td>122</td>\n",
       "      <td>flow=Background-TCP-Attempt</td>\n",
       "      <td>20110810.binetflow.csv</td>\n",
       "    </tr>\n",
       "    <tr>\n",
       "      <th>3</th>\n",
       "      <td>3.111769</td>\n",
       "      <td>tcp</td>\n",
       "      <td>-&gt;</td>\n",
       "      <td>SR_A</td>\n",
       "      <td>0.0</td>\n",
       "      <td>0.0</td>\n",
       "      <td>3</td>\n",
       "      <td>182</td>\n",
       "      <td>122</td>\n",
       "      <td>flow=Background-TCP-Attempt</td>\n",
       "      <td>20110810.binetflow.csv</td>\n",
       "    </tr>\n",
       "    <tr>\n",
       "      <th>4</th>\n",
       "      <td>3.083411</td>\n",
       "      <td>tcp</td>\n",
       "      <td>-&gt;</td>\n",
       "      <td>SR_A</td>\n",
       "      <td>0.0</td>\n",
       "      <td>0.0</td>\n",
       "      <td>3</td>\n",
       "      <td>182</td>\n",
       "      <td>122</td>\n",
       "      <td>flow=Background-TCP-Attempt</td>\n",
       "      <td>20110810.binetflow.csv</td>\n",
       "    </tr>\n",
       "  </tbody>\n",
       "</table>\n",
       "</div>"
      ],
      "text/plain": [
       "        dur proto    dir state  stos  dtos  tot_pkts  tot_bytes  src_bytes  \\\n",
       "0  1.026539   tcp     ->  S_RA   0.0   0.0         4        276        156   \n",
       "1  1.009595   tcp     ->  S_RA   0.0   0.0         4        276        156   \n",
       "2  3.056586   tcp     ->  SR_A   0.0   0.0         3        182        122   \n",
       "3  3.111769   tcp     ->  SR_A   0.0   0.0         3        182        122   \n",
       "4  3.083411   tcp     ->  SR_A   0.0   0.0         3        182        122   \n",
       "\n",
       "                                    label                  Family  \n",
       "0  flow=Background-Established-cmpgw-CVUT  20110810.binetflow.csv  \n",
       "1  flow=Background-Established-cmpgw-CVUT  20110810.binetflow.csv  \n",
       "2             flow=Background-TCP-Attempt  20110810.binetflow.csv  \n",
       "3             flow=Background-TCP-Attempt  20110810.binetflow.csv  \n",
       "4             flow=Background-TCP-Attempt  20110810.binetflow.csv  "
      ]
     },
     "execution_count": 3,
     "metadata": {},
     "output_type": "execute_result"
    },
    {
     "name": "stderr",
     "output_type": "stream",
     "text": [
      "c:\\Users\\t4v0s\\AppData\\Local\\Programs\\Python\\Python39\\lib\\site-packages\\dask\\dataframe\\io\\csv.py:195: DtypeWarning: Columns (10) have mixed types. Specify dtype option on import or set low_memory=False.\n",
      "  df = reader(bio, **kwargs)\n",
      "c:\\Users\\t4v0s\\AppData\\Local\\Programs\\Python\\Python39\\lib\\site-packages\\dask\\dataframe\\io\\csv.py:195: DtypeWarning: Columns (10) have mixed types. Specify dtype option on import or set low_memory=False.\n",
      "  df = reader(bio, **kwargs)\n",
      "c:\\Users\\t4v0s\\AppData\\Local\\Programs\\Python\\Python39\\lib\\site-packages\\dask\\dataframe\\io\\csv.py:195: DtypeWarning: Columns (10) have mixed types. Specify dtype option on import or set low_memory=False.\n",
      "  df = reader(bio, **kwargs)\n",
      "c:\\Users\\t4v0s\\AppData\\Local\\Programs\\Python\\Python39\\lib\\site-packages\\dask\\dataframe\\io\\csv.py:195: DtypeWarning: Columns (10) have mixed types. Specify dtype option on import or set low_memory=False.\n",
      "  df = reader(bio, **kwargs)\n",
      "c:\\Users\\t4v0s\\AppData\\Local\\Programs\\Python\\Python39\\lib\\site-packages\\dask\\dataframe\\io\\csv.py:195: DtypeWarning: Columns (10) have mixed types. Specify dtype option on import or set low_memory=False.\n",
      "  df = reader(bio, **kwargs)\n",
      "c:\\Users\\t4v0s\\AppData\\Local\\Programs\\Python\\Python39\\lib\\site-packages\\dask\\dataframe\\io\\csv.py:195: DtypeWarning: Columns (10) have mixed types. Specify dtype option on import or set low_memory=False.\n",
      "  df = reader(bio, **kwargs)\n",
      "c:\\Users\\t4v0s\\AppData\\Local\\Programs\\Python\\Python39\\lib\\site-packages\\dask\\dataframe\\io\\csv.py:195: DtypeWarning: Columns (10) have mixed types. Specify dtype option on import or set low_memory=False.\n",
      "  df = reader(bio, **kwargs)\n",
      "c:\\Users\\t4v0s\\AppData\\Local\\Programs\\Python\\Python39\\lib\\site-packages\\dask\\dataframe\\io\\csv.py:195: DtypeWarning: Columns (10) have mixed types. Specify dtype option on import or set low_memory=False.\n",
      "  df = reader(bio, **kwargs)\n"
     ]
    }
   ],
   "source": [
    "print(ctu13_df.columns)\n",
    "print(ctu13_df.describe())\n",
    "print(f'Rows: {len(ctu13_df)} Columns: {len(ctu13_df.columns)}')\n",
    "ctu13_df.head(5)"
   ]
  },
  {
   "cell_type": "markdown",
   "metadata": {},
   "source": [
    "### ***¿Que columnas contienen valores nulos?***"
   ]
  },
  {
   "cell_type": "code",
   "execution_count": 7,
   "metadata": {},
   "outputs": [
    {
     "data": {
      "text/plain": [
       "dur               0\n",
       "proto             0\n",
       "dir               0\n",
       "state            76\n",
       "stos          85794\n",
       "dtos         908408\n",
       "tot_pkts          0\n",
       "tot_bytes         0\n",
       "src_bytes         0\n",
       "label             0\n",
       "Family            0\n",
       "dtype: int64"
      ]
     },
     "execution_count": 7,
     "metadata": {},
     "output_type": "execute_result"
    }
   ],
   "source": [
    "ctu13_df.isnull().sum().compute()\n"
   ]
  },
  {
   "cell_type": "markdown",
   "metadata": {},
   "source": [
    "### ***Rellenando los registros donde hay valores nulos***"
   ]
  },
  {
   "cell_type": "code",
   "execution_count": 38,
   "metadata": {},
   "outputs": [
    {
     "data": {
      "text/plain": [
       "state\n",
       "CON    6271638\n",
       "Name: count, dtype: int64"
      ]
     },
     "execution_count": 38,
     "metadata": {},
     "output_type": "execute_result"
    }
   ],
   "source": [
    "ctu13_df['state'].value_counts().nlargest(1).compute()"
   ]
  },
  {
   "cell_type": "code",
   "execution_count": 39,
   "metadata": {},
   "outputs": [],
   "source": [
    "ctu13_df['state'] = ctu13_df.state.fillna(value='CON')"
   ]
  },
  {
   "cell_type": "code",
   "execution_count": 15,
   "metadata": {},
   "outputs": [
    {
     "data": {
      "text/plain": [
       "count    1.051298e+07\n",
       "mean     8.291562e-03\n",
       "std      1.006990e+00\n",
       "min      0.000000e+00\n",
       "25%      0.000000e+00\n",
       "50%      0.000000e+00\n",
       "75%      0.000000e+00\n",
       "max      1.920000e+02\n",
       "Name: stos, dtype: float64"
      ]
     },
     "execution_count": 15,
     "metadata": {},
     "output_type": "execute_result"
    }
   ],
   "source": [
    "ctu13_df['stos'].describe().compute()"
   ]
  },
  {
   "cell_type": "code",
   "execution_count": 16,
   "metadata": {},
   "outputs": [
    {
     "data": {
      "text/plain": [
       "count    9.690363e+06\n",
       "mean     7.676699e-04\n",
       "std      4.455093e-02\n",
       "min      0.000000e+00\n",
       "25%      0.000000e+00\n",
       "50%      0.000000e+00\n",
       "75%      0.000000e+00\n",
       "max      3.000000e+00\n",
       "Name: dtos, dtype: float64"
      ]
     },
     "execution_count": 16,
     "metadata": {},
     "output_type": "execute_result"
    }
   ],
   "source": [
    "ctu13_df['dtos'].describe().compute()"
   ]
  },
  {
   "cell_type": "code",
   "execution_count": 40,
   "metadata": {},
   "outputs": [],
   "source": [
    "ctu13_df['stos'] = ctu13_df.stos.fillna(value=0.0)\n",
    "ctu13_df['dtos'] = ctu13_df.dtos.fillna(value=0.0)"
   ]
  },
  {
   "cell_type": "markdown",
   "metadata": {},
   "source": [
    "### ***Validando si pertenece a una botnet***"
   ]
  },
  {
   "cell_type": "code",
   "execution_count": 45,
   "metadata": {},
   "outputs": [],
   "source": [
    "def convert_label(sample):\n",
    "    if isinstance(sample, str) and \"Botnet\" in sample: \n",
    "        return 1\n",
    "    else: \n",
    "        return 0"
   ]
  },
  {
   "cell_type": "code",
   "execution_count": 46,
   "metadata": {},
   "outputs": [
    {
     "name": "stderr",
     "output_type": "stream",
     "text": [
      "c:\\Users\\t4v0s\\AppData\\Local\\Programs\\Python\\Python39\\lib\\site-packages\\dask_expr\\_collection.py:4356: UserWarning: \n",
      "You did not provide metadata, so Dask is running your function on a small dataset to guess output types. It is possible that Dask will guess incorrectly.\n",
      "To provide an explicit output types or to silence this message, please provide the `meta=` keyword, as described in the map or apply function that you are using.\n",
      "  Before: .apply(func)\n",
      "  After:  .apply(func, meta=('label', 'int64'))\n",
      "\n",
      "  warnings.warn(meta_warning(meta))\n"
     ]
    }
   ],
   "source": [
    "ctu13_df['is_botnet'] = ctu13_df['label'].apply(convert_label)"
   ]
  },
  {
   "cell_type": "code",
   "execution_count": 49,
   "metadata": {},
   "outputs": [
    {
     "data": {
      "text/html": [
       "<div>\n",
       "<style scoped>\n",
       "    .dataframe tbody tr th:only-of-type {\n",
       "        vertical-align: middle;\n",
       "    }\n",
       "\n",
       "    .dataframe tbody tr th {\n",
       "        vertical-align: top;\n",
       "    }\n",
       "\n",
       "    .dataframe thead th {\n",
       "        text-align: right;\n",
       "    }\n",
       "</style>\n",
       "<table border=\"1\" class=\"dataframe\">\n",
       "  <thead>\n",
       "    <tr style=\"text-align: right;\">\n",
       "      <th></th>\n",
       "      <th>dur</th>\n",
       "      <th>proto</th>\n",
       "      <th>dir</th>\n",
       "      <th>state</th>\n",
       "      <th>stos</th>\n",
       "      <th>dtos</th>\n",
       "      <th>tot_pkts</th>\n",
       "      <th>tot_bytes</th>\n",
       "      <th>src_bytes</th>\n",
       "      <th>label</th>\n",
       "      <th>Family</th>\n",
       "      <th>is_botnet</th>\n",
       "    </tr>\n",
       "  </thead>\n",
       "  <tbody>\n",
       "    <tr>\n",
       "      <th>581047</th>\n",
       "      <td>8.912759</td>\n",
       "      <td>tcp</td>\n",
       "      <td>-&gt;</td>\n",
       "      <td>S_</td>\n",
       "      <td>0.0</td>\n",
       "      <td>0.0</td>\n",
       "      <td>3</td>\n",
       "      <td>186</td>\n",
       "      <td>186</td>\n",
       "      <td>flow=From-Botnet-V42-TCP-Attempt-SPAM</td>\n",
       "      <td>20110810.binetflow.csv</td>\n",
       "      <td>1</td>\n",
       "    </tr>\n",
       "    <tr>\n",
       "      <th>447915</th>\n",
       "      <td>0.001520</td>\n",
       "      <td>udp</td>\n",
       "      <td>&lt;-&gt;</td>\n",
       "      <td>CON</td>\n",
       "      <td>0.0</td>\n",
       "      <td>0.0</td>\n",
       "      <td>2</td>\n",
       "      <td>559</td>\n",
       "      <td>78</td>\n",
       "      <td>flow=Background-UDP-Established</td>\n",
       "      <td>20110810.binetflow.csv</td>\n",
       "      <td>0</td>\n",
       "    </tr>\n",
       "    <tr>\n",
       "      <th>472660</th>\n",
       "      <td>0.168740</td>\n",
       "      <td>tcp</td>\n",
       "      <td>-&gt;</td>\n",
       "      <td>FSPA_FSPA</td>\n",
       "      <td>0.0</td>\n",
       "      <td>0.0</td>\n",
       "      <td>65</td>\n",
       "      <td>58018</td>\n",
       "      <td>1513</td>\n",
       "      <td>flow=Background-TCP-Established</td>\n",
       "      <td>20110810.binetflow.csv</td>\n",
       "      <td>0</td>\n",
       "    </tr>\n",
       "    <tr>\n",
       "      <th>380283</th>\n",
       "      <td>0.000856</td>\n",
       "      <td>udp</td>\n",
       "      <td>&lt;-&gt;</td>\n",
       "      <td>CON</td>\n",
       "      <td>0.0</td>\n",
       "      <td>0.0</td>\n",
       "      <td>2</td>\n",
       "      <td>555</td>\n",
       "      <td>75</td>\n",
       "      <td>flow=Background-UDP-Established</td>\n",
       "      <td>20110810.binetflow.csv</td>\n",
       "      <td>0</td>\n",
       "    </tr>\n",
       "    <tr>\n",
       "      <th>448229</th>\n",
       "      <td>0.007266</td>\n",
       "      <td>tcp</td>\n",
       "      <td>-&gt;</td>\n",
       "      <td>FSPA_FSPA</td>\n",
       "      <td>0.0</td>\n",
       "      <td>0.0</td>\n",
       "      <td>9</td>\n",
       "      <td>786</td>\n",
       "      <td>513</td>\n",
       "      <td>flow=To-Background-CVUT-Proxy</td>\n",
       "      <td>20110810.binetflow.csv</td>\n",
       "      <td>0</td>\n",
       "    </tr>\n",
       "    <tr>\n",
       "      <th>...</th>\n",
       "      <td>...</td>\n",
       "      <td>...</td>\n",
       "      <td>...</td>\n",
       "      <td>...</td>\n",
       "      <td>...</td>\n",
       "      <td>...</td>\n",
       "      <td>...</td>\n",
       "      <td>...</td>\n",
       "      <td>...</td>\n",
       "      <td>...</td>\n",
       "      <td>...</td>\n",
       "      <td>...</td>\n",
       "    </tr>\n",
       "    <tr>\n",
       "      <th>745600</th>\n",
       "      <td>42.579180</td>\n",
       "      <td>tcp</td>\n",
       "      <td>-&gt;</td>\n",
       "      <td>FSPA_FSPA</td>\n",
       "      <td>0.0</td>\n",
       "      <td>0.0</td>\n",
       "      <td>46</td>\n",
       "      <td>28828</td>\n",
       "      <td>1989</td>\n",
       "      <td>flow=Background-TCP-Established</td>\n",
       "      <td>20110815</td>\n",
       "      <td>0</td>\n",
       "    </tr>\n",
       "    <tr>\n",
       "      <th>607107</th>\n",
       "      <td>20.764215</td>\n",
       "      <td>tcp</td>\n",
       "      <td>-&gt;</td>\n",
       "      <td>FSPA_FSPA</td>\n",
       "      <td>0.0</td>\n",
       "      <td>0.0</td>\n",
       "      <td>23</td>\n",
       "      <td>9386</td>\n",
       "      <td>2266</td>\n",
       "      <td>flow=Background-TCP-Established</td>\n",
       "      <td>20110815</td>\n",
       "      <td>0</td>\n",
       "    </tr>\n",
       "    <tr>\n",
       "      <th>341714</th>\n",
       "      <td>1152.700600</td>\n",
       "      <td>udp</td>\n",
       "      <td>&lt;-&gt;</td>\n",
       "      <td>CON</td>\n",
       "      <td>0.0</td>\n",
       "      <td>0.0</td>\n",
       "      <td>4</td>\n",
       "      <td>569</td>\n",
       "      <td>445</td>\n",
       "      <td>flow=Background-UDP-Established</td>\n",
       "      <td>20110815</td>\n",
       "      <td>0</td>\n",
       "    </tr>\n",
       "    <tr>\n",
       "      <th>299435</th>\n",
       "      <td>0.353191</td>\n",
       "      <td>udp</td>\n",
       "      <td>&lt;-&gt;</td>\n",
       "      <td>CON</td>\n",
       "      <td>0.0</td>\n",
       "      <td>0.0</td>\n",
       "      <td>2</td>\n",
       "      <td>1079</td>\n",
       "      <td>117</td>\n",
       "      <td>flow=Background-UDP-Established</td>\n",
       "      <td>20110815</td>\n",
       "      <td>0</td>\n",
       "    </tr>\n",
       "    <tr>\n",
       "      <th>125121</th>\n",
       "      <td>0.078513</td>\n",
       "      <td>rtcp</td>\n",
       "      <td>&lt;-&gt;</td>\n",
       "      <td>CON</td>\n",
       "      <td>0.0</td>\n",
       "      <td>0.0</td>\n",
       "      <td>2</td>\n",
       "      <td>520</td>\n",
       "      <td>460</td>\n",
       "      <td>flow=Background-UDP-Established</td>\n",
       "      <td>20110815</td>\n",
       "      <td>0</td>\n",
       "    </tr>\n",
       "  </tbody>\n",
       "</table>\n",
       "<p>3179632 rows × 12 columns</p>\n",
       "</div>"
      ],
      "text/plain": [
       "                dur proto    dir      state  stos  dtos  tot_pkts  tot_bytes  \\\n",
       "581047     8.912759   tcp     ->         S_   0.0   0.0         3        186   \n",
       "447915     0.001520   udp    <->        CON   0.0   0.0         2        559   \n",
       "472660     0.168740   tcp     ->  FSPA_FSPA   0.0   0.0        65      58018   \n",
       "380283     0.000856   udp    <->        CON   0.0   0.0         2        555   \n",
       "448229     0.007266   tcp     ->  FSPA_FSPA   0.0   0.0         9        786   \n",
       "...             ...   ...    ...        ...   ...   ...       ...        ...   \n",
       "745600    42.579180   tcp     ->  FSPA_FSPA   0.0   0.0        46      28828   \n",
       "607107    20.764215   tcp     ->  FSPA_FSPA   0.0   0.0        23       9386   \n",
       "341714  1152.700600   udp    <->        CON   0.0   0.0         4        569   \n",
       "299435     0.353191   udp    <->        CON   0.0   0.0         2       1079   \n",
       "125121     0.078513  rtcp    <->        CON   0.0   0.0         2        520   \n",
       "\n",
       "        src_bytes                                  label  \\\n",
       "581047        186  flow=From-Botnet-V42-TCP-Attempt-SPAM   \n",
       "447915         78        flow=Background-UDP-Established   \n",
       "472660       1513        flow=Background-TCP-Established   \n",
       "380283         75        flow=Background-UDP-Established   \n",
       "448229        513          flow=To-Background-CVUT-Proxy   \n",
       "...           ...                                    ...   \n",
       "745600       1989        flow=Background-TCP-Established   \n",
       "607107       2266        flow=Background-TCP-Established   \n",
       "341714        445        flow=Background-UDP-Established   \n",
       "299435        117        flow=Background-UDP-Established   \n",
       "125121        460        flow=Background-UDP-Established   \n",
       "\n",
       "                        Family  is_botnet  \n",
       "581047  20110810.binetflow.csv          1  \n",
       "447915  20110810.binetflow.csv          0  \n",
       "472660  20110810.binetflow.csv          0  \n",
       "380283  20110810.binetflow.csv          0  \n",
       "448229  20110810.binetflow.csv          0  \n",
       "...                        ...        ...  \n",
       "745600                20110815          0  \n",
       "607107                20110815          0  \n",
       "341714                20110815          0  \n",
       "299435                20110815          0  \n",
       "125121                20110815          0  \n",
       "\n",
       "[3179632 rows x 12 columns]"
      ]
     },
     "execution_count": 49,
     "metadata": {},
     "output_type": "execute_result"
    }
   ],
   "source": [
    "ctu13_df.sample(frac=0.3, random_state=20).compute()"
   ]
  },
  {
   "cell_type": "code",
   "execution_count": 51,
   "metadata": {},
   "outputs": [
    {
     "data": {
      "text/plain": [
       "Index(['proto', 'dir', 'state', 'label', 'Family'], dtype='object')"
      ]
     },
     "execution_count": 51,
     "metadata": {},
     "output_type": "execute_result"
    }
   ],
   "source": [
    "# Categorical feature names\n",
    "ctu13_df.select_dtypes(exclude='number').columns"
   ]
  },
  {
   "cell_type": "code",
   "execution_count": 52,
   "metadata": {},
   "outputs": [
    {
     "data": {
      "text/plain": [
       "Index(['dur', 'stos', 'dtos', 'tot_pkts', 'tot_bytes', 'src_bytes',\n",
       "       'is_botnet'],\n",
       "      dtype='object')"
      ]
     },
     "execution_count": 52,
     "metadata": {},
     "output_type": "execute_result"
    }
   ],
   "source": [
    "# Numeric features names\n",
    "ctu13_df.select_dtypes(include='number').columns"
   ]
  }
 ],
 "metadata": {
  "kernelspec": {
   "display_name": "Python 3",
   "language": "python",
   "name": "python3"
  },
  "language_info": {
   "codemirror_mode": {
    "name": "ipython",
    "version": 3
   },
   "file_extension": ".py",
   "mimetype": "text/x-python",
   "name": "python",
   "nbconvert_exporter": "python",
   "pygments_lexer": "ipython3",
   "version": "3.9.0"
  }
 },
 "nbformat": 4,
 "nbformat_minor": 2
}
