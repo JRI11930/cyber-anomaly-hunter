{
 "cells": [
  {
   "cell_type": "code",
   "execution_count": null,
   "metadata": {},
   "outputs": [],
   "source": [
    "lista_escenarios = {0: 'Sogou', 1: 'Murlo', 2: 'Neris', 3: 'RBot', 4: 'NsisAy', 5: 'Virut'}\n",
    "\n",
    "# Invertimos el diccionario para mapear nombres a números (ej. 'Sogou' -> 0)\n",
    "mapeo = {v: k for k, v in lista_escenarios.items()}\n",
    "\n",
    "# Suponiendo que df_botnets es tu DataFrame de Dask\n",
    "# Creamos la columna 'target' mapeando BOTNET_NAME con el diccionario\n",
    "df_botnets['target'] = df_botnets['BOTNET_NAME'].map(mapeo)\n",
    "\n",
    "# Si hay valores en BOTNET_NAME que no están en el diccionario, puedes asignar un valor por defecto (opcional)\n",
    "# Por ejemplo, -1 para los no mapeados:\n",
    "df_botnets['target'] = df_botnets['BOTNET_NAME'].map(lambda x: mapeo.get(x, -1))"
   ]
  }
 ],
 "metadata": {
  "language_info": {
   "name": "python"
  }
 },
 "nbformat": 4,
 "nbformat_minor": 2
}
