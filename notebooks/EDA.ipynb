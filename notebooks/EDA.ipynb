{
 "cells": [
  {
   "cell_type": "markdown",
   "metadata": {},
   "source": [
    "<div style=\"\n",
    "    display: flex;\n",
    "    justify-content: center;\n",
    "    align-items: center;\n",
    "    background: linear-gradient(to bottom, #F5F5DC, #C0C0C0);\n",
    "    padding: 10px;\n",
    "    border-radius: 10px;\n",
    "\">\n",
    "    <img src=\"../samsung.png\" alt=\"Samsung Innovation Campus\" style=\"border-radius: 5px;\">\n",
    "</div>\n",
    "<div style=\"\n",
    "    text-align: center;\n",
    "    font-style: italic;\n",
    "\">\n",
    "    Este proyecto fue desarrollado dentro del marco del programa Samsun Innovation Campus 2024\n",
    "</div>\n",
    "\n",
    "<b>PRESENTAN</b>: José Armando Ramírez Islas & Jorge Octavio Nicolás Díaz"
   ]
  }
 ],
 "metadata": {
  "kernelspec": {
   "display_name": "Samsung",
   "language": "python",
   "name": "python3"
  },
  "language_info": {
   "codemirror_mode": {
    "name": "ipython",
    "version": 3
   },
   "file_extension": ".py",
   "mimetype": "text/x-python",
   "name": "python",
   "nbconvert_exporter": "python",
   "pygments_lexer": "ipython3",
   "version": "3.10.12"
  }
 },
 "nbformat": 4,
 "nbformat_minor": 2
}
