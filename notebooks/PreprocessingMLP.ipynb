{
 "cells": [
  {
   "cell_type": "markdown",
   "metadata": {},
   "source": [
    "# __Preprocesamiento de datos para el perceptron multicapa__"
   ]
  },
  {
   "cell_type": "markdown",
   "metadata": {},
   "source": [
    "### 1️⃣ __Importacion de modulos__"
   ]
  },
  {
   "cell_type": "code",
   "execution_count": 13,
   "metadata": {},
   "outputs": [],
   "source": [
    "import dask.dataframe as dd\n",
    "import pandas as pd\n",
    "import os\n",
    "import pickle  # Usado en normalize_data para guardar el scaler\n",
    "from sklearn.preprocessing import MinMaxScaler\n",
    "from sklearn.preprocessing import OneHotEncoder\n",
    "#from sklearn.model_selection import train_test_split  # Usado para dividir datos en train y test"
   ]
  },
  {
   "cell_type": "markdown",
   "metadata": {},
   "source": [
    "### 2️⃣ __Leer el CSV preprocesado__"
   ]
  },
  {
   "cell_type": "code",
   "execution_count": 14,
   "metadata": {},
   "outputs": [],
   "source": [
    "ctu13_df = dd.read_csv('./preprocessing_data/dataset_procesado.csv')"
   ]
  },
  {
   "cell_type": "markdown",
   "metadata": {},
   "source": [
    "### 3️⃣ __Obtenemos los flujos de red que solamente pertenecen a una botnet__"
   ]
  },
  {
   "cell_type": "code",
   "execution_count": 15,
   "metadata": {},
   "outputs": [
    {
     "data": {
      "text/plain": [
       "(338370, 17)"
      ]
     },
     "execution_count": 15,
     "metadata": {},
     "output_type": "execute_result"
    }
   ],
   "source": [
    "df_botnets = ctu13_df[ctu13_df['is_botnet'] == 1].copy()\n",
    "df_botnets.compute().shape"
   ]
  },
  {
   "cell_type": "markdown",
   "metadata": {},
   "source": [
    "### 4️⃣ __Asignamos una etiqueta objetivo idnetificando cada tipo de botnet a clasificar__"
   ]
  },
  {
   "cell_type": "code",
   "execution_count": 16,
   "metadata": {},
   "outputs": [
    {
     "data": {
      "text/plain": [
       "target\n",
       "2    106352\n",
       "3     40904\n",
       "1    184987\n",
       "0      6127\n",
       "Name: count, dtype: int64"
      ]
     },
     "execution_count": 16,
     "metadata": {},
     "output_type": "execute_result"
    }
   ],
   "source": [
    "escenarios = {0: 'Murlo', 1: 'Neris', 2: 'RBot', 3: 'Virut'}\n",
    "df_botnets['target'] = df_botnets['BOTNET_NAME'].map({v: k for k, v in escenarios.items()}, meta=('BOTNET_NAME', 'int64'))\n",
    "df_botnets['target'].value_counts().compute()"
   ]
  },
  {
   "cell_type": "markdown",
   "metadata": {},
   "source": [
    "### 5️⃣ __Eliminamos las columnas innecesarias__"
   ]
  },
  {
   "cell_type": "code",
   "execution_count": 17,
   "metadata": {},
   "outputs": [
    {
     "data": {
      "text/html": [
       "<div>\n",
       "<style scoped>\n",
       "    .dataframe tbody tr th:only-of-type {\n",
       "        vertical-align: middle;\n",
       "    }\n",
       "\n",
       "    .dataframe tbody tr th {\n",
       "        vertical-align: top;\n",
       "    }\n",
       "\n",
       "    .dataframe thead th {\n",
       "        text-align: right;\n",
       "    }\n",
       "</style>\n",
       "<table border=\"1\" class=\"dataframe\">\n",
       "  <thead>\n",
       "    <tr style=\"text-align: right;\">\n",
       "      <th></th>\n",
       "      <th>Dur</th>\n",
       "      <th>Proto</th>\n",
       "      <th>Sport</th>\n",
       "      <th>Dir</th>\n",
       "      <th>Dport</th>\n",
       "      <th>sTos</th>\n",
       "      <th>dTos</th>\n",
       "      <th>TotPkts</th>\n",
       "      <th>TotBytes</th>\n",
       "      <th>SrcBytes</th>\n",
       "      <th>label</th>\n",
       "      <th>target</th>\n",
       "    </tr>\n",
       "  </thead>\n",
       "  <tbody>\n",
       "    <tr>\n",
       "      <th>923</th>\n",
       "      <td>1.000221</td>\n",
       "      <td>udp</td>\n",
       "      <td>1025.0</td>\n",
       "      <td>&lt;-&gt;</td>\n",
       "      <td>53.0</td>\n",
       "      <td>0.0</td>\n",
       "      <td>0.0</td>\n",
       "      <td>4.0</td>\n",
       "      <td>1010.0</td>\n",
       "      <td>156.0</td>\n",
       "      <td>Murlo</td>\n",
       "      <td>0</td>\n",
       "    </tr>\n",
       "    <tr>\n",
       "      <th>1103</th>\n",
       "      <td>500.002869</td>\n",
       "      <td>tcp</td>\n",
       "      <td>1039.0</td>\n",
       "      <td>-&gt;</td>\n",
       "      <td>80.0</td>\n",
       "      <td>0.0</td>\n",
       "      <td>0.0</td>\n",
       "      <td>14.0</td>\n",
       "      <td>5498.0</td>\n",
       "      <td>531.0</td>\n",
       "      <td>Murlo</td>\n",
       "      <td>0</td>\n",
       "    </tr>\n",
       "    <tr>\n",
       "      <th>8354</th>\n",
       "      <td>0.000218</td>\n",
       "      <td>udp</td>\n",
       "      <td>1025.0</td>\n",
       "      <td>&lt;-&gt;</td>\n",
       "      <td>53.0</td>\n",
       "      <td>0.0</td>\n",
       "      <td>0.0</td>\n",
       "      <td>2.0</td>\n",
       "      <td>203.0</td>\n",
       "      <td>64.0</td>\n",
       "      <td>Murlo</td>\n",
       "      <td>0</td>\n",
       "    </tr>\n",
       "    <tr>\n",
       "      <th>8611</th>\n",
       "      <td>0.000513</td>\n",
       "      <td>udp</td>\n",
       "      <td>1025.0</td>\n",
       "      <td>&lt;-&gt;</td>\n",
       "      <td>53.0</td>\n",
       "      <td>0.0</td>\n",
       "      <td>0.0</td>\n",
       "      <td>2.0</td>\n",
       "      <td>590.0</td>\n",
       "      <td>87.0</td>\n",
       "      <td>Murlo</td>\n",
       "      <td>0</td>\n",
       "    </tr>\n",
       "    <tr>\n",
       "      <th>8612</th>\n",
       "      <td>0.037986</td>\n",
       "      <td>tcp</td>\n",
       "      <td>1027.0</td>\n",
       "      <td>-&gt;</td>\n",
       "      <td>80.0</td>\n",
       "      <td>0.0</td>\n",
       "      <td>0.0</td>\n",
       "      <td>7.0</td>\n",
       "      <td>882.0</td>\n",
       "      <td>629.0</td>\n",
       "      <td>Murlo</td>\n",
       "      <td>0</td>\n",
       "    </tr>\n",
       "    <tr>\n",
       "      <th>...</th>\n",
       "      <td>...</td>\n",
       "      <td>...</td>\n",
       "      <td>...</td>\n",
       "      <td>...</td>\n",
       "      <td>...</td>\n",
       "      <td>...</td>\n",
       "      <td>...</td>\n",
       "      <td>...</td>\n",
       "      <td>...</td>\n",
       "      <td>...</td>\n",
       "      <td>...</td>\n",
       "      <td>...</td>\n",
       "    </tr>\n",
       "    <tr>\n",
       "      <th>417016</th>\n",
       "      <td>1.308413</td>\n",
       "      <td>tcp</td>\n",
       "      <td>23049.0</td>\n",
       "      <td>-&gt;</td>\n",
       "      <td>443.0</td>\n",
       "      <td>0.0</td>\n",
       "      <td>0.0</td>\n",
       "      <td>6.0</td>\n",
       "      <td>366.0</td>\n",
       "      <td>186.0</td>\n",
       "      <td>Virut</td>\n",
       "      <td>3</td>\n",
       "    </tr>\n",
       "    <tr>\n",
       "      <th>417097</th>\n",
       "      <td>1.207547</td>\n",
       "      <td>tcp</td>\n",
       "      <td>23050.0</td>\n",
       "      <td>-&gt;</td>\n",
       "      <td>443.0</td>\n",
       "      <td>0.0</td>\n",
       "      <td>0.0</td>\n",
       "      <td>6.0</td>\n",
       "      <td>366.0</td>\n",
       "      <td>186.0</td>\n",
       "      <td>Virut</td>\n",
       "      <td>3</td>\n",
       "    </tr>\n",
       "    <tr>\n",
       "      <th>417191</th>\n",
       "      <td>1.307525</td>\n",
       "      <td>tcp</td>\n",
       "      <td>23051.0</td>\n",
       "      <td>-&gt;</td>\n",
       "      <td>443.0</td>\n",
       "      <td>0.0</td>\n",
       "      <td>0.0</td>\n",
       "      <td>6.0</td>\n",
       "      <td>366.0</td>\n",
       "      <td>186.0</td>\n",
       "      <td>Virut</td>\n",
       "      <td>3</td>\n",
       "    </tr>\n",
       "    <tr>\n",
       "      <th>417271</th>\n",
       "      <td>1.308276</td>\n",
       "      <td>tcp</td>\n",
       "      <td>23052.0</td>\n",
       "      <td>-&gt;</td>\n",
       "      <td>443.0</td>\n",
       "      <td>0.0</td>\n",
       "      <td>0.0</td>\n",
       "      <td>6.0</td>\n",
       "      <td>366.0</td>\n",
       "      <td>186.0</td>\n",
       "      <td>Virut</td>\n",
       "      <td>3</td>\n",
       "    </tr>\n",
       "    <tr>\n",
       "      <th>417352</th>\n",
       "      <td>0.146164</td>\n",
       "      <td>tcp</td>\n",
       "      <td>23053.0</td>\n",
       "      <td>-&gt;</td>\n",
       "      <td>443.0</td>\n",
       "      <td>0.0</td>\n",
       "      <td>0.0</td>\n",
       "      <td>2.0</td>\n",
       "      <td>122.0</td>\n",
       "      <td>62.0</td>\n",
       "      <td>Virut</td>\n",
       "      <td>3</td>\n",
       "    </tr>\n",
       "  </tbody>\n",
       "</table>\n",
       "<p>338370 rows × 12 columns</p>\n",
       "</div>"
      ],
      "text/plain": [
       "               Dur Proto    Sport    Dir  Dport  sTos  dTos  TotPkts  \\\n",
       "923       1.000221   udp   1025.0    <->   53.0   0.0   0.0      4.0   \n",
       "1103    500.002869   tcp   1039.0     ->   80.0   0.0   0.0     14.0   \n",
       "8354      0.000218   udp   1025.0    <->   53.0   0.0   0.0      2.0   \n",
       "8611      0.000513   udp   1025.0    <->   53.0   0.0   0.0      2.0   \n",
       "8612      0.037986   tcp   1027.0     ->   80.0   0.0   0.0      7.0   \n",
       "...            ...   ...      ...    ...    ...   ...   ...      ...   \n",
       "417016    1.308413   tcp  23049.0     ->  443.0   0.0   0.0      6.0   \n",
       "417097    1.207547   tcp  23050.0     ->  443.0   0.0   0.0      6.0   \n",
       "417191    1.307525   tcp  23051.0     ->  443.0   0.0   0.0      6.0   \n",
       "417271    1.308276   tcp  23052.0     ->  443.0   0.0   0.0      6.0   \n",
       "417352    0.146164   tcp  23053.0     ->  443.0   0.0   0.0      2.0   \n",
       "\n",
       "        TotBytes  SrcBytes  label  target  \n",
       "923       1010.0     156.0  Murlo       0  \n",
       "1103      5498.0     531.0  Murlo       0  \n",
       "8354       203.0      64.0  Murlo       0  \n",
       "8611       590.0      87.0  Murlo       0  \n",
       "8612       882.0     629.0  Murlo       0  \n",
       "...          ...       ...    ...     ...  \n",
       "417016     366.0     186.0  Virut       3  \n",
       "417097     366.0     186.0  Virut       3  \n",
       "417191     366.0     186.0  Virut       3  \n",
       "417271     366.0     186.0  Virut       3  \n",
       "417352     122.0      62.0  Virut       3  \n",
       "\n",
       "[338370 rows x 12 columns]"
      ]
     },
     "execution_count": 17,
     "metadata": {},
     "output_type": "execute_result"
    }
   ],
   "source": [
    "df_only_botnets = df_botnets.drop(['StartTime', 'SrcAddr', 'DstAddr', 'State', 'Label', 'is_botnet'], axis=1).copy()\n",
    "df_only_botnets = df_only_botnets.rename(columns={'BOTNET_NAME': 'label'})\n",
    "\n",
    "df_only_botnets.compute()"
   ]
  },
  {
   "cell_type": "markdown",
   "metadata": {},
   "source": [
    "### __Definir columnas numéricas y categóricas__"
   ]
  },
  {
   "cell_type": "code",
   "execution_count": 18,
   "metadata": {},
   "outputs": [
    {
     "name": "stdout",
     "output_type": "stream",
     "text": [
      "Columnas numericas: ['Dur', 'Sport', 'Dport', 'TotPkts', 'TotBytes', 'SrcBytes']\n",
      "Columnas categoricas: ['Proto', 'dTos', 'sTos', 'Dir']\n"
     ]
    }
   ],
   "source": [
    "\n",
    "numerical_columns = ['Dur', 'Sport', 'Dport', 'TotPkts', 'TotBytes', 'SrcBytes']\n",
    "categorical_columns = list(set(df_only_botnets.columns) - set(numerical_columns))\n",
    "categorical_columns.remove('target')\n",
    "categorical_columns.remove('label')\n",
    "print(\"Columnas numericas:\", numerical_columns)\n",
    "print(\"Columnas categoricas:\", categorical_columns)"
   ]
  },
  {
   "cell_type": "markdown",
   "metadata": {},
   "source": [
    "### __Normalizar columnas numéricas__"
   ]
  },
  {
   "cell_type": "code",
   "execution_count": 19,
   "metadata": {},
   "outputs": [
    {
     "name": "stdout",
     "output_type": "stream",
     "text": [
      "Tipo de DataFrame: <class 'pandas.core.frame.DataFrame'>\n"
     ]
    },
    {
     "data": {
      "text/plain": [
       "(                 Dur     Sport         Dport   TotPkts      TotBytes  \\\n",
       " 0       6.158122e-04  0.055407  8.199873e-07  0.000687  7.242618e-04   \n",
       " 1       9.166939e-08  0.019685  9.646909e-08  0.000006  2.854290e-06   \n",
       " 2       2.676736e-01  0.102849  1.391381e-07  0.000006  1.493457e-05   \n",
       " 3       6.898538e-06  0.028367  9.646909e-08  0.000006  1.470392e-06   \n",
       " 4       3.742695e-04  0.017884  8.199873e-07  0.000028  2.205588e-06   \n",
       " ...              ...       ...           ...       ...           ...   \n",
       " 338365  3.631588e-04  0.207132  8.199873e-07  0.000028  2.205588e-06   \n",
       " 338366  0.000000e+00  0.059604  4.452420e-08  0.000000  1.441561e-08   \n",
       " 338367  1.892500e-02  0.032884  1.465588e-07  0.000970  1.043027e-03   \n",
       " 338368  5.702947e-06  0.015610  9.646909e-08  0.000006  2.169549e-06   \n",
       " 338369  4.330374e-03  0.069400  1.215121e-04  0.000170  8.198877e-05   \n",
       " \n",
       "             SrcBytes  sTos_0.0  dTos_0.0  Dir_   ->  Dir_  <->  Proto_icmp  \\\n",
       " 0       6.737135e-05         1         1          1          0           0   \n",
       " 1       6.487024e-08         1         1          0          1           0   \n",
       " 2       1.493457e-05         1         1          1          0           1   \n",
       " 3       9.370145e-08         1         1          0          1           0   \n",
       " 4       9.081833e-07         1         1          1          0           0   \n",
       " ...              ...       ...       ...        ...        ...         ...   \n",
       " 338365  9.081833e-07         1         1          1          0           0   \n",
       " 338366  1.441561e-08         1         1          1          0           0   \n",
       " 338367  7.729649e-05         1         1          1          0           0   \n",
       " 338368  2.522731e-07         1         1          0          1           0   \n",
       " 338369  4.853735e-05         1         1          1          0           0   \n",
       " \n",
       "         Proto_tcp  Proto_udp  \n",
       " 0               1          0  \n",
       " 1               0          1  \n",
       " 2               0          0  \n",
       " 3               0          1  \n",
       " 4               1          0  \n",
       " ...           ...        ...  \n",
       " 338365          1          0  \n",
       " 338366          1          0  \n",
       " 338367          1          0  \n",
       " 338368          0          1  \n",
       " 338369          1          0  \n",
       " \n",
       " [338370 rows x 13 columns],\n",
       " 0         1\n",
       " 1         1\n",
       " 2         2\n",
       " 3         1\n",
       " 4         3\n",
       "          ..\n",
       " 338365    3\n",
       " 338366    1\n",
       " 338367    1\n",
       " 338368    1\n",
       " 338369    3\n",
       " Name: target, Length: 338370, dtype: int64,\n",
       " 0         Neris\n",
       " 1         Neris\n",
       " 2          RBot\n",
       " 3         Neris\n",
       " 4         Virut\n",
       "           ...  \n",
       " 338365    Virut\n",
       " 338366    Neris\n",
       " 338367    Neris\n",
       " 338368    Neris\n",
       " 338369    Virut\n",
       " Name: label, Length: 338370, dtype: object)"
      ]
     },
     "execution_count": 19,
     "metadata": {},
     "output_type": "execute_result"
    }
   ],
   "source": [
    "# Convertir de Dask a Pandas antes de continuar\n",
    "df_only_botnets_pd = df_only_botnets.compute()\n",
    "print(\"Tipo de DataFrame:\", type(df_only_botnets_pd))\n",
    "\n",
    "# Normalizar columnas numéricas\n",
    "scaler = MinMaxScaler()\n",
    "df_only_botnets_pd[numerical_columns] = scaler.fit_transform(df_only_botnets_pd[numerical_columns])\n",
    "\n",
    "# Guardar el scaler\n",
    "pickle.dump(scaler, open(os.path.join('pklfiles', 'scaletrainBotnet.pkl'), 'wb'))\n",
    "\n",
    "# Crear y ajustar codificadores\n",
    "ohe_stos = OneHotEncoder(sparse_output=False)\n",
    "ohe_dtos = OneHotEncoder(sparse_output=False)\n",
    "ohe_dir = OneHotEncoder(sparse_output=False)\n",
    "ohe_proto = OneHotEncoder(sparse_output=False)\n",
    "\n",
    "ohe_stos.fit(df_only_botnets_pd[['sTos']])\n",
    "ohe_dtos.fit(df_only_botnets_pd[['dTos']])\n",
    "ohe_dir.fit(df_only_botnets_pd[['Dir']])\n",
    "ohe_proto.fit(df_only_botnets_pd[['Proto']])\n",
    "\n",
    "# Aplicar OneHotEncoding y concatenar con Pandas\n",
    "def apply_onehot_encoding(df, col_name, encoder):\n",
    "    encoded = encoder.transform(df[[col_name]])\n",
    "    encoded_df = pd.DataFrame(encoded, dtype='int64', columns=[f'{col_name}_{cat}' for cat in encoder.categories_[0]])\n",
    "    df = df.drop(columns=[col_name]).reset_index(drop=True)\n",
    "    return pd.concat([df, encoded_df], axis=1)\n",
    "\n",
    "# Copiar DataFrame\n",
    "encoded_df = df_only_botnets_pd.copy()\n",
    "\n",
    "# Aplicar OneHotEncoder en columnas\n",
    "encoded_df = apply_onehot_encoding(encoded_df, 'sTos', ohe_stos)\n",
    "encoded_df = apply_onehot_encoding(encoded_df, 'dTos', ohe_dtos)\n",
    "encoded_df = apply_onehot_encoding(encoded_df, 'Dir', ohe_dir)\n",
    "encoded_df = apply_onehot_encoding(encoded_df, 'Proto', ohe_proto)\n",
    "\n",
    "# Mezclar filas y resetear el índice\n",
    "encoded_df = encoded_df.sample(frac=1).reset_index(drop=True)\n",
    "\n",
    "# Separar target y label\n",
    "target = encoded_df.pop('target')\n",
    "label = encoded_df.pop('label')\n",
    "\n",
    "# Resultado final\n",
    "encoded_df, target, label"
   ]
  },
  {
   "cell_type": "code",
   "execution_count": 23,
   "metadata": {},
   "outputs": [
    {
     "data": {
      "text/html": [
       "<div>\n",
       "<style scoped>\n",
       "    .dataframe tbody tr th:only-of-type {\n",
       "        vertical-align: middle;\n",
       "    }\n",
       "\n",
       "    .dataframe tbody tr th {\n",
       "        vertical-align: top;\n",
       "    }\n",
       "\n",
       "    .dataframe thead th {\n",
       "        text-align: right;\n",
       "    }\n",
       "</style>\n",
       "<table border=\"1\" class=\"dataframe\">\n",
       "  <thead>\n",
       "    <tr style=\"text-align: right;\">\n",
       "      <th></th>\n",
       "      <th>Dur</th>\n",
       "      <th>Sport</th>\n",
       "      <th>Dport</th>\n",
       "      <th>TotPkts</th>\n",
       "      <th>TotBytes</th>\n",
       "      <th>SrcBytes</th>\n",
       "      <th>sTos_0.0</th>\n",
       "      <th>dTos_0.0</th>\n",
       "      <th>Dir_   -&gt;</th>\n",
       "      <th>Dir_  &lt;-&gt;</th>\n",
       "      <th>Proto_icmp</th>\n",
       "      <th>Proto_tcp</th>\n",
       "      <th>Proto_udp</th>\n",
       "    </tr>\n",
       "  </thead>\n",
       "  <tbody>\n",
       "    <tr>\n",
       "      <th>0</th>\n",
       "      <td>6.158122e-04</td>\n",
       "      <td>0.055407</td>\n",
       "      <td>8.199873e-07</td>\n",
       "      <td>0.000687</td>\n",
       "      <td>0.000724</td>\n",
       "      <td>6.737135e-05</td>\n",
       "      <td>1</td>\n",
       "      <td>1</td>\n",
       "      <td>1</td>\n",
       "      <td>0</td>\n",
       "      <td>0</td>\n",
       "      <td>1</td>\n",
       "      <td>0</td>\n",
       "    </tr>\n",
       "    <tr>\n",
       "      <th>1</th>\n",
       "      <td>9.166939e-08</td>\n",
       "      <td>0.019685</td>\n",
       "      <td>9.646909e-08</td>\n",
       "      <td>0.000006</td>\n",
       "      <td>0.000003</td>\n",
       "      <td>6.487024e-08</td>\n",
       "      <td>1</td>\n",
       "      <td>1</td>\n",
       "      <td>0</td>\n",
       "      <td>1</td>\n",
       "      <td>0</td>\n",
       "      <td>0</td>\n",
       "      <td>1</td>\n",
       "    </tr>\n",
       "    <tr>\n",
       "      <th>2</th>\n",
       "      <td>2.676736e-01</td>\n",
       "      <td>0.102849</td>\n",
       "      <td>1.391381e-07</td>\n",
       "      <td>0.000006</td>\n",
       "      <td>0.000015</td>\n",
       "      <td>1.493457e-05</td>\n",
       "      <td>1</td>\n",
       "      <td>1</td>\n",
       "      <td>1</td>\n",
       "      <td>0</td>\n",
       "      <td>1</td>\n",
       "      <td>0</td>\n",
       "      <td>0</td>\n",
       "    </tr>\n",
       "    <tr>\n",
       "      <th>3</th>\n",
       "      <td>6.898538e-06</td>\n",
       "      <td>0.028367</td>\n",
       "      <td>9.646909e-08</td>\n",
       "      <td>0.000006</td>\n",
       "      <td>0.000001</td>\n",
       "      <td>9.370145e-08</td>\n",
       "      <td>1</td>\n",
       "      <td>1</td>\n",
       "      <td>0</td>\n",
       "      <td>1</td>\n",
       "      <td>0</td>\n",
       "      <td>0</td>\n",
       "      <td>1</td>\n",
       "    </tr>\n",
       "    <tr>\n",
       "      <th>4</th>\n",
       "      <td>3.742695e-04</td>\n",
       "      <td>0.017884</td>\n",
       "      <td>8.199873e-07</td>\n",
       "      <td>0.000028</td>\n",
       "      <td>0.000002</td>\n",
       "      <td>9.081833e-07</td>\n",
       "      <td>1</td>\n",
       "      <td>1</td>\n",
       "      <td>1</td>\n",
       "      <td>0</td>\n",
       "      <td>0</td>\n",
       "      <td>1</td>\n",
       "      <td>0</td>\n",
       "    </tr>\n",
       "  </tbody>\n",
       "</table>\n",
       "</div>"
      ],
      "text/plain": [
       "            Dur     Sport         Dport   TotPkts  TotBytes      SrcBytes  \\\n",
       "0  6.158122e-04  0.055407  8.199873e-07  0.000687  0.000724  6.737135e-05   \n",
       "1  9.166939e-08  0.019685  9.646909e-08  0.000006  0.000003  6.487024e-08   \n",
       "2  2.676736e-01  0.102849  1.391381e-07  0.000006  0.000015  1.493457e-05   \n",
       "3  6.898538e-06  0.028367  9.646909e-08  0.000006  0.000001  9.370145e-08   \n",
       "4  3.742695e-04  0.017884  8.199873e-07  0.000028  0.000002  9.081833e-07   \n",
       "\n",
       "   sTos_0.0  dTos_0.0  Dir_   ->  Dir_  <->  Proto_icmp  Proto_tcp  Proto_udp  \n",
       "0         1         1          1          0           0          1          0  \n",
       "1         1         1          0          1           0          0          1  \n",
       "2         1         1          1          0           1          0          0  \n",
       "3         1         1          0          1           0          0          1  \n",
       "4         1         1          1          0           0          1          0  "
      ]
     },
     "execution_count": 23,
     "metadata": {},
     "output_type": "execute_result"
    }
   ],
   "source": [
    "encoded_df.head()"
   ]
  },
  {
   "cell_type": "code",
   "execution_count": 22,
   "metadata": {},
   "outputs": [
    {
     "data": {
      "text/plain": [
       "0    1\n",
       "1    1\n",
       "2    2\n",
       "3    1\n",
       "4    3\n",
       "Name: target, dtype: int64"
      ]
     },
     "execution_count": 22,
     "metadata": {},
     "output_type": "execute_result"
    }
   ],
   "source": [
    "target.head()"
   ]
  },
  {
   "cell_type": "code",
   "execution_count": 25,
   "metadata": {},
   "outputs": [
    {
     "data": {
      "text/plain": [
       "0    Neris\n",
       "1    Neris\n",
       "2     RBot\n",
       "3    Neris\n",
       "4    Virut\n",
       "Name: label, dtype: object"
      ]
     },
     "execution_count": 25,
     "metadata": {},
     "output_type": "execute_result"
    }
   ],
   "source": [
    "label.head()"
   ]
  },
  {
   "cell_type": "markdown",
   "metadata": {},
   "source": [
    "### __Generamos la matriz de caracteristicas y el vector de etiquetas en sus respectivos archivos .csv__"
   ]
  },
  {
   "cell_type": "code",
   "execution_count": 26,
   "metadata": {},
   "outputs": [],
   "source": [
    "encoded_df.to_csv(os.path.join('mlp_data', 'X_features_matrix.csv'), index=False)\n",
    "target.to_csv(os.path.join('mlp_data', 'Y_target_vector.csv'), index=False)"
   ]
  }
 ],
 "metadata": {
  "kernelspec": {
   "display_name": "Python 3",
   "language": "python",
   "name": "python3"
  },
  "language_info": {
   "codemirror_mode": {
    "name": "ipython",
    "version": 3
   },
   "file_extension": ".py",
   "mimetype": "text/x-python",
   "name": "python",
   "nbconvert_exporter": "python",
   "pygments_lexer": "ipython3",
   "version": "3.9.0"
  }
 },
 "nbformat": 4,
 "nbformat_minor": 2
}
